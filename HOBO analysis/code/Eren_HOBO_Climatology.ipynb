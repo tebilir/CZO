{
 "cells": [
  {
   "cell_type": "code",
   "execution_count": 4,
   "metadata": {},
   "outputs": [
    {
     "name": "stdout",
     "output_type": "stream",
     "text": [
      "Populating the interactive namespace from numpy and matplotlib\n"
     ]
    },
    {
     "name": "stderr",
     "output_type": "stream",
     "text": [
      "/Users/Eren/anaconda/lib/python3.5/site-packages/IPython/core/magics/pylab.py:161: UserWarning: pylab import has clobbered these variables: ['mod', 'add', 'inv', 'matmul', 'invert']\n",
      "`%matplotlib` prevents importing * from pylab and numpy\n",
      "  \"\\n`%matplotlib` prevents importing * from pylab and numpy\"\n"
     ]
    }
   ],
   "source": [
    "#python 3\n",
    "%pylab inline\n",
    "\n",
    "import numpy as np\n",
    "#from matplotlib.pyplot import plot,scatter,savefig,figure,colorbar,suptitle,close,show,subplot,rgrids, contourf, contour\n",
    "from matplotlib.mlab import csv2rec\n",
    "import matplotlib.pyplot as plt\n",
    "import datetime \n",
    "from operator import *\n",
    "from matplotlib.dates import DateFormatter\n",
    "import pickle # works for python 3.x and optimizes speed (works in Python 2.x also, but is relatively slow)\n",
    "import pandas as pd\n",
    "from pprint import pprint"
   ]
  },
  {
   "cell_type": "code",
   "execution_count": 5,
   "metadata": {},
   "outputs": [
    {
     "data": {
      "text/html": [
       "<div>\n",
       "<table border=\"1\" class=\"dataframe\">\n",
       "  <thead>\n",
       "    <tr style=\"text-align: right;\">\n",
       "      <th></th>\n",
       "      <th>RH</th>\n",
       "      <th>T</th>\n",
       "      <th>dt</th>\n",
       "    </tr>\n",
       "  </thead>\n",
       "  <tbody>\n",
       "    <tr>\n",
       "      <th>32</th>\n",
       "      <td>[74.9208668514, 74.9390485727, 74.9279375208, ...</td>\n",
       "      <td>[23.8824626467, 23.9749983232, 24.0675339998, ...</td>\n",
       "      <td>[2012-05-07 17:00:00, 2012-05-07 17:15:00, 201...</td>\n",
       "    </tr>\n",
       "    <tr>\n",
       "      <th>33</th>\n",
       "      <td>[53.6421923707, 53.9179484769, 54.1563310449, ...</td>\n",
       "      <td>[20.2955127109, 20.4548267107, 20.3632450102, ...</td>\n",
       "      <td>[2012-02-03 21:15:00, 2012-02-03 21:30:00, 201...</td>\n",
       "    </tr>\n",
       "    <tr>\n",
       "      <th>34</th>\n",
       "      <td>[30.8544350231, 30.9190811432, 31.7281677405, ...</td>\n",
       "      <td>[24.990982813, 25.3391840701, 25.5948496506, 2...</td>\n",
       "      <td>[2012-05-07 17:00:00, 2012-05-07 17:15:00, 201...</td>\n",
       "    </tr>\n",
       "    <tr>\n",
       "      <th>35</th>\n",
       "      <td>[54.3209766321, 53.8331004442, 54.2926939545, ...</td>\n",
       "      <td>[20.4090358604, 20.52255901, 20.4319312856, 20...</td>\n",
       "      <td>[2012-02-03 20:45:00, 2012-02-03 21:00:00, 201...</td>\n",
       "    </tr>\n",
       "    <tr>\n",
       "      <th>36</th>\n",
       "      <td>[98.9722538285, 99.0813441562, 99.0136677492, ...</td>\n",
       "      <td>[8.24393331216, 8.363180318, 7.95774049813, 8....</td>\n",
       "      <td>[2012-02-07 12:00:00, 2012-02-07 12:15:00, 201...</td>\n",
       "    </tr>\n",
       "  </tbody>\n",
       "</table>\n",
       "</div>"
      ],
      "text/plain": [
       "                                                   RH  \\\n",
       "32  [74.9208668514, 74.9390485727, 74.9279375208, ...   \n",
       "33  [53.6421923707, 53.9179484769, 54.1563310449, ...   \n",
       "34  [30.8544350231, 30.9190811432, 31.7281677405, ...   \n",
       "35  [54.3209766321, 53.8331004442, 54.2926939545, ...   \n",
       "36  [98.9722538285, 99.0813441562, 99.0136677492, ...   \n",
       "\n",
       "                                                    T  \\\n",
       "32  [23.8824626467, 23.9749983232, 24.0675339998, ...   \n",
       "33  [20.2955127109, 20.4548267107, 20.3632450102, ...   \n",
       "34  [24.990982813, 25.3391840701, 25.5948496506, 2...   \n",
       "35  [20.4090358604, 20.52255901, 20.4319312856, 20...   \n",
       "36  [8.24393331216, 8.363180318, 7.95774049813, 8....   \n",
       "\n",
       "                                                   dt  \n",
       "32  [2012-05-07 17:00:00, 2012-05-07 17:15:00, 201...  \n",
       "33  [2012-02-03 21:15:00, 2012-02-03 21:30:00, 201...  \n",
       "34  [2012-05-07 17:00:00, 2012-05-07 17:15:00, 201...  \n",
       "35  [2012-02-03 20:45:00, 2012-02-03 21:00:00, 201...  \n",
       "36  [2012-02-07 12:00:00, 2012-02-07 12:15:00, 201...  "
      ]
     },
     "execution_count": 5,
     "metadata": {},
     "output_type": "execute_result"
    }
   ],
   "source": [
    "A=pd.read_pickle('/Users/Eren/Desktop/data/HOBO/HOBOdata.p')\n",
    "df=pd.DataFrame(A)   # use sensorID as column heads\n",
    "df.head()"
   ]
  },
  {
   "cell_type": "code",
   "execution_count": 6,
   "metadata": {},
   "outputs": [
    {
     "data": {
      "text/plain": [
       "RH    object\n",
       "T     object\n",
       "dt    object\n",
       "dtype: object"
      ]
     },
     "execution_count": 6,
     "metadata": {},
     "output_type": "execute_result"
    }
   ],
   "source": [
    "df.dtypes"
   ]
  },
  {
   "cell_type": "code",
   "execution_count": 7,
   "metadata": {},
   "outputs": [
    {
     "name": "stdout",
     "output_type": "stream",
     "text": [
      "Index(['RH', 'T', 'dt'], dtype='object')\n"
     ]
    }
   ],
   "source": [
    "print (df.columns)"
   ]
  },
  {
   "cell_type": "code",
   "execution_count": 8,
   "metadata": {
    "scrolled": true
   },
   "outputs": [
    {
     "data": {
      "text/plain": [
       "32     [23.8824626467, 23.9749983232, 24.0675339998, ...\n",
       "33     [20.2955127109, 20.4548267107, 20.3632450102, ...\n",
       "34     [24.990982813, 25.3391840701, 25.5948496506, 2...\n",
       "35     [20.4090358604, 20.52255901, 20.4319312856, 20...\n",
       "36     [8.24393331216, 8.363180318, 7.95774049813, 8....\n",
       "37     [24.9680873879, 25.2924392438, 25.5252093992, ...\n",
       "38     [23.9749983232, 24.459618155, 24.644689508, 24...\n",
       "39     [23.6525544194, 23.7221946708, 23.8137763713, ...\n",
       "40     [8.02928870164, 8.00543930047, 8.07698750398, ...\n",
       "41     [20.3403495851, 20.2497218606, 20.1590941362, ...\n",
       "42     [23.8137763713, 23.8824626467, 23.9978937483, ...\n",
       "43     [8.17238510865, 8.05313810281, 8.10083690515, ...\n",
       "44     [7.93389109696, 7.95774049813, 7.9815898993, 8...\n",
       "45     [8.05313810281, 8.05313810281, 8.14853570748, ...\n",
       "46     [24.2516513768, 24.4128733287, 24.5521538315, ...\n",
       "47     [20.1133032859, 20.0684664117, 19.9997801364, ...\n",
       "48     [24.7830160348, 25.0844724656, 25.2924392438, ...\n",
       "49     [20.52255901, 20.3403495851, 20.2039310104, 20...\n",
       "50     [24.8755517114, 25.1999035673, 25.3859288964, ...\n",
       "51     [24.5054090052, 24.6904803583, 24.8755517114, ...\n",
       "52     [7.83753951624, 7.83753951624, 7.90908771975, ...\n",
       "53     [24.2516513768, 24.4128733287, 24.5283044303, ...\n",
       "54     [24.2287559517, 24.3212916282, 24.4825135801, ...\n",
       "56     [20.3632450102, 20.1361987111, 19.9997801364, ...\n",
       "57     [24.6208401069, 24.5054090052, 24.4128733287, ...\n",
       "58     [24.3670824784, 24.5054090052, 24.6675849332, ...\n",
       "59     [24.3670824784, 24.5750492566, 24.7601206097, ...\n",
       "60     [25.0606230644, 25.3859288964, 25.5948496506, ...\n",
       "61     [24.6208401069, 24.8288068851, 25.0606230644, ...\n",
       "62     [24.2516513768, 24.4128733287, 24.5979446817, ...\n",
       "63     [23.8824626467, 23.929207473, 24.0207891735, 2...\n",
       "64     [20.9776055843, 20.9776055843, 21.3420244342, ...\n",
       "65     [23.929207473, 24.0436845986, 24.1362202751, 2...\n",
       "66     [24.6208401069, 24.8526562862, 25.0606230644, ...\n",
       "795    [5.78485722069, 5.59014848617, 5.97956595521, ...\n",
       "796    [5.07596619694, 5.63929826381, 6.12512491209, ...\n",
       "797    [5.10054108576, 5.59014848617, 6.00414084404, ...\n",
       "798    [6.00414084404, 5.85858188716, 6.12512491209, ...\n",
       "799    [5.00224153047, 6.39166793702, 6.60811599627, ...\n",
       "800    [5.90678647678, 5.68750285343, 6.17332950171, ...\n",
       "803    [5.05139130812, 6.07692032248, 6.80093435473, ...\n",
       "804    [5.10054108576, 5.61472337499, 6.07692032248, ...\n",
       "807    [5.83400699834, 5.63929826381, 5.9313613656, 6...\n",
       "808    [5.05139130812, 6.75272976512, 6.92097323476, ...\n",
       "809    [5.12511597459, 6.17332950171, 6.82456405553, ...\n",
       "810    [5.14969086341, 5.63929826381, 6.07692032248, ...\n",
       "Name: T, dtype: object"
      ]
     },
     "execution_count": 8,
     "metadata": {},
     "output_type": "execute_result"
    }
   ],
   "source": [
    "#learn df.ix command: see what this does\n",
    "df.ix[:,1]"
   ]
  },
  {
   "cell_type": "code",
   "execution_count": 16,
   "metadata": {},
   "outputs": [
    {
     "data": {
      "text/plain": [
       "array([ 23.88246265,  23.97499832,  24.067534  , ...,  30.26360842,\n",
       "        30.38476338,  30.06995129])"
      ]
     },
     "execution_count": 16,
     "metadata": {},
     "output_type": "execute_result"
    }
   ],
   "source": [
    "#pick out a single sensor\n",
    "df.ix[:,1][0]"
   ]
  },
  {
   "cell_type": "code",
   "execution_count": 15,
   "metadata": {},
   "outputs": [
    {
     "data": {
      "image/png": "[encoded data removed]",
      "text/plain": [
       "<matplotlib.figure.Figure at 0x113706e48>"
      ]
     },
     "metadata": {},
     "output_type": "display_data"
    }
   ],
   "source": [
    "#Plot for a single sensor\n",
    "fig = plt.figure(figsize=(18,6)) \n",
    "plt.plot(df.ix[:,2][0], df.ix[:,1][0])\n",
    "plt.title('sensor 32')\n",
    "plt.ylabel(df.columns[1])\n",
    "plt.grid()"
   ]
  },
  {
   "cell_type": "code",
   "execution_count": 11,
   "metadata": {},
   "outputs": [
    {
     "data": {
      "text/plain": [
       "7282"
      ]
     },
     "execution_count": 11,
     "metadata": {},
     "output_type": "execute_result"
    }
   ],
   "source": [
    "#get start date of sensor 32 \n",
    "df.ix[:,2][0][0]\n",
    "#May 7 17:00"
   ]
  },
  {
   "cell_type": "code",
   "execution_count": 12,
   "metadata": {},
   "outputs": [
    {
     "data": {
      "text/plain": [
       "7282"
      ]
     },
     "execution_count": 12,
     "metadata": {},
     "output_type": "execute_result"
    }
   ],
   "source": [
    "#get length of sensor 32 deployment:\n",
    "len(df.ix[:,2][0])"
   ]
  },
  {
   "cell_type": "code",
   "execution_count": 14,
   "metadata": {},
   "outputs": [
    {
     "data": {
      "text/plain": [
       "datetime.datetime(2012, 7, 22, 13, 15)"
      ]
     },
     "execution_count": 14,
     "metadata": {},
     "output_type": "execute_result"
    }
   ],
   "source": [
    "#get last date of sensor 32\n",
    "df.ix[:,2][0][7281] #one less than length because counting starts at 0\n",
    "#July 22 at 13:15"
   ]
  },
  {
   "cell_type": "code",
   "execution_count": 16,
   "metadata": {},
   "outputs": [
    {
     "name": "stdout",
     "output_type": "stream",
     "text": [
      "15.2816746534\n"
     ]
    }
   ],
   "source": [
    "#Figuring out which functions to use: Try averaging T for entire sensor 32 deployment:\n",
    "Av32T=np.mean(df.ix[:,1][0])\n",
    "print(Av32T)"
   ]
  },
  {
   "cell_type": "code",
   "execution_count": 17,
   "metadata": {},
   "outputs": [
    {
     "name": "stdout",
     "output_type": "stream",
     "text": [
      "[  8.60078799   8.69332367   8.78585935 ...,  14.98193377  15.10308873\n",
      "  14.78827663]\n"
     ]
    }
   ],
   "source": [
    "#Figuring out which functions to use: Try to get the anomaly (departure from mean) for the sensor 32 deployment \n",
    "An32T=df.ix[:,1][0]-np.mean(df.ix[:,1][0])\n",
    "print(An32T)"
   ]
  },
  {
   "cell_type": "code",
   "execution_count": 18,
   "metadata": {},
   "outputs": [
    {
     "data": {
      "image/png": "[encoded data removed]",
      "text/plain": [
       "<matplotlib.figure.Figure at 0x113cf85c0>"
      ]
     },
     "metadata": {},
     "output_type": "display_data"
    }
   ],
   "source": [
    "#plot the anomaly for sensor 32 to make sure it looks as we expect: everything should be shifted down by 15.28 degrees\n",
    "fig = plt.figure(figsize=(18,6)) \n",
    "plt.plot(df.ix[:,2][0], An32T)\n",
    "plt.title('sensor 32 anomaly plot')\n",
    "plt.ylabel(df.columns[1])\n",
    "plt.grid()\n",
    "#looks good"
   ]
  },
  {
   "cell_type": "code",
   "execution_count": 22,
   "metadata": {},
   "outputs": [
    {
     "data": {
      "text/plain": [
       "datetime.datetime(2012, 5, 11, 0, 0)"
      ]
     },
     "execution_count": 22,
     "metadata": {},
     "output_type": "execute_result"
    }
   ],
   "source": [
    "#Now we need to group by hour. That means every 4 elements because these are 15-minute samples,\n",
    "#and for convenience start with 00:00. Also, from previous analyses we know to start looking \n",
    "#at May 11. So find index of May 11 00:00:\n",
    "df.ix[:,2][0][316]\n"
   ]
  },
  {
   "cell_type": "code",
   "execution_count": 24,
   "metadata": {},
   "outputs": [
    {
     "data": {
      "text/plain": [
       "6965"
      ]
     },
     "execution_count": 24,
     "metadata": {},
     "output_type": "execute_result"
    }
   ],
   "source": [
    "#Make a new sensor 32 T string: \n",
    "T32=df.ix[:,1][0][316:7281]\n",
    "len(T32)"
   ]
  },
  {
   "cell_type": "code",
   "execution_count": 73,
   "metadata": {},
   "outputs": [
    {
     "data": {
      "text/plain": [
       "6964"
      ]
     },
     "execution_count": 73,
     "metadata": {},
     "output_type": "execute_result"
    }
   ],
   "source": [
    "#delete the last value to make it divisible by 4: \n",
    "T32=df.ix[:,1][0][316:7280]\n",
    "#And do the same for RH from sensor 32 (leaving out DT for now)\n",
    "RH32=df.ix[:,0][0][316:7280]\n",
    "len(T32)"
   ]
  },
  {
   "cell_type": "code",
   "execution_count": 74,
   "metadata": {},
   "outputs": [
    {
     "name": "stdout",
     "output_type": "stream",
     "text": [
      "[[  9.45357494   9.38202674   9.14639465   8.86210979]\n",
      " [  8.64841916   8.41087912   8.14853571   8.0769875 ]\n",
      " [  7.83753952   7.59809153   7.47789055   7.33288619]\n",
      " ..., \n",
      " [ 24.11332485  25.57195423  26.13098419  27.13838289]\n",
      " [ 27.82238372  28.46345562  28.86889544  29.32298804]\n",
      " [ 29.17989163  29.5156912   30.09380069  30.26360842]]\n"
     ]
    }
   ],
   "source": [
    "#now we want to reshape so that every 4 elements go onto their own row\n",
    "HourShapeT32=T32.reshape(1741,4)\n",
    "HourShapeRH32=RH32.reshape(1741,4)\n",
    "#HourShapeDT32=DT32.reshape(1741,4)\n",
    "print(HourShapeT32)\n",
    "#Note, Inez points out that this approach fails in the case of a missing value. Her way is better, which is to start\n",
    "#off by totally reshaping the entire dataframe. We will do that later."
   ]
  },
  {
   "cell_type": "code",
   "execution_count": 108,
   "metadata": {},
   "outputs": [],
   "source": [
    "#For T & RH, we want to get the mean of every entry. \n",
    "#Axis=1 means it will take mean across rows, not columns. 0 for columns if desired. \n",
    "HourlyMeanT32=numpy.mean(HourShapeT32, axis=1) \n",
    "HourlyMeanRH32=numpy.mean(HourShapeRH32, axis=1)\n",
    "#For datetime, we just want to take the first datetime stamp (as averaging doesn't make sense)\n",
    "HourlyDT32=DT32[::4] #This command takes every fourth value starting with the first one."
   ]
  },
  {
   "cell_type": "code",
   "execution_count": 78,
   "metadata": {},
   "outputs": [
    {
     "name": "stdout",
     "output_type": "stream",
     "text": [
      "[datetime.datetime(2012, 5, 11, 0, 0) datetime.datetime(2012, 5, 11, 1, 0)\n",
      " datetime.datetime(2012, 5, 11, 2, 0) ...,\n",
      " datetime.datetime(2012, 7, 22, 10, 0)\n",
      " datetime.datetime(2012, 7, 22, 11, 0)\n",
      " datetime.datetime(2012, 7, 22, 12, 0)]\n"
     ]
    }
   ],
   "source": [
    "#Make sure this did what was desired:\n",
    "print(HourlyDT32)"
   ]
  },
  {
   "cell_type": "code",
   "execution_count": 83,
   "metadata": {},
   "outputs": [
    {
     "name": "stdout",
     "output_type": "stream",
     "text": [
      "[  9.21102653   8.32120537   7.56160194 ...,  25.73866154  28.61943071\n",
      "  29.76324799]\n"
     ]
    }
   ],
   "source": [
    "print(HourlyMeanT32)"
   ]
  },
  {
   "cell_type": "code",
   "execution_count": 109,
   "metadata": {},
   "outputs": [
    {
     "data": {
      "text/plain": [
       "(1741,)"
      ]
     },
     "execution_count": 109,
     "metadata": {},
     "output_type": "execute_result"
    }
   ],
   "source": [
    "#Make sure all are same shape:\n",
    "shape(HourlyDT32)"
   ]
  },
  {
   "cell_type": "code",
   "execution_count": 80,
   "metadata": {},
   "outputs": [
    {
     "data": {
      "text/plain": [
       "(1741,)"
      ]
     },
     "execution_count": 80,
     "metadata": {},
     "output_type": "execute_result"
    }
   ],
   "source": [
    "shape(HourlyMeanT32)"
   ]
  },
  {
   "cell_type": "code",
   "execution_count": 81,
   "metadata": {},
   "outputs": [
    {
     "data": {
      "text/plain": [
       "(1741,)"
      ]
     },
     "execution_count": 81,
     "metadata": {},
     "output_type": "execute_result"
    }
   ],
   "source": [
    "shape(HourlyMeanRH32)"
   ]
  },
  {
   "cell_type": "code",
   "execution_count": 119,
   "metadata": {},
   "outputs": [
    {
     "name": "stdout",
     "output_type": "stream",
     "text": [
      "[  9.21102653   8.32120537   7.56160194   6.92291498   6.10225709\n",
      "   5.55085893   6.31451676  10.19052144  15.2897619   21.10996976\n",
      "  24.1951283   26.13790052  26.96857516  26.83334905  27.31510696\n",
      "  26.8273867   26.38808073  25.37996655  23.13693037  19.02410113\n",
      "  16.1581186   14.03194448  12.01356966  10.37416182]\n"
     ]
    }
   ],
   "source": [
    "#Now, we want to group these by day. That means every 24 entries belong to a day. We'll\n",
    "#us the trick of reshaping again. \n",
    "#First, 1741 is not divisible by 24, but 1728 is. So we'll delete the 13 last entries for each:\n",
    "TrimHourlyDT32=HourlyDT32[0:1728]\n",
    "TrimHourlyMeanT32=HourlyMeanT32[0:1728]\n",
    "TrimHourlyMeanRH32=HourlyMeanRH32[0:1728]\n",
    "#Now, group by 24:\n",
    "DayShapeT32=TrimHourlyMeanT32.reshape(72,24)\n",
    "DayShapeRH32=TrimHourlyMeanRH32.reshape(72,24)\n",
    "#Make sure it looks okay: \n",
    "print(DayShapeT32[0][0:24])"
   ]
  },
  {
   "cell_type": "code",
   "execution_count": 120,
   "metadata": {},
   "outputs": [
    {
     "name": "stdout",
     "output_type": "stream",
     "text": [
      "[  9.21102653   8.32120537   7.56160194   6.92291498   6.10225709\n",
      "   5.55085893   6.31451676  10.19052144  15.2897619   21.10996976\n",
      "  24.1951283   26.13790052  26.96857516  26.83334905  27.31510696\n",
      "  26.8273867   26.38808073  25.37996655  23.13693037  19.02410113\n",
      "  16.1581186   14.03194448  12.01356966  10.37416182]\n"
     ]
    }
   ],
   "source": [
    "#compare to previous format of data to make sure nothing happened while reshaping and trimming:\n",
    "print(HourlyMeanT32[0:24])\n",
    "#looks good. "
   ]
  },
  {
   "cell_type": "code",
   "execution_count": 123,
   "metadata": {},
   "outputs": [
    {
     "name": "stdout",
     "output_type": "stream",
     "text": [
      "[ 10.68735746  10.09162923   9.58063594   9.08583042   8.65949919\n",
      "   8.44451671   9.13698408  11.39085186  14.83864385  18.24144991\n",
      "  20.38232453  21.35442281  21.70881166  21.82009893  21.80699832\n",
      "  21.38273735  20.8063967   19.70831727  18.19267126  16.09542448\n",
      "  14.3880856   13.11939683  12.17236692  11.4405613 ]\n"
     ]
    }
   ],
   "source": [
    "#Now, average each hour of the day across all days (i.e. columnwise, so \"axis=0\"):\n",
    "HourlyClimateT32=numpy.mean(DayShapeT32,axis=0)\n",
    "HourlyClimateRH32=numpy.mean(DayShapeRH32,axis=0)\n",
    "#Instead of datetime, for this just make a vector 0-23\n",
    "Hour=[0,1,2,3,4,5,6,7,8,9,10,11,12,13,14,15,16,17,18,19,20,21,22,23]\n",
    "#check looks okay\n",
    "print(HourlyClimateT32)\n"
   ]
  },
  {
   "cell_type": "code",
   "execution_count": 124,
   "metadata": {},
   "outputs": [
    {
     "data": {
      "image/png": "[encoded data removed]",
      "text/plain": [
       "<matplotlib.figure.Figure at 0x113cf8160>"
      ]
     },
     "metadata": {},
     "output_type": "display_data"
    }
   ],
   "source": [
    "#look at T climatology in a plot:\n",
    "fig = plt.figure(figsize=(18,6)) \n",
    "plt.plot(Hour, HourlyClimateT32)\n",
    "plt.title('sensor 32 hourly climatology plot, T')\n",
    "plt.ylabel('Temperature by hour, May11-July21')\n",
    "plt.xlabel('Hour')\n",
    "plt.grid()"
   ]
  },
  {
   "cell_type": "code",
   "execution_count": 125,
   "metadata": {},
   "outputs": [
    {
     "data": {
      "image/png": "[encoded data removed]",
      "text/plain": [
       "<matplotlib.figure.Figure at 0x10e4a4ba8>"
      ]
     },
     "metadata": {},
     "output_type": "display_data"
    }
   ],
   "source": [
    "#look at RH climatology:\n",
    "fig = plt.figure(figsize=(18,6)) \n",
    "plt.plot(Hour, HourlyClimateRH32)\n",
    "plt.title('sensor 32 hourly climatology plot, RH')\n",
    "plt.ylabel('RH by hour, May11-July21')\n",
    "plt.xlabel('Hour')\n",
    "plt.grid()"
   ]
  },
  {
   "cell_type": "code",
   "execution_count": 137,
   "metadata": {},
   "outputs": [
    {
     "data": {
      "text/plain": [
       "array([datetime.datetime(2012, 2, 7, 12, 15),\n",
       "       datetime.datetime(2012, 2, 7, 12, 30),\n",
       "       datetime.datetime(2012, 2, 7, 12, 45), ...,\n",
       "       datetime.datetime(2012, 9, 15, 9, 30),\n",
       "       datetime.datetime(2012, 9, 15, 9, 45),\n",
       "       datetime.datetime(2012, 9, 15, 10, 0)], dtype=object)"
      ]
     },
     "execution_count": 137,
     "metadata": {},
     "output_type": "execute_result"
    }
   ],
   "source": [
    "#Do the same for sensor 45: what is the start date\n",
    "df.ix[:,2][13]\n",
    "#Feb 7"
   ]
  },
  {
   "cell_type": "code",
   "execution_count": 138,
   "metadata": {},
   "outputs": [
    {
     "data": {
      "text/plain": [
       "21206"
      ]
     },
     "execution_count": 138,
     "metadata": {},
     "output_type": "execute_result"
    }
   ],
   "source": [
    "#What is the end date\n",
    "len(df.ix[:,2][13])"
   ]
  },
  {
   "cell_type": "code",
   "execution_count": 141,
   "metadata": {},
   "outputs": [
    {
     "data": {
      "text/plain": [
       "datetime.datetime(2012, 9, 15, 10, 0)"
      ]
     },
     "execution_count": 141,
     "metadata": {},
     "output_type": "execute_result"
    }
   ],
   "source": [
    "#what is the end date\n",
    "df.ix[:,2][13][21205]\n",
    "#Sep 15"
   ]
  },
  {
   "cell_type": "code",
   "execution_count": 148,
   "metadata": {},
   "outputs": [
    {
     "data": {
      "text/plain": [
       "datetime.datetime(2012, 5, 11, 0, 0)"
      ]
     },
     "execution_count": 148,
     "metadata": {},
     "output_type": "execute_result"
    }
   ],
   "source": [
    "#Find May 11 00:00\n",
    "df.ix[:,2][13][8973]"
   ]
  },
  {
   "cell_type": "code",
   "execution_count": 160,
   "metadata": {},
   "outputs": [
    {
     "data": {
      "text/plain": [
       "datetime.datetime(2012, 7, 21, 23, 45)"
      ]
     },
     "execution_count": 160,
     "metadata": {},
     "output_type": "execute_result"
    }
   ],
   "source": [
    "#Find July 21 23:45\n",
    "df.ix[:,2][13][15884]"
   ]
  },
  {
   "cell_type": "code",
   "execution_count": 165,
   "metadata": {},
   "outputs": [
    {
     "data": {
      "text/plain": [
       "6912"
      ]
     },
     "execution_count": 165,
     "metadata": {},
     "output_type": "execute_result"
    }
   ],
   "source": [
    "#Make a trimmed version: \n",
    "DT45=df.ix[:,2][13][8973:15885]\n",
    "T45=df.ix[:,1][13][8973:15885]\n",
    "RH45=df.ix[:,0][13][8973:15885]\n",
    "#Check it's the right length:\n",
    "len(DT45)"
   ]
  },
  {
   "cell_type": "code",
   "execution_count": 167,
   "metadata": {},
   "outputs": [],
   "source": [
    "#group by hour (every 4 meansurements)\n",
    "HourShapeT45=T45.reshape(1728,4)\n",
    "HourShapeRH45=RH45.reshape(1728,4)\n",
    "#Average over the hour\n",
    "HourlyMeanT45=numpy.mean(HourShapeT45, axis=1) \n",
    "HourlyMeanRH45=numpy.mean(HourShapeRH45, axis=1)\n",
    "HourlyDT45=DT45[::4]\n",
    "#Now group by day\n",
    "DayShapeT45=HourlyMeanT45.reshape(72,24)\n",
    "DayShapeRH45=HourlyMeanRH45.reshape(72,24)\n",
    "#Now average over hours of the day to get climatology for each hour\n",
    "HourlyClimateT45=numpy.mean(DayShapeT45,axis=0)\n",
    "HourlyClimateRH45=numpy.mean(DayShapeRH45,axis=0)\n",
    "#Instead of datetime, for this just make a vector 0-23\n",
    "Hour=[0,1,2,3,4,5,6,7,8,9,10,11,12,13,14,15,16,17,18,19,20,21,22,23]"
   ]
  },
  {
   "cell_type": "code",
   "execution_count": null,
   "metadata": {
    "collapsed": true
   },
   "outputs": [],
   "source": []
  },
  {
   "cell_type": "code",
   "execution_count": 170,
   "metadata": {
    "scrolled": true
   },
   "outputs": [
    {
     "data": {
      "image/png": "[encoded data removed]",
      "text/plain": [
       "<matplotlib.figure.Figure at 0x11426b438>"
      ]
     },
     "metadata": {},
     "output_type": "display_data"
    }
   ],
   "source": [
    "#Now make a plot\n",
    "fig = plt.figure(figsize=(18,6)) \n",
    "plt.plot(Hour, HourlyClimateT45)\n",
    "plt.title('sensor 45 hourly climatology plot, T')\n",
    "plt.ylabel('T by hour, May11-July21')\n",
    "plt.xlabel('Hour')\n",
    "plt.grid()"
   ]
  },
  {
   "cell_type": "code",
   "execution_count": 173,
   "metadata": {},
   "outputs": [
    {
     "data": {
      "image/png": "[encoded data removed]",
      "text/plain": [
       "<matplotlib.figure.Figure at 0x10ed76c50>"
      ]
     },
     "metadata": {},
     "output_type": "display_data"
    }
   ],
   "source": [
    "#Plot difference\n",
    "fig = plt.figure(figsize=(18,6)) \n",
    "plt.plot(Hour, HourlyClimateT32-HourlyClimateT45)\n",
    "plt.title('between-slope climatology, South minus North midslope @ 15m height, T')\n",
    "plt.ylabel('T difference by hour, averaged over May11-July21')\n",
    "plt.xlabel('Hour')\n",
    "plt.grid()"
   ]
  },
  {
   "cell_type": "code",
   "execution_count": 174,
   "metadata": {},
   "outputs": [
    {
     "data": {
      "image/png": "[encoded data removed]",
      "text/plain": [
       "<matplotlib.figure.Figure at 0x114fb3b70>"
      ]
     },
     "metadata": {},
     "output_type": "display_data"
    }
   ],
   "source": [
    "#Plot difference\n",
    "fig = plt.figure(figsize=(18,6)) \n",
    "plt.plot(Hour, HourlyClimateRH32-HourlyClimateRH45)\n",
    "plt.title('between-slope climatology, South minus North midslope @ 15m height, RH')\n",
    "plt.ylabel('RH difference by hour, averaged over May11-July21')\n",
    "plt.xlabel('Hour')\n",
    "plt.grid()"
   ]
  },
  {
   "cell_type": "code",
   "execution_count": 177,
   "metadata": {},
   "outputs": [
    {
     "data": {
      "text/plain": [
       "array([  8.72545272,   7.71113769,   6.97729162,   6.33431176,\n",
       "         5.51985471,   5.12514712,   5.76884246,   9.3915665 ,\n",
       "        14.75935122,  21.40761029,  24.26357608,  25.81068673,\n",
       "        26.63349107,  26.58102239,  26.74534476,  26.76275483,\n",
       "        26.44627327,  27.22996459,  23.3229557 ,  17.80992812,\n",
       "        14.8714434 ,  12.7288132 ,  10.95775667,   9.5468261 ])"
      ]
     },
     "execution_count": 177,
     "metadata": {},
     "output_type": "execute_result"
    }
   ],
   "source": [
    "DayShapeT45[0]"
   ]
  },
  {
   "cell_type": "code",
   "execution_count": 178,
   "metadata": {},
   "outputs": [
    {
     "data": {
      "text/plain": [
       "array([  6.29758368,   5.61811424,   4.9827662 ,   4.52915059,\n",
       "         4.14135932,   3.87806193,   4.73210899,   8.20553578,\n",
       "        11.19076532,  12.38919773,  13.08011488,  12.99449553,\n",
       "        12.93701847,  13.52275977,  13.71117004,  12.94846619,\n",
       "        12.97732396,  13.11302705,  11.28759389,   9.11062055,\n",
       "         8.33336857,   7.96918821,   7.4836144 ,   6.95248824])"
      ]
     },
     "execution_count": 178,
     "metadata": {},
     "output_type": "execute_result"
    }
   ],
   "source": [
    "DayShapeT45[13]"
   ]
  },
  {
   "cell_type": "code",
   "execution_count": 132,
   "metadata": {
    "scrolled": true
   },
   "outputs": [
    {
     "name": "stdout",
     "output_type": "stream",
     "text": [
      "7282\n",
      "21552\n",
      "12562\n",
      "21553\n",
      "21207\n",
      "12563\n",
      "12562\n",
      "7281\n",
      "21207\n",
      "21552\n",
      "7281\n",
      "21206\n",
      "21206\n",
      "21206\n",
      "7281\n",
      "21553\n",
      "12562\n",
      "21553\n",
      "12561\n",
      "12561\n",
      "21206\n",
      "7281\n",
      "12552\n",
      "21571\n",
      "12566\n",
      "12552\n",
      "12562\n",
      "12562\n",
      "12551\n",
      "12551\n",
      "7282\n",
      "12388\n",
      "7282\n",
      "12563\n",
      "46369\n",
      "46363\n",
      "46367\n",
      "46368\n",
      "46366\n",
      "46370\n",
      "46366\n",
      "46365\n",
      "46369\n",
      "46367\n",
      "46366\n",
      "46367\n"
     ]
    }
   ],
   "source": [
    "#Now, next we want to put all the steps we've learned into a big for-loop so we can get \n",
    "#climatology for all sensors. There is one snag: the sensors are not all deployed for the same \n",
    "#amount of time. See: \n",
    "for ss in range(0,46):\n",
    "    print(len(df.ix[:,2][ss]))\n"
   ]
  },
  {
   "cell_type": "code",
   "execution_count": null,
   "metadata": {},
   "outputs": [],
   "source": [
    "#To do this i will just start afresh, starting from Jiabin's processing code, with my own comments added: \n",
    "df2=pd.DataFrame(A).transpose()\n",
    "df2.head()"
   ]
  },
  {
   "cell_type": "code",
   "execution_count": 237,
   "metadata": {
    "collapsed": true
   },
   "outputs": [],
   "source": [
    "#Now use a dictionary to organize the contents of this dataframe (df2):\n",
    "#this dictionary has sensor IDs as keys, and (treename,tree specifications) as values\n",
    "#for example, IDsensor['798']=('Kevin,'1-1')\n",
    "IDsensor={'798':('Kevin','1-1'), '807':('Kevin','1-2'), '795':('Kevin','1-3'),  '800':('Kevin','1-4'), \n",
    "           '797':('Kevin','2-1'), '810':('Kevin','2-2'), '810':('Kevin','2-3'),  '796':('Kevin','2-4'),\n",
    "           '799':('S','-1'),      '808':('S','-2'), '803':('S','-3'), '809':('S','-4'),\n",
    "           '40':('ILean','30m'),  '52':('ILean','25m'), '44':('ILean','20m'),\n",
    "           '45':('ILean','15m'),  '43':('ILean','10m'), '36':('ILean', '5m'),\n",
    "           '47':('FT','28m'),     '56':('FT','22m'),  '35':('FT','17m'),\n",
    "           '41':('FT','12m'), '33':('FT','7m'), '49':('FT','2m'),\n",
    "           '62':('Ursula','25m'), '58':('Ursula','20m'), '54':('Ursula','15m'),\n",
    "           '61':('Ursula','10m'), '42':('Ursula','5m'),\n",
    "           '59':('SMM','17.5m'),'32':('SMM', '15m'), '60':('SMM', '10m'), '48':('SMM','5m'),\n",
    "           '34':('SMM', '2.5m'), '63':('SMU', '17.5m'),'37':('SMU','15m'),'66':('SMU','10m'),\n",
    "           '65':('SMU', '7.5m'), '64':('SMU','5m'),\n",
    "           '39':('Freddie','12m'), '46':('Freddie', '6m'),\n",
    "           '38':('road between well 6 and well 5','N/A'),\n",
    "           '57':('near well 15, top of ridge','N/A')}"
   ]
  },
  {
   "cell_type": "code",
   "execution_count": 238,
   "metadata": {},
   "outputs": [
    {
     "data": {
      "text/plain": [
       "'7.5'"
      ]
     },
     "execution_count": 238,
     "metadata": {},
     "output_type": "execute_result"
    }
   ],
   "source": [
    "#write a function to extract the number from a string, so that we can sort the sensors for a tree by its height\n",
    "import re\n",
    "def extract_number(s):\n",
    "    return re.match(r'(-?\\d+(\\.\\d+)?)', s).group(0)\n",
    "#example:\n",
    "extract_number('7.5m')"
   ]
  },
  {
   "cell_type": "code",
   "execution_count": 239,
   "metadata": {},
   "outputs": [
    {
     "data": {
      "text/plain": [
       "['54', '42', '62', '61', '58']"
      ]
     },
     "execution_count": 239,
     "metadata": {},
     "output_type": "execute_result"
    }
   ],
   "source": [
    "#this function takes the name of a tree, e.g. 'Kevin', and return a list of sensor IDs that measure Kevin. \n",
    "def get_tree_sensorIDs(input_treename):\n",
    "    tree_numbers=[]\n",
    "    for sensornumber,(treename,treespecs) in IDsensor.items():\n",
    "        if treename==input_treename:\n",
    "            tree_numbers.append(sensornumber)\n",
    "    return tree_numbers\n",
    "    #tree_numbers_sorted=sorted(tree_numbers) #sort the ID numbers in order. not sure whether useful. \n",
    "    #return tree_numbers_sorted\n",
    "#try this example\n",
    "get_tree_sensorIDs('Ursula')"
   ]
  },
  {
   "cell_type": "code",
   "execution_count": 243,
   "metadata": {},
   "outputs": [
    {
     "data": {
      "text/plain": [
       "['54', '42', '62', '61', '58']"
      ]
     },
     "execution_count": 243,
     "metadata": {},
     "output_type": "execute_result"
    }
   ],
   "source": [
    "#this function takes the name of a tree, e.g. 'Kevin', and return a list of sensor IDs that measure Kevin.\n",
    "#the sensor numbers are ordered by height. should use this function if the order of height matters. \n",
    "def get_tree_sensorIDs_by_height(input_treename):\n",
    "    tree_numbers_specs={}\n",
    "    tree_numbers=[]\n",
    "    for sensornumber,(treename,treespecs) in IDsensor.items():\n",
    "        if treename==input_treename: \n",
    "            tree_numbers_specs[sensornumber]=float(extract_number(treespecs))\n",
    "    sorted_by_height=sorted(tree_numbers_specs.items(), key=lambda x: x[1])\n",
    "    ID_sorted_by_height=[item[0] for item in sorted_by_height]\n",
    "    return ID_sorted_by_height\n",
    "#try this example\n",
    "get_tree_sensorIDs('Ursula')\n",
    "#note the different in results from the last cell"
   ]
  },
  {
   "cell_type": "code",
   "execution_count": 241,
   "metadata": {
    "collapsed": true
   },
   "outputs": [],
   "source": [
    "#this function grabs the whole dataset corresponding to one specific tree\n",
    "def get_tree_table(input_treename):\n",
    "    df2new=df2[get_tree_sensorIDs_by_height(input_treename)]\n",
    "    #dfnew.columns=[IDsensor[x] for x in list(dfnew.columns.values)]\n",
    "    return df2new"
   ]
  },
  {
   "cell_type": "code",
   "execution_count": 242,
   "metadata": {},
   "outputs": [
    {
     "data": {
      "text/html": [
       "<div>\n",
       "<table border=\"1\" class=\"dataframe\">\n",
       "  <thead>\n",
       "    <tr style=\"text-align: right;\">\n",
       "      <th></th>\n",
       "      <th>42</th>\n",
       "      <th>61</th>\n",
       "      <th>54</th>\n",
       "      <th>58</th>\n",
       "      <th>62</th>\n",
       "    </tr>\n",
       "  </thead>\n",
       "  <tbody>\n",
       "    <tr>\n",
       "      <th>RH</th>\n",
       "      <td>[74.8168270018, 74.8016755674, 74.7067265784, ...</td>\n",
       "      <td>[32.3907904719, 32.8524041735, 33.3837144734, ...</td>\n",
       "      <td>[37.3523801923, 37.4958137713, 38.1493456421, ...</td>\n",
       "      <td>[34.7412829962, 34.5180518626, 34.9725948948, ...</td>\n",
       "      <td>[33.2402808943, 34.0008829015, 34.4251230649, ...</td>\n",
       "    </tr>\n",
       "    <tr>\n",
       "      <th>T</th>\n",
       "      <td>[23.8137763713, 23.8824626467, 23.9978937483, ...</td>\n",
       "      <td>[24.6208401069, 24.8288068851, 25.0606230644, ...</td>\n",
       "      <td>[24.2287559517, 24.3212916282, 24.4825135801, ...</td>\n",
       "      <td>[24.3670824784, 24.5054090052, 24.6675849332, ...</td>\n",
       "      <td>[24.2516513768, 24.4128733287, 24.5979446817, ...</td>\n",
       "    </tr>\n",
       "    <tr>\n",
       "      <th>dt</th>\n",
       "      <td>[2012-05-07 17:00:00, 2012-05-07 17:15:00, 201...</td>\n",
       "      <td>[2012-05-07 17:00:00, 2012-05-07 17:15:00, 201...</td>\n",
       "      <td>[2012-05-07 17:00:00, 2012-05-07 17:15:00, 201...</td>\n",
       "      <td>[2012-05-07 17:00:00, 2012-05-07 17:15:00, 201...</td>\n",
       "      <td>[2012-05-07 17:00:00, 2012-05-07 17:15:00, 201...</td>\n",
       "    </tr>\n",
       "  </tbody>\n",
       "</table>\n",
       "</div>"
      ],
      "text/plain": [
       "                                                   42  \\\n",
       "RH  [74.8168270018, 74.8016755674, 74.7067265784, ...   \n",
       "T   [23.8137763713, 23.8824626467, 23.9978937483, ...   \n",
       "dt  [2012-05-07 17:00:00, 2012-05-07 17:15:00, 201...   \n",
       "\n",
       "                                                   61  \\\n",
       "RH  [32.3907904719, 32.8524041735, 33.3837144734, ...   \n",
       "T   [24.6208401069, 24.8288068851, 25.0606230644, ...   \n",
       "dt  [2012-05-07 17:00:00, 2012-05-07 17:15:00, 201...   \n",
       "\n",
       "                                                   54  \\\n",
       "RH  [37.3523801923, 37.4958137713, 38.1493456421, ...   \n",
       "T   [24.2287559517, 24.3212916282, 24.4825135801, ...   \n",
       "dt  [2012-05-07 17:00:00, 2012-05-07 17:15:00, 201...   \n",
       "\n",
       "                                                   58  \\\n",
       "RH  [34.7412829962, 34.5180518626, 34.9725948948, ...   \n",
       "T   [24.3670824784, 24.5054090052, 24.6675849332, ...   \n",
       "dt  [2012-05-07 17:00:00, 2012-05-07 17:15:00, 201...   \n",
       "\n",
       "                                                   62  \n",
       "RH  [33.2402808943, 34.0008829015, 34.4251230649, ...  \n",
       "T   [24.2516513768, 24.4128733287, 24.5979446817, ...  \n",
       "dt  [2012-05-07 17:00:00, 2012-05-07 17:15:00, 201...  "
      ]
     },
     "execution_count": 242,
     "metadata": {},
     "output_type": "execute_result"
    }
   ],
   "source": [
    "#example\n",
    "dfUrsula=get_tree_table('Ursula')\n",
    "dfUrsula.head()"
   ]
  },
  {
   "cell_type": "code",
   "execution_count": 245,
   "metadata": {},
   "outputs": [
    {
     "name": "stdout",
     "output_type": "stream",
     "text": [
      "[('Ursula', '5m'), ('Ursula', '10m'), ('Ursula', '15m'), ('Ursula', '20m'), ('Ursula', '25m')]\n"
     ]
    }
   ],
   "source": [
    "#if you want to know what sensors the column names correspond to:\n",
    "#note the columns are not sorted based on its height; they are sorted by their sensor ID numbers\n",
    "column_ID_names=[IDsensor[x] for x in list(dfUrsula.columns.values)]\n",
    "print (column_ID_names)\n",
    "#note the columns are ordered from low to high in sensor height"
   ]
  },
  {
   "cell_type": "code",
   "execution_count": 246,
   "metadata": {
    "collapsed": true
   },
   "outputs": [],
   "source": [
    "#not all time series have the same length, and we solve this problem here\n",
    "#this function takes in a tree name, and gives all data about this tree, that span the same time range. \n",
    "#if one sensor has a shorter time period of records, then all data from other sensors will also be within this period. \n",
    "#this is to deal with the time truncation\n",
    "from operator import *\n",
    "def truncated_tree(tree):\n",
    "    table=get_tree_table(tree)\n",
    "    timestamp=table.ix['dt']\n",
    "    startdate=max(timestamp.apply(itemgetter(0)))\n",
    "    enddate=min(timestamp.apply(itemgetter(-1)))\n",
    "    #column_no=len(table.columns)\n",
    "    def mask_by_range(column):\n",
    "        #print column\n",
    "        #print column.ix['dt']\n",
    "        timemask=(column.ix['dt']>=startdate) & (column.ix['dt']<=enddate)\n",
    "        return column.apply(itemgetter(timemask))\n",
    "    return table.apply(mask_by_range)"
   ]
  },
  {
   "cell_type": "code",
   "execution_count": 248,
   "metadata": {},
   "outputs": [
    {
     "name": "stdout",
     "output_type": "stream",
     "text": [
      "         42       61       54       58       62\n",
      "RH  (7281,)  (7281,)  (7281,)  (7281,)  (7281,)\n",
      "T   (7281,)  (7281,)  (7281,)  (7281,)  (7281,)\n",
      "dt  (7281,)  (7281,)  (7281,)  (7281,)  (7281,)\n",
      "         42        61        54        58        62\n",
      "RH  (7281,)  (12551,)  (12552,)  (12552,)  (12551,)\n",
      "T   (7281,)  (12551,)  (12552,)  (12552,)  (12551,)\n",
      "dt  (7281,)  (12551,)  (12552,)  (12552,)  (12551,)\n"
     ]
    }
   ],
   "source": [
    "#example: see how the time-truncated tree data A differs from the original tree data B\n",
    "A=truncated_tree('Ursula')\n",
    "B=get_tree_table('Ursula')\n",
    "print (A.applymap(np.shape))#this shows the size of arrays in each cell in the dataframe\n",
    "print (B.applymap(np.shape))"
   ]
  },
  {
   "cell_type": "code",
   "execution_count": null,
   "metadata": {
    "collapsed": true
   },
   "outputs": [],
   "source": [
    "print(A.dt)"
   ]
  },
  {
   "cell_type": "code",
   "execution_count": 253,
   "metadata": {},
   "outputs": [
    {
     "name": "stdout",
     "output_type": "stream",
     "text": [
      "         32        33        34        35        36        37        38  \\\n",
      "RH  (7282,)  (21552,)  (12562,)  (21553,)  (21207,)  (12563,)  (12562,)   \n",
      "T   (7282,)  (21552,)  (12562,)  (21553,)  (21207,)  (12563,)  (12562,)   \n",
      "dt  (7282,)  (21552,)  (12562,)  (21553,)  (21207,)  (12563,)  (12562,)   \n",
      "\n",
      "         39        40        41    ...          797       798       799  \\\n",
      "RH  (7281,)  (21207,)  (21552,)    ...     (46367,)  (46368,)  (46366,)   \n",
      "T   (7281,)  (21207,)  (21552,)    ...     (46367,)  (46368,)  (46366,)   \n",
      "dt  (7281,)  (21207,)  (21552,)    ...     (46367,)  (46368,)  (46366,)   \n",
      "\n",
      "         800       803       804       807       808       809       810  \n",
      "RH  (46370,)  (46366,)  (46365,)  (46369,)  (46367,)  (46366,)  (46367,)  \n",
      "T   (46370,)  (46366,)  (46365,)  (46369,)  (46367,)  (46366,)  (46367,)  \n",
      "dt  (46370,)  (46366,)  (46365,)  (46369,)  (46367,)  (46366,)  (46367,)  \n",
      "\n",
      "[3 rows x 46 columns]\n"
     ]
    }
   ],
   "source": [
    "print (df2.applymap(np.shape))"
   ]
  },
  {
   "cell_type": "code",
   "execution_count": 226,
   "metadata": {},
   "outputs": [
    {
     "data": {
      "text/plain": [
       "46"
      ]
     },
     "execution_count": 226,
     "metadata": {},
     "output_type": "execute_result"
    }
   ],
   "source": [
    "len(df)"
   ]
  },
  {
   "cell_type": "code",
   "execution_count": null,
   "metadata": {
    "collapsed": true
   },
   "outputs": [],
   "source": []
  },
  {
   "cell_type": "code",
   "execution_count": 228,
   "metadata": {},
   "outputs": [],
   "source": [
    "T = df.ix[:,1][0]\n",
    "RH = df.ix[:,0][0]\n",
    "dt = df.ix[:,2][0]\n",
    "ids =  0*np.ones_like(T)\n",
    "d = {'T': T, 'RH': RH, 'dt':dt, 'id':ids}\n",
    "df2 = pd.DataFrame.from_dict(d)\n",
    "\n",
    "for i in range(1,len(df)):\n",
    "    T = df.ix[:,1][i]\n",
    "    RH = df.ix[:,0][i]\n",
    "    dt = df.ix[:,2][i]\n",
    "    ids =  k[i]*np.ones_like(T)\n",
    "    d = {'T': T, 'RH': RH, 'dt':dt, 'id':ids}\n",
    "    tmp = pd.DataFrame.from_dict(d)\n",
    "    #add tmp df to df2\n",
    "    df2 = df2.append(tmp)"
   ]
  },
  {
   "cell_type": "code",
   "execution_count": 231,
   "metadata": {
    "scrolled": true
   },
   "outputs": [
    {
     "data": {
      "text/html": [
       "<div>\n",
       "<table border=\"1\" class=\"dataframe\">\n",
       "  <thead>\n",
       "    <tr style=\"text-align: right;\">\n",
       "      <th></th>\n",
       "      <th>RH</th>\n",
       "      <th>T</th>\n",
       "      <th>dt</th>\n",
       "      <th>id</th>\n",
       "    </tr>\n",
       "  </thead>\n",
       "  <tbody>\n",
       "    <tr>\n",
       "      <th>0</th>\n",
       "      <td>99.837131</td>\n",
       "      <td>5.149691</td>\n",
       "      <td>2010-01-23 12:13:53</td>\n",
       "      <td>45</td>\n",
       "    </tr>\n",
       "    <tr>\n",
       "      <th>1</th>\n",
       "      <td>99.837131</td>\n",
       "      <td>5.639298</td>\n",
       "      <td>2010-01-23 12:43:53</td>\n",
       "      <td>45</td>\n",
       "    </tr>\n",
       "    <tr>\n",
       "      <th>2</th>\n",
       "      <td>99.837131</td>\n",
       "      <td>6.076920</td>\n",
       "      <td>2010-01-23 13:13:53</td>\n",
       "      <td>45</td>\n",
       "    </tr>\n",
       "    <tr>\n",
       "      <th>3</th>\n",
       "      <td>99.837131</td>\n",
       "      <td>6.800934</td>\n",
       "      <td>2010-01-23 13:43:53</td>\n",
       "      <td>45</td>\n",
       "    </tr>\n",
       "    <tr>\n",
       "      <th>4</th>\n",
       "      <td>99.837131</td>\n",
       "      <td>6.752730</td>\n",
       "      <td>2010-01-23 14:13:53</td>\n",
       "      <td>45</td>\n",
       "    </tr>\n",
       "    <tr>\n",
       "      <th>5</th>\n",
       "      <td>99.837131</td>\n",
       "      <td>6.849139</td>\n",
       "      <td>2010-01-23 14:43:53</td>\n",
       "      <td>45</td>\n",
       "    </tr>\n",
       "    <tr>\n",
       "      <th>6</th>\n",
       "      <td>99.837131</td>\n",
       "      <td>7.064642</td>\n",
       "      <td>2010-01-23 15:13:53</td>\n",
       "      <td>45</td>\n",
       "    </tr>\n",
       "    <tr>\n",
       "      <th>7</th>\n",
       "      <td>99.837131</td>\n",
       "      <td>7.136476</td>\n",
       "      <td>2010-01-23 15:43:53</td>\n",
       "      <td>45</td>\n",
       "    </tr>\n",
       "    <tr>\n",
       "      <th>8</th>\n",
       "      <td>99.837131</td>\n",
       "      <td>6.656321</td>\n",
       "      <td>2010-01-23 16:13:53</td>\n",
       "      <td>45</td>\n",
       "    </tr>\n",
       "    <tr>\n",
       "      <th>9</th>\n",
       "      <td>99.837131</td>\n",
       "      <td>6.656321</td>\n",
       "      <td>2010-01-23 16:43:53</td>\n",
       "      <td>45</td>\n",
       "    </tr>\n",
       "    <tr>\n",
       "      <th>10</th>\n",
       "      <td>99.837131</td>\n",
       "      <td>6.415298</td>\n",
       "      <td>2010-01-23 17:13:53</td>\n",
       "      <td>45</td>\n",
       "    </tr>\n",
       "    <tr>\n",
       "      <th>11</th>\n",
       "      <td>99.837131</td>\n",
       "      <td>5.979566</td>\n",
       "      <td>2010-01-23 17:43:53</td>\n",
       "      <td>45</td>\n",
       "    </tr>\n",
       "    <tr>\n",
       "      <th>12</th>\n",
       "      <td>99.837131</td>\n",
       "      <td>5.858582</td>\n",
       "      <td>2010-01-23 18:13:53</td>\n",
       "      <td>45</td>\n",
       "    </tr>\n",
       "    <tr>\n",
       "      <th>13</th>\n",
       "      <td>99.837131</td>\n",
       "      <td>5.590148</td>\n",
       "      <td>2010-01-23 18:43:53</td>\n",
       "      <td>45</td>\n",
       "    </tr>\n",
       "    <tr>\n",
       "      <th>14</th>\n",
       "      <td>99.837131</td>\n",
       "      <td>5.370865</td>\n",
       "      <td>2010-01-23 19:13:53</td>\n",
       "      <td>45</td>\n",
       "    </tr>\n",
       "    <tr>\n",
       "      <th>15</th>\n",
       "      <td>99.837131</td>\n",
       "      <td>5.149691</td>\n",
       "      <td>2010-01-23 19:43:53</td>\n",
       "      <td>45</td>\n",
       "    </tr>\n",
       "    <tr>\n",
       "      <th>16</th>\n",
       "      <td>99.837131</td>\n",
       "      <td>4.928517</td>\n",
       "      <td>2010-01-23 20:13:53</td>\n",
       "      <td>45</td>\n",
       "    </tr>\n",
       "    <tr>\n",
       "      <th>17</th>\n",
       "      <td>99.837131</td>\n",
       "      <td>4.830217</td>\n",
       "      <td>2010-01-23 20:43:53</td>\n",
       "      <td>45</td>\n",
       "    </tr>\n",
       "    <tr>\n",
       "      <th>18</th>\n",
       "      <td>99.837131</td>\n",
       "      <td>4.657248</td>\n",
       "      <td>2010-01-23 21:13:53</td>\n",
       "      <td>45</td>\n",
       "    </tr>\n",
       "    <tr>\n",
       "      <th>19</th>\n",
       "      <td>99.837131</td>\n",
       "      <td>4.484278</td>\n",
       "      <td>2010-01-23 21:43:53</td>\n",
       "      <td>45</td>\n",
       "    </tr>\n",
       "    <tr>\n",
       "      <th>20</th>\n",
       "      <td>99.837131</td>\n",
       "      <td>4.360459</td>\n",
       "      <td>2010-01-23 22:13:53</td>\n",
       "      <td>45</td>\n",
       "    </tr>\n",
       "    <tr>\n",
       "      <th>21</th>\n",
       "      <td>99.837131</td>\n",
       "      <td>4.061779</td>\n",
       "      <td>2010-01-23 22:43:53</td>\n",
       "      <td>45</td>\n",
       "    </tr>\n",
       "    <tr>\n",
       "      <th>22</th>\n",
       "      <td>99.837131</td>\n",
       "      <td>4.011684</td>\n",
       "      <td>2010-01-23 23:13:53</td>\n",
       "      <td>45</td>\n",
       "    </tr>\n",
       "    <tr>\n",
       "      <th>23</th>\n",
       "      <td>99.837131</td>\n",
       "      <td>4.037205</td>\n",
       "      <td>2010-01-23 23:43:53</td>\n",
       "      <td>45</td>\n",
       "    </tr>\n",
       "    <tr>\n",
       "      <th>24</th>\n",
       "      <td>99.837131</td>\n",
       "      <td>4.061779</td>\n",
       "      <td>2010-01-24 00:13:53</td>\n",
       "      <td>45</td>\n",
       "    </tr>\n",
       "    <tr>\n",
       "      <th>25</th>\n",
       "      <td>99.837131</td>\n",
       "      <td>4.111874</td>\n",
       "      <td>2010-01-24 00:43:53</td>\n",
       "      <td>45</td>\n",
       "    </tr>\n",
       "    <tr>\n",
       "      <th>26</th>\n",
       "      <td>99.837131</td>\n",
       "      <td>4.435129</td>\n",
       "      <td>2010-01-24 01:13:53</td>\n",
       "      <td>45</td>\n",
       "    </tr>\n",
       "    <tr>\n",
       "      <th>27</th>\n",
       "      <td>99.837131</td>\n",
       "      <td>4.731918</td>\n",
       "      <td>2010-01-24 01:43:53</td>\n",
       "      <td>45</td>\n",
       "    </tr>\n",
       "    <tr>\n",
       "      <th>28</th>\n",
       "      <td>99.837131</td>\n",
       "      <td>4.805642</td>\n",
       "      <td>2010-01-24 02:13:53</td>\n",
       "      <td>45</td>\n",
       "    </tr>\n",
       "    <tr>\n",
       "      <th>29</th>\n",
       "      <td>99.837131</td>\n",
       "      <td>4.879367</td>\n",
       "      <td>2010-01-24 02:43:53</td>\n",
       "      <td>45</td>\n",
       "    </tr>\n",
       "    <tr>\n",
       "      <th>...</th>\n",
       "      <td>...</td>\n",
       "      <td>...</td>\n",
       "      <td>...</td>\n",
       "      <td>...</td>\n",
       "    </tr>\n",
       "    <tr>\n",
       "      <th>46337</th>\n",
       "      <td>74.389501</td>\n",
       "      <td>12.067522</td>\n",
       "      <td>2012-09-14 23:13:53</td>\n",
       "      <td>45</td>\n",
       "    </tr>\n",
       "    <tr>\n",
       "      <th>46338</th>\n",
       "      <td>75.589665</td>\n",
       "      <td>11.492848</td>\n",
       "      <td>2012-09-14 23:43:53</td>\n",
       "      <td>45</td>\n",
       "    </tr>\n",
       "    <tr>\n",
       "      <th>46339</th>\n",
       "      <td>77.878281</td>\n",
       "      <td>10.847284</td>\n",
       "      <td>2012-09-15 00:13:53</td>\n",
       "      <td>45</td>\n",
       "    </tr>\n",
       "    <tr>\n",
       "      <th>46340</th>\n",
       "      <td>78.283608</td>\n",
       "      <td>10.477716</td>\n",
       "      <td>2012-09-15 00:43:53</td>\n",
       "      <td>45</td>\n",
       "    </tr>\n",
       "    <tr>\n",
       "      <th>46341</th>\n",
       "      <td>79.643926</td>\n",
       "      <td>9.943685</td>\n",
       "      <td>2012-09-15 01:13:53</td>\n",
       "      <td>45</td>\n",
       "    </tr>\n",
       "    <tr>\n",
       "      <th>46342</th>\n",
       "      <td>81.711095</td>\n",
       "      <td>9.313244</td>\n",
       "      <td>2012-09-15 01:43:53</td>\n",
       "      <td>45</td>\n",
       "    </tr>\n",
       "    <tr>\n",
       "      <th>46343</th>\n",
       "      <td>82.521749</td>\n",
       "      <td>8.938004</td>\n",
       "      <td>2012-09-15 02:13:53</td>\n",
       "      <td>45</td>\n",
       "    </tr>\n",
       "    <tr>\n",
       "      <th>46344</th>\n",
       "      <td>83.471797</td>\n",
       "      <td>8.514560</td>\n",
       "      <td>2012-09-15 02:43:53</td>\n",
       "      <td>45</td>\n",
       "    </tr>\n",
       "    <tr>\n",
       "      <th>46345</th>\n",
       "      <td>84.315075</td>\n",
       "      <td>8.112855</td>\n",
       "      <td>2012-09-15 03:13:53</td>\n",
       "      <td>45</td>\n",
       "    </tr>\n",
       "    <tr>\n",
       "      <th>46346</th>\n",
       "      <td>84.360551</td>\n",
       "      <td>7.875613</td>\n",
       "      <td>2012-09-15 03:43:53</td>\n",
       "      <td>45</td>\n",
       "    </tr>\n",
       "    <tr>\n",
       "      <th>46347</th>\n",
       "      <td>85.414401</td>\n",
       "      <td>7.518332</td>\n",
       "      <td>2012-09-15 04:13:53</td>\n",
       "      <td>45</td>\n",
       "    </tr>\n",
       "    <tr>\n",
       "      <th>46348</th>\n",
       "      <td>86.582930</td>\n",
       "      <td>7.041012</td>\n",
       "      <td>2012-09-15 04:43:53</td>\n",
       "      <td>45</td>\n",
       "    </tr>\n",
       "    <tr>\n",
       "      <th>46349</th>\n",
       "      <td>86.592816</td>\n",
       "      <td>6.776359</td>\n",
       "      <td>2012-09-15 05:13:53</td>\n",
       "      <td>45</td>\n",
       "    </tr>\n",
       "    <tr>\n",
       "      <th>46350</th>\n",
       "      <td>87.005064</td>\n",
       "      <td>6.488077</td>\n",
       "      <td>2012-09-15 05:43:53</td>\n",
       "      <td>45</td>\n",
       "    </tr>\n",
       "    <tr>\n",
       "      <th>46351</th>\n",
       "      <td>87.644690</td>\n",
       "      <td>6.197904</td>\n",
       "      <td>2012-09-15 06:13:53</td>\n",
       "      <td>45</td>\n",
       "    </tr>\n",
       "    <tr>\n",
       "      <th>46352</th>\n",
       "      <td>87.619975</td>\n",
       "      <td>6.100550</td>\n",
       "      <td>2012-09-15 06:43:53</td>\n",
       "      <td>45</td>\n",
       "    </tr>\n",
       "    <tr>\n",
       "      <th>46353</th>\n",
       "      <td>85.393641</td>\n",
       "      <td>6.608116</td>\n",
       "      <td>2012-09-15 07:13:53</td>\n",
       "      <td>45</td>\n",
       "    </tr>\n",
       "    <tr>\n",
       "      <th>46354</th>\n",
       "      <td>77.876304</td>\n",
       "      <td>7.946502</td>\n",
       "      <td>2012-09-15 07:43:53</td>\n",
       "      <td>45</td>\n",
       "    </tr>\n",
       "    <tr>\n",
       "      <th>46355</th>\n",
       "      <td>71.272436</td>\n",
       "      <td>10.013628</td>\n",
       "      <td>2012-09-15 08:13:53</td>\n",
       "      <td>45</td>\n",
       "    </tr>\n",
       "    <tr>\n",
       "      <th>46356</th>\n",
       "      <td>64.717998</td>\n",
       "      <td>12.410625</td>\n",
       "      <td>2012-09-15 08:43:53</td>\n",
       "      <td>45</td>\n",
       "    </tr>\n",
       "    <tr>\n",
       "      <th>46357</th>\n",
       "      <td>57.243170</td>\n",
       "      <td>15.180971</td>\n",
       "      <td>2012-09-15 09:13:53</td>\n",
       "      <td>45</td>\n",
       "    </tr>\n",
       "    <tr>\n",
       "      <th>46358</th>\n",
       "      <td>50.011539</td>\n",
       "      <td>18.039220</td>\n",
       "      <td>2012-09-15 09:43:53</td>\n",
       "      <td>45</td>\n",
       "    </tr>\n",
       "    <tr>\n",
       "      <th>46359</th>\n",
       "      <td>41.181337</td>\n",
       "      <td>20.919208</td>\n",
       "      <td>2012-09-15 10:13:53</td>\n",
       "      <td>45</td>\n",
       "    </tr>\n",
       "    <tr>\n",
       "      <th>46360</th>\n",
       "      <td>26.325600</td>\n",
       "      <td>23.069511</td>\n",
       "      <td>2012-09-15 10:43:53</td>\n",
       "      <td>45</td>\n",
       "    </tr>\n",
       "    <tr>\n",
       "      <th>46361</th>\n",
       "      <td>24.370143</td>\n",
       "      <td>25.033611</td>\n",
       "      <td>2012-09-15 11:13:53</td>\n",
       "      <td>45</td>\n",
       "    </tr>\n",
       "    <tr>\n",
       "      <th>46362</th>\n",
       "      <td>26.507503</td>\n",
       "      <td>25.908856</td>\n",
       "      <td>2012-09-15 11:43:53</td>\n",
       "      <td>45</td>\n",
       "    </tr>\n",
       "    <tr>\n",
       "      <th>46363</th>\n",
       "      <td>26.903933</td>\n",
       "      <td>26.209425</td>\n",
       "      <td>2012-09-15 12:13:53</td>\n",
       "      <td>45</td>\n",
       "    </tr>\n",
       "    <tr>\n",
       "      <th>46364</th>\n",
       "      <td>22.774538</td>\n",
       "      <td>26.186741</td>\n",
       "      <td>2012-09-15 12:43:53</td>\n",
       "      <td>45</td>\n",
       "    </tr>\n",
       "    <tr>\n",
       "      <th>46365</th>\n",
       "      <td>21.252090</td>\n",
       "      <td>26.580884</td>\n",
       "      <td>2012-09-15 13:13:53</td>\n",
       "      <td>45</td>\n",
       "    </tr>\n",
       "    <tr>\n",
       "      <th>46366</th>\n",
       "      <td>22.357348</td>\n",
       "      <td>26.627199</td>\n",
       "      <td>2012-09-15 13:43:53</td>\n",
       "      <td>45</td>\n",
       "    </tr>\n",
       "  </tbody>\n",
       "</table>\n",
       "<p>46367 rows × 4 columns</p>\n",
       "</div>"
      ],
      "text/plain": [
       "              RH          T                  dt  id\n",
       "0      99.837131   5.149691 2010-01-23 12:13:53  45\n",
       "1      99.837131   5.639298 2010-01-23 12:43:53  45\n",
       "2      99.837131   6.076920 2010-01-23 13:13:53  45\n",
       "3      99.837131   6.800934 2010-01-23 13:43:53  45\n",
       "4      99.837131   6.752730 2010-01-23 14:13:53  45\n",
       "5      99.837131   6.849139 2010-01-23 14:43:53  45\n",
       "6      99.837131   7.064642 2010-01-23 15:13:53  45\n",
       "7      99.837131   7.136476 2010-01-23 15:43:53  45\n",
       "8      99.837131   6.656321 2010-01-23 16:13:53  45\n",
       "9      99.837131   6.656321 2010-01-23 16:43:53  45\n",
       "10     99.837131   6.415298 2010-01-23 17:13:53  45\n",
       "11     99.837131   5.979566 2010-01-23 17:43:53  45\n",
       "12     99.837131   5.858582 2010-01-23 18:13:53  45\n",
       "13     99.837131   5.590148 2010-01-23 18:43:53  45\n",
       "14     99.837131   5.370865 2010-01-23 19:13:53  45\n",
       "15     99.837131   5.149691 2010-01-23 19:43:53  45\n",
       "16     99.837131   4.928517 2010-01-23 20:13:53  45\n",
       "17     99.837131   4.830217 2010-01-23 20:43:53  45\n",
       "18     99.837131   4.657248 2010-01-23 21:13:53  45\n",
       "19     99.837131   4.484278 2010-01-23 21:43:53  45\n",
       "20     99.837131   4.360459 2010-01-23 22:13:53  45\n",
       "21     99.837131   4.061779 2010-01-23 22:43:53  45\n",
       "22     99.837131   4.011684 2010-01-23 23:13:53  45\n",
       "23     99.837131   4.037205 2010-01-23 23:43:53  45\n",
       "24     99.837131   4.061779 2010-01-24 00:13:53  45\n",
       "25     99.837131   4.111874 2010-01-24 00:43:53  45\n",
       "26     99.837131   4.435129 2010-01-24 01:13:53  45\n",
       "27     99.837131   4.731918 2010-01-24 01:43:53  45\n",
       "28     99.837131   4.805642 2010-01-24 02:13:53  45\n",
       "29     99.837131   4.879367 2010-01-24 02:43:53  45\n",
       "...          ...        ...                 ...  ..\n",
       "46337  74.389501  12.067522 2012-09-14 23:13:53  45\n",
       "46338  75.589665  11.492848 2012-09-14 23:43:53  45\n",
       "46339  77.878281  10.847284 2012-09-15 00:13:53  45\n",
       "46340  78.283608  10.477716 2012-09-15 00:43:53  45\n",
       "46341  79.643926   9.943685 2012-09-15 01:13:53  45\n",
       "46342  81.711095   9.313244 2012-09-15 01:43:53  45\n",
       "46343  82.521749   8.938004 2012-09-15 02:13:53  45\n",
       "46344  83.471797   8.514560 2012-09-15 02:43:53  45\n",
       "46345  84.315075   8.112855 2012-09-15 03:13:53  45\n",
       "46346  84.360551   7.875613 2012-09-15 03:43:53  45\n",
       "46347  85.414401   7.518332 2012-09-15 04:13:53  45\n",
       "46348  86.582930   7.041012 2012-09-15 04:43:53  45\n",
       "46349  86.592816   6.776359 2012-09-15 05:13:53  45\n",
       "46350  87.005064   6.488077 2012-09-15 05:43:53  45\n",
       "46351  87.644690   6.197904 2012-09-15 06:13:53  45\n",
       "46352  87.619975   6.100550 2012-09-15 06:43:53  45\n",
       "46353  85.393641   6.608116 2012-09-15 07:13:53  45\n",
       "46354  77.876304   7.946502 2012-09-15 07:43:53  45\n",
       "46355  71.272436  10.013628 2012-09-15 08:13:53  45\n",
       "46356  64.717998  12.410625 2012-09-15 08:43:53  45\n",
       "46357  57.243170  15.180971 2012-09-15 09:13:53  45\n",
       "46358  50.011539  18.039220 2012-09-15 09:43:53  45\n",
       "46359  41.181337  20.919208 2012-09-15 10:13:53  45\n",
       "46360  26.325600  23.069511 2012-09-15 10:43:53  45\n",
       "46361  24.370143  25.033611 2012-09-15 11:13:53  45\n",
       "46362  26.507503  25.908856 2012-09-15 11:43:53  45\n",
       "46363  26.903933  26.209425 2012-09-15 12:13:53  45\n",
       "46364  22.774538  26.186741 2012-09-15 12:43:53  45\n",
       "46365  21.252090  26.580884 2012-09-15 13:13:53  45\n",
       "46366  22.357348  26.627199 2012-09-15 13:43:53  45\n",
       "\n",
       "[46367 rows x 4 columns]"
      ]
     },
     "execution_count": 231,
     "metadata": {},
     "output_type": "execute_result"
    }
   ],
   "source": [
    "df2[df2.id==45]"
   ]
  },
  {
   "cell_type": "code",
   "execution_count": 217,
   "metadata": {},
   "outputs": [
    {
     "data": {
      "text/plain": [
       "array([ 32.,  32.,  32., ...,  32.,  32.,  32.])"
      ]
     },
     "execution_count": 217,
     "metadata": {},
     "output_type": "execute_result"
    }
   ],
   "source": [
    "ids =  32*np.ones_like(T)\n",
    "ids"
   ]
  },
  {
   "cell_type": "code",
   "execution_count": 219,
   "metadata": {},
   "outputs": [
    {
     "data": {
      "text/html": [
       "<div>\n",
       "<table border=\"1\" class=\"dataframe\">\n",
       "  <thead>\n",
       "    <tr style=\"text-align: right;\">\n",
       "      <th></th>\n",
       "      <th>RH</th>\n",
       "      <th>T</th>\n",
       "      <th>dt</th>\n",
       "      <th>id</th>\n",
       "    </tr>\n",
       "  </thead>\n",
       "  <tbody>\n",
       "    <tr>\n",
       "      <th>0</th>\n",
       "      <td>74.920867</td>\n",
       "      <td>23.882463</td>\n",
       "      <td>2012-05-07 17:00:00</td>\n",
       "      <td>32</td>\n",
       "    </tr>\n",
       "    <tr>\n",
       "      <th>1</th>\n",
       "      <td>74.939049</td>\n",
       "      <td>23.974998</td>\n",
       "      <td>2012-05-07 17:15:00</td>\n",
       "      <td>32</td>\n",
       "    </tr>\n",
       "    <tr>\n",
       "      <th>2</th>\n",
       "      <td>74.927938</td>\n",
       "      <td>24.067534</td>\n",
       "      <td>2012-05-07 17:30:00</td>\n",
       "      <td>32</td>\n",
       "    </tr>\n",
       "    <tr>\n",
       "      <th>3</th>\n",
       "      <td>74.798645</td>\n",
       "      <td>24.159116</td>\n",
       "      <td>2012-05-07 17:45:00</td>\n",
       "      <td>32</td>\n",
       "    </tr>\n",
       "    <tr>\n",
       "      <th>4</th>\n",
       "      <td>74.362284</td>\n",
       "      <td>24.205861</td>\n",
       "      <td>2012-05-07 18:00:00</td>\n",
       "      <td>32</td>\n",
       "    </tr>\n",
       "    <tr>\n",
       "      <th>5</th>\n",
       "      <td>73.737035</td>\n",
       "      <td>24.205861</td>\n",
       "      <td>2012-05-07 18:15:00</td>\n",
       "      <td>32</td>\n",
       "    </tr>\n",
       "    <tr>\n",
       "      <th>6</th>\n",
       "      <td>73.070372</td>\n",
       "      <td>24.159116</td>\n",
       "      <td>2012-05-07 18:30:00</td>\n",
       "      <td>32</td>\n",
       "    </tr>\n",
       "    <tr>\n",
       "      <th>7</th>\n",
       "      <td>72.325931</td>\n",
       "      <td>24.020789</td>\n",
       "      <td>2012-05-07 18:45:00</td>\n",
       "      <td>32</td>\n",
       "    </tr>\n",
       "    <tr>\n",
       "      <th>8</th>\n",
       "      <td>71.540077</td>\n",
       "      <td>23.836672</td>\n",
       "      <td>2012-05-07 19:00:00</td>\n",
       "      <td>32</td>\n",
       "    </tr>\n",
       "    <tr>\n",
       "      <th>9</th>\n",
       "      <td>70.623920</td>\n",
       "      <td>23.606764</td>\n",
       "      <td>2012-05-07 19:15:00</td>\n",
       "      <td>32</td>\n",
       "    </tr>\n",
       "    <tr>\n",
       "      <th>10</th>\n",
       "      <td>69.754228</td>\n",
       "      <td>23.308169</td>\n",
       "      <td>2012-05-07 19:30:00</td>\n",
       "      <td>32</td>\n",
       "    </tr>\n",
       "    <tr>\n",
       "      <th>11</th>\n",
       "      <td>68.969383</td>\n",
       "      <td>22.986679</td>\n",
       "      <td>2012-05-07 19:45:00</td>\n",
       "      <td>32</td>\n",
       "    </tr>\n",
       "    <tr>\n",
       "      <th>12</th>\n",
       "      <td>68.209792</td>\n",
       "      <td>22.643248</td>\n",
       "      <td>2012-05-07 20:00:00</td>\n",
       "      <td>32</td>\n",
       "    </tr>\n",
       "    <tr>\n",
       "      <th>13</th>\n",
       "      <td>67.532017</td>\n",
       "      <td>22.254980</td>\n",
       "      <td>2012-05-07 20:15:00</td>\n",
       "      <td>32</td>\n",
       "    </tr>\n",
       "    <tr>\n",
       "      <th>14</th>\n",
       "      <td>66.950202</td>\n",
       "      <td>21.889607</td>\n",
       "      <td>2012-05-07 20:30:00</td>\n",
       "      <td>32</td>\n",
       "    </tr>\n",
       "    <tr>\n",
       "      <th>15</th>\n",
       "      <td>66.390609</td>\n",
       "      <td>21.478443</td>\n",
       "      <td>2012-05-07 20:45:00</td>\n",
       "      <td>32</td>\n",
       "    </tr>\n",
       "    <tr>\n",
       "      <th>16</th>\n",
       "      <td>65.866370</td>\n",
       "      <td>21.091129</td>\n",
       "      <td>2012-05-07 21:00:00</td>\n",
       "      <td>32</td>\n",
       "    </tr>\n",
       "    <tr>\n",
       "      <th>17</th>\n",
       "      <td>65.337080</td>\n",
       "      <td>20.681873</td>\n",
       "      <td>2012-05-07 21:15:00</td>\n",
       "      <td>32</td>\n",
       "    </tr>\n",
       "    <tr>\n",
       "      <th>18</th>\n",
       "      <td>64.808800</td>\n",
       "      <td>20.272617</td>\n",
       "      <td>2012-05-07 21:30:00</td>\n",
       "      <td>32</td>\n",
       "    </tr>\n",
       "    <tr>\n",
       "      <th>19</th>\n",
       "      <td>64.346176</td>\n",
       "      <td>19.886257</td>\n",
       "      <td>2012-05-07 21:45:00</td>\n",
       "      <td>32</td>\n",
       "    </tr>\n",
       "    <tr>\n",
       "      <th>20</th>\n",
       "      <td>63.845168</td>\n",
       "      <td>19.455060</td>\n",
       "      <td>2012-05-07 22:00:00</td>\n",
       "      <td>32</td>\n",
       "    </tr>\n",
       "    <tr>\n",
       "      <th>21</th>\n",
       "      <td>63.408807</td>\n",
       "      <td>19.046758</td>\n",
       "      <td>2012-05-07 22:15:00</td>\n",
       "      <td>32</td>\n",
       "    </tr>\n",
       "    <tr>\n",
       "      <th>22</th>\n",
       "      <td>63.003759</td>\n",
       "      <td>18.638456</td>\n",
       "      <td>2012-05-07 22:30:00</td>\n",
       "      <td>32</td>\n",
       "    </tr>\n",
       "    <tr>\n",
       "      <th>23</th>\n",
       "      <td>62.629013</td>\n",
       "      <td>18.230155</td>\n",
       "      <td>2012-05-07 22:45:00</td>\n",
       "      <td>32</td>\n",
       "    </tr>\n",
       "    <tr>\n",
       "      <th>24</th>\n",
       "      <td>62.319924</td>\n",
       "      <td>17.843794</td>\n",
       "      <td>2012-05-07 23:00:00</td>\n",
       "      <td>32</td>\n",
       "    </tr>\n",
       "    <tr>\n",
       "      <th>25</th>\n",
       "      <td>62.006794</td>\n",
       "      <td>17.435493</td>\n",
       "      <td>2012-05-07 23:15:00</td>\n",
       "      <td>32</td>\n",
       "    </tr>\n",
       "    <tr>\n",
       "      <th>26</th>\n",
       "      <td>61.762351</td>\n",
       "      <td>17.072982</td>\n",
       "      <td>2012-05-07 23:30:00</td>\n",
       "      <td>32</td>\n",
       "    </tr>\n",
       "    <tr>\n",
       "      <th>27</th>\n",
       "      <td>61.484575</td>\n",
       "      <td>16.686621</td>\n",
       "      <td>2012-05-07 23:45:00</td>\n",
       "      <td>32</td>\n",
       "    </tr>\n",
       "    <tr>\n",
       "      <th>28</th>\n",
       "      <td>61.241142</td>\n",
       "      <td>16.323156</td>\n",
       "      <td>2012-05-08 00:00:00</td>\n",
       "      <td>32</td>\n",
       "    </tr>\n",
       "    <tr>\n",
       "      <th>29</th>\n",
       "      <td>61.028012</td>\n",
       "      <td>15.959692</td>\n",
       "      <td>2012-05-08 00:15:00</td>\n",
       "      <td>32</td>\n",
       "    </tr>\n",
       "    <tr>\n",
       "      <th>...</th>\n",
       "      <td>...</td>\n",
       "      <td>...</td>\n",
       "      <td>...</td>\n",
       "      <td>...</td>\n",
       "    </tr>\n",
       "    <tr>\n",
       "      <th>7252</th>\n",
       "      <td>95.304597</td>\n",
       "      <td>11.858549</td>\n",
       "      <td>2012-07-22 06:00:00</td>\n",
       "      <td>32</td>\n",
       "    </tr>\n",
       "    <tr>\n",
       "      <th>7253</th>\n",
       "      <td>95.375303</td>\n",
       "      <td>12.020724</td>\n",
       "      <td>2012-07-22 06:15:00</td>\n",
       "      <td>32</td>\n",
       "    </tr>\n",
       "    <tr>\n",
       "      <th>7254</th>\n",
       "      <td>95.236920</td>\n",
       "      <td>12.274482</td>\n",
       "      <td>2012-07-22 06:30:00</td>\n",
       "      <td>32</td>\n",
       "    </tr>\n",
       "    <tr>\n",
       "      <th>7255</th>\n",
       "      <td>95.573282</td>\n",
       "      <td>12.551135</td>\n",
       "      <td>2012-07-22 06:45:00</td>\n",
       "      <td>32</td>\n",
       "    </tr>\n",
       "    <tr>\n",
       "      <th>7256</th>\n",
       "      <td>94.708640</td>\n",
       "      <td>13.011906</td>\n",
       "      <td>2012-07-22 07:00:00</td>\n",
       "      <td>32</td>\n",
       "    </tr>\n",
       "    <tr>\n",
       "      <th>7257</th>\n",
       "      <td>93.047033</td>\n",
       "      <td>13.677781</td>\n",
       "      <td>2012-07-22 07:15:00</td>\n",
       "      <td>32</td>\n",
       "    </tr>\n",
       "    <tr>\n",
       "      <th>7258</th>\n",
       "      <td>90.481390</td>\n",
       "      <td>14.455271</td>\n",
       "      <td>2012-07-22 07:30:00</td>\n",
       "      <td>32</td>\n",
       "    </tr>\n",
       "    <tr>\n",
       "      <th>7259</th>\n",
       "      <td>88.202614</td>\n",
       "      <td>15.163122</td>\n",
       "      <td>2012-07-22 07:45:00</td>\n",
       "      <td>32</td>\n",
       "    </tr>\n",
       "    <tr>\n",
       "      <th>7260</th>\n",
       "      <td>84.920814</td>\n",
       "      <td>15.982587</td>\n",
       "      <td>2012-07-22 08:00:00</td>\n",
       "      <td>32</td>\n",
       "    </tr>\n",
       "    <tr>\n",
       "      <th>7261</th>\n",
       "      <td>82.709714</td>\n",
       "      <td>17.004295</td>\n",
       "      <td>2012-07-22 08:15:00</td>\n",
       "      <td>32</td>\n",
       "    </tr>\n",
       "    <tr>\n",
       "      <th>7262</th>\n",
       "      <td>77.641054</td>\n",
       "      <td>18.070841</td>\n",
       "      <td>2012-07-22 08:30:00</td>\n",
       "      <td>32</td>\n",
       "    </tr>\n",
       "    <tr>\n",
       "      <th>7263</th>\n",
       "      <td>74.241072</td>\n",
       "      <td>18.978072</td>\n",
       "      <td>2012-07-22 08:45:00</td>\n",
       "      <td>32</td>\n",
       "    </tr>\n",
       "    <tr>\n",
       "      <th>7264</th>\n",
       "      <td>72.650172</td>\n",
       "      <td>19.818525</td>\n",
       "      <td>2012-07-22 09:00:00</td>\n",
       "      <td>32</td>\n",
       "    </tr>\n",
       "    <tr>\n",
       "      <th>7265</th>\n",
       "      <td>69.212816</td>\n",
       "      <td>20.772501</td>\n",
       "      <td>2012-07-22 09:15:00</td>\n",
       "      <td>32</td>\n",
       "    </tr>\n",
       "    <tr>\n",
       "      <th>7266</th>\n",
       "      <td>64.478498</td>\n",
       "      <td>22.368503</td>\n",
       "      <td>2012-07-22 09:30:00</td>\n",
       "      <td>32</td>\n",
       "    </tr>\n",
       "    <tr>\n",
       "      <th>7267</th>\n",
       "      <td>62.200733</td>\n",
       "      <td>23.445542</td>\n",
       "      <td>2012-07-22 09:45:00</td>\n",
       "      <td>32</td>\n",
       "    </tr>\n",
       "    <tr>\n",
       "      <th>7268</th>\n",
       "      <td>60.008825</td>\n",
       "      <td>24.113325</td>\n",
       "      <td>2012-07-22 10:00:00</td>\n",
       "      <td>32</td>\n",
       "    </tr>\n",
       "    <tr>\n",
       "      <th>7269</th>\n",
       "      <td>56.520965</td>\n",
       "      <td>25.571954</td>\n",
       "      <td>2012-07-22 10:15:00</td>\n",
       "      <td>32</td>\n",
       "    </tr>\n",
       "    <tr>\n",
       "      <th>7270</th>\n",
       "      <td>51.540183</td>\n",
       "      <td>26.130984</td>\n",
       "      <td>2012-07-22 10:30:00</td>\n",
       "      <td>32</td>\n",
       "    </tr>\n",
       "    <tr>\n",
       "      <th>7271</th>\n",
       "      <td>49.012924</td>\n",
       "      <td>27.138383</td>\n",
       "      <td>2012-07-22 10:45:00</td>\n",
       "      <td>32</td>\n",
       "    </tr>\n",
       "    <tr>\n",
       "      <th>7272</th>\n",
       "      <td>47.791718</td>\n",
       "      <td>27.822384</td>\n",
       "      <td>2012-07-22 11:00:00</td>\n",
       "      <td>32</td>\n",
       "    </tr>\n",
       "    <tr>\n",
       "      <th>7273</th>\n",
       "      <td>47.116975</td>\n",
       "      <td>28.463456</td>\n",
       "      <td>2012-07-22 11:15:00</td>\n",
       "      <td>32</td>\n",
       "    </tr>\n",
       "    <tr>\n",
       "      <th>7274</th>\n",
       "      <td>46.208899</td>\n",
       "      <td>28.868895</td>\n",
       "      <td>2012-07-22 11:30:00</td>\n",
       "      <td>32</td>\n",
       "    </tr>\n",
       "    <tr>\n",
       "      <th>7275</th>\n",
       "      <td>44.238202</td>\n",
       "      <td>29.322988</td>\n",
       "      <td>2012-07-22 11:45:00</td>\n",
       "      <td>32</td>\n",
       "    </tr>\n",
       "    <tr>\n",
       "      <th>7276</th>\n",
       "      <td>41.846296</td>\n",
       "      <td>29.179892</td>\n",
       "      <td>2012-07-22 12:00:00</td>\n",
       "      <td>32</td>\n",
       "    </tr>\n",
       "    <tr>\n",
       "      <th>7277</th>\n",
       "      <td>40.538222</td>\n",
       "      <td>29.515691</td>\n",
       "      <td>2012-07-22 12:15:00</td>\n",
       "      <td>32</td>\n",
       "    </tr>\n",
       "    <tr>\n",
       "      <th>7278</th>\n",
       "      <td>34.333204</td>\n",
       "      <td>30.093801</td>\n",
       "      <td>2012-07-22 12:30:00</td>\n",
       "      <td>32</td>\n",
       "    </tr>\n",
       "    <tr>\n",
       "      <th>7279</th>\n",
       "      <td>34.624112</td>\n",
       "      <td>30.263608</td>\n",
       "      <td>2012-07-22 12:45:00</td>\n",
       "      <td>32</td>\n",
       "    </tr>\n",
       "    <tr>\n",
       "      <th>7280</th>\n",
       "      <td>35.836227</td>\n",
       "      <td>30.384763</td>\n",
       "      <td>2012-07-22 13:00:00</td>\n",
       "      <td>32</td>\n",
       "    </tr>\n",
       "    <tr>\n",
       "      <th>7281</th>\n",
       "      <td>36.284709</td>\n",
       "      <td>30.069951</td>\n",
       "      <td>2012-07-22 13:15:00</td>\n",
       "      <td>32</td>\n",
       "    </tr>\n",
       "  </tbody>\n",
       "</table>\n",
       "<p>7282 rows × 4 columns</p>\n",
       "</div>"
      ],
      "text/plain": [
       "             RH          T                  dt  id\n",
       "0     74.920867  23.882463 2012-05-07 17:00:00  32\n",
       "1     74.939049  23.974998 2012-05-07 17:15:00  32\n",
       "2     74.927938  24.067534 2012-05-07 17:30:00  32\n",
       "3     74.798645  24.159116 2012-05-07 17:45:00  32\n",
       "4     74.362284  24.205861 2012-05-07 18:00:00  32\n",
       "5     73.737035  24.205861 2012-05-07 18:15:00  32\n",
       "6     73.070372  24.159116 2012-05-07 18:30:00  32\n",
       "7     72.325931  24.020789 2012-05-07 18:45:00  32\n",
       "8     71.540077  23.836672 2012-05-07 19:00:00  32\n",
       "9     70.623920  23.606764 2012-05-07 19:15:00  32\n",
       "10    69.754228  23.308169 2012-05-07 19:30:00  32\n",
       "11    68.969383  22.986679 2012-05-07 19:45:00  32\n",
       "12    68.209792  22.643248 2012-05-07 20:00:00  32\n",
       "13    67.532017  22.254980 2012-05-07 20:15:00  32\n",
       "14    66.950202  21.889607 2012-05-07 20:30:00  32\n",
       "15    66.390609  21.478443 2012-05-07 20:45:00  32\n",
       "16    65.866370  21.091129 2012-05-07 21:00:00  32\n",
       "17    65.337080  20.681873 2012-05-07 21:15:00  32\n",
       "18    64.808800  20.272617 2012-05-07 21:30:00  32\n",
       "19    64.346176  19.886257 2012-05-07 21:45:00  32\n",
       "20    63.845168  19.455060 2012-05-07 22:00:00  32\n",
       "21    63.408807  19.046758 2012-05-07 22:15:00  32\n",
       "22    63.003759  18.638456 2012-05-07 22:30:00  32\n",
       "23    62.629013  18.230155 2012-05-07 22:45:00  32\n",
       "24    62.319924  17.843794 2012-05-07 23:00:00  32\n",
       "25    62.006794  17.435493 2012-05-07 23:15:00  32\n",
       "26    61.762351  17.072982 2012-05-07 23:30:00  32\n",
       "27    61.484575  16.686621 2012-05-07 23:45:00  32\n",
       "28    61.241142  16.323156 2012-05-08 00:00:00  32\n",
       "29    61.028012  15.959692 2012-05-08 00:15:00  32\n",
       "...         ...        ...                 ...  ..\n",
       "7252  95.304597  11.858549 2012-07-22 06:00:00  32\n",
       "7253  95.375303  12.020724 2012-07-22 06:15:00  32\n",
       "7254  95.236920  12.274482 2012-07-22 06:30:00  32\n",
       "7255  95.573282  12.551135 2012-07-22 06:45:00  32\n",
       "7256  94.708640  13.011906 2012-07-22 07:00:00  32\n",
       "7257  93.047033  13.677781 2012-07-22 07:15:00  32\n",
       "7258  90.481390  14.455271 2012-07-22 07:30:00  32\n",
       "7259  88.202614  15.163122 2012-07-22 07:45:00  32\n",
       "7260  84.920814  15.982587 2012-07-22 08:00:00  32\n",
       "7261  82.709714  17.004295 2012-07-22 08:15:00  32\n",
       "7262  77.641054  18.070841 2012-07-22 08:30:00  32\n",
       "7263  74.241072  18.978072 2012-07-22 08:45:00  32\n",
       "7264  72.650172  19.818525 2012-07-22 09:00:00  32\n",
       "7265  69.212816  20.772501 2012-07-22 09:15:00  32\n",
       "7266  64.478498  22.368503 2012-07-22 09:30:00  32\n",
       "7267  62.200733  23.445542 2012-07-22 09:45:00  32\n",
       "7268  60.008825  24.113325 2012-07-22 10:00:00  32\n",
       "7269  56.520965  25.571954 2012-07-22 10:15:00  32\n",
       "7270  51.540183  26.130984 2012-07-22 10:30:00  32\n",
       "7271  49.012924  27.138383 2012-07-22 10:45:00  32\n",
       "7272  47.791718  27.822384 2012-07-22 11:00:00  32\n",
       "7273  47.116975  28.463456 2012-07-22 11:15:00  32\n",
       "7274  46.208899  28.868895 2012-07-22 11:30:00  32\n",
       "7275  44.238202  29.322988 2012-07-22 11:45:00  32\n",
       "7276  41.846296  29.179892 2012-07-22 12:00:00  32\n",
       "7277  40.538222  29.515691 2012-07-22 12:15:00  32\n",
       "7278  34.333204  30.093801 2012-07-22 12:30:00  32\n",
       "7279  34.624112  30.263608 2012-07-22 12:45:00  32\n",
       "7280  35.836227  30.384763 2012-07-22 13:00:00  32\n",
       "7281  36.284709  30.069951 2012-07-22 13:15:00  32\n",
       "\n",
       "[7282 rows x 4 columns]"
      ]
     },
     "execution_count": 219,
     "metadata": {},
     "output_type": "execute_result"
    }
   ],
   "source": [
    "df32"
   ]
  },
  {
   "cell_type": "code",
   "execution_count": 215,
   "metadata": {},
   "outputs": [
    {
     "data": {
      "text/html": [
       "<div>\n",
       "<table border=\"1\" class=\"dataframe\">\n",
       "  <thead>\n",
       "    <tr style=\"text-align: right;\">\n",
       "      <th></th>\n",
       "      <th>RH</th>\n",
       "      <th>T</th>\n",
       "      <th>dt</th>\n",
       "    </tr>\n",
       "  </thead>\n",
       "  <tbody>\n",
       "    <tr>\n",
       "      <th>316</th>\n",
       "      <td>74.069356</td>\n",
       "      <td>9.453575</td>\n",
       "      <td>2012-05-11 00:00:00</td>\n",
       "    </tr>\n",
       "    <tr>\n",
       "      <th>317</th>\n",
       "      <td>73.688550</td>\n",
       "      <td>9.382027</td>\n",
       "      <td>2012-05-11 00:15:00</td>\n",
       "    </tr>\n",
       "    <tr>\n",
       "      <th>318</th>\n",
       "      <td>76.861261</td>\n",
       "      <td>9.146395</td>\n",
       "      <td>2012-05-11 00:30:00</td>\n",
       "    </tr>\n",
       "    <tr>\n",
       "      <th>319</th>\n",
       "      <td>76.882473</td>\n",
       "      <td>8.862110</td>\n",
       "      <td>2012-05-11 00:45:00</td>\n",
       "    </tr>\n",
       "    <tr>\n",
       "      <th>320</th>\n",
       "      <td>78.442060</td>\n",
       "      <td>8.648419</td>\n",
       "      <td>2012-05-11 01:00:00</td>\n",
       "    </tr>\n",
       "    <tr>\n",
       "      <th>321</th>\n",
       "      <td>79.131956</td>\n",
       "      <td>8.410879</td>\n",
       "      <td>2012-05-11 01:15:00</td>\n",
       "    </tr>\n",
       "    <tr>\n",
       "      <th>322</th>\n",
       "      <td>80.878411</td>\n",
       "      <td>8.148536</td>\n",
       "      <td>2012-05-11 01:30:00</td>\n",
       "    </tr>\n",
       "    <tr>\n",
       "      <th>323</th>\n",
       "      <td>80.998612</td>\n",
       "      <td>8.076988</td>\n",
       "      <td>2012-05-11 01:45:00</td>\n",
       "    </tr>\n",
       "    <tr>\n",
       "      <th>324</th>\n",
       "      <td>81.513761</td>\n",
       "      <td>7.837540</td>\n",
       "      <td>2012-05-11 02:00:00</td>\n",
       "    </tr>\n",
       "    <tr>\n",
       "      <th>325</th>\n",
       "      <td>82.782441</td>\n",
       "      <td>7.598092</td>\n",
       "      <td>2012-05-11 02:15:00</td>\n",
       "    </tr>\n",
       "    <tr>\n",
       "      <th>326</th>\n",
       "      <td>82.673351</td>\n",
       "      <td>7.477891</td>\n",
       "      <td>2012-05-11 02:30:00</td>\n",
       "    </tr>\n",
       "    <tr>\n",
       "      <th>327</th>\n",
       "      <td>82.098606</td>\n",
       "      <td>7.332886</td>\n",
       "      <td>2012-05-11 02:45:00</td>\n",
       "    </tr>\n",
       "    <tr>\n",
       "      <th>328</th>\n",
       "      <td>84.185464</td>\n",
       "      <td>7.067681</td>\n",
       "      <td>2012-05-11 03:00:00</td>\n",
       "    </tr>\n",
       "    <tr>\n",
       "      <th>329</th>\n",
       "      <td>83.960213</td>\n",
       "      <td>7.019982</td>\n",
       "      <td>2012-05-11 03:15:00</td>\n",
       "    </tr>\n",
       "    <tr>\n",
       "      <th>330</th>\n",
       "      <td>85.225862</td>\n",
       "      <td>6.850174</td>\n",
       "      <td>2012-05-11 03:30:00</td>\n",
       "    </tr>\n",
       "    <tr>\n",
       "      <th>331</th>\n",
       "      <td>85.865253</td>\n",
       "      <td>6.753823</td>\n",
       "      <td>2012-05-11 03:45:00</td>\n",
       "    </tr>\n",
       "    <tr>\n",
       "      <th>332</th>\n",
       "      <td>86.638986</td>\n",
       "      <td>6.461906</td>\n",
       "      <td>2012-05-11 04:00:00</td>\n",
       "    </tr>\n",
       "    <tr>\n",
       "      <th>333</th>\n",
       "      <td>88.401603</td>\n",
       "      <td>6.169989</td>\n",
       "      <td>2012-05-11 04:15:00</td>\n",
       "    </tr>\n",
       "    <tr>\n",
       "      <th>334</th>\n",
       "      <td>89.301598</td>\n",
       "      <td>6.023077</td>\n",
       "      <td>2012-05-11 04:30:00</td>\n",
       "    </tr>\n",
       "    <tr>\n",
       "      <th>335</th>\n",
       "      <td>89.647051</td>\n",
       "      <td>5.754056</td>\n",
       "      <td>2012-05-11 04:45:00</td>\n",
       "    </tr>\n",
       "    <tr>\n",
       "      <th>336</th>\n",
       "      <td>91.317749</td>\n",
       "      <td>5.630993</td>\n",
       "      <td>2012-05-11 05:00:00</td>\n",
       "    </tr>\n",
       "    <tr>\n",
       "      <th>337</th>\n",
       "      <td>91.060175</td>\n",
       "      <td>5.630993</td>\n",
       "      <td>2012-05-11 05:15:00</td>\n",
       "    </tr>\n",
       "    <tr>\n",
       "      <th>338</th>\n",
       "      <td>90.917751</td>\n",
       "      <td>5.483127</td>\n",
       "      <td>2012-05-11 05:30:00</td>\n",
       "    </tr>\n",
       "    <tr>\n",
       "      <th>339</th>\n",
       "      <td>91.476334</td>\n",
       "      <td>5.458323</td>\n",
       "      <td>2012-05-11 05:45:00</td>\n",
       "    </tr>\n",
       "    <tr>\n",
       "      <th>340</th>\n",
       "      <td>91.086437</td>\n",
       "      <td>5.729252</td>\n",
       "      <td>2012-05-11 06:00:00</td>\n",
       "    </tr>\n",
       "    <tr>\n",
       "      <th>341</th>\n",
       "      <td>89.593516</td>\n",
       "      <td>6.047880</td>\n",
       "      <td>2012-05-11 06:15:00</td>\n",
       "    </tr>\n",
       "    <tr>\n",
       "      <th>342</th>\n",
       "      <td>89.267255</td>\n",
       "      <td>6.292098</td>\n",
       "      <td>2012-05-11 06:30:00</td>\n",
       "    </tr>\n",
       "    <tr>\n",
       "      <th>343</th>\n",
       "      <td>84.162232</td>\n",
       "      <td>7.188836</td>\n",
       "      <td>2012-05-11 06:45:00</td>\n",
       "    </tr>\n",
       "    <tr>\n",
       "      <th>344</th>\n",
       "      <td>80.758209</td>\n",
       "      <td>8.100837</td>\n",
       "      <td>2012-05-11 07:00:00</td>\n",
       "    </tr>\n",
       "    <tr>\n",
       "      <th>345</th>\n",
       "      <td>73.248148</td>\n",
       "      <td>9.712102</td>\n",
       "      <td>2012-05-11 07:15:00</td>\n",
       "    </tr>\n",
       "    <tr>\n",
       "      <th>...</th>\n",
       "      <td>...</td>\n",
       "      <td>...</td>\n",
       "      <td>...</td>\n",
       "    </tr>\n",
       "    <tr>\n",
       "      <th>7150</th>\n",
       "      <td>93.812685</td>\n",
       "      <td>11.440707</td>\n",
       "      <td>2012-07-21 04:30:00</td>\n",
       "    </tr>\n",
       "    <tr>\n",
       "      <th>7151</th>\n",
       "      <td>93.923796</td>\n",
       "      <td>11.371067</td>\n",
       "      <td>2012-07-21 04:45:00</td>\n",
       "    </tr>\n",
       "    <tr>\n",
       "      <th>7152</th>\n",
       "      <td>94.698539</td>\n",
       "      <td>11.255636</td>\n",
       "      <td>2012-07-21 05:00:00</td>\n",
       "    </tr>\n",
       "    <tr>\n",
       "      <th>7153</th>\n",
       "      <td>94.185411</td>\n",
       "      <td>11.278531</td>\n",
       "      <td>2012-07-21 05:15:00</td>\n",
       "    </tr>\n",
       "    <tr>\n",
       "      <th>7154</th>\n",
       "      <td>94.341975</td>\n",
       "      <td>11.185041</td>\n",
       "      <td>2012-07-21 05:30:00</td>\n",
       "    </tr>\n",
       "    <tr>\n",
       "      <th>7155</th>\n",
       "      <td>95.016719</td>\n",
       "      <td>10.999016</td>\n",
       "      <td>2012-07-21 05:45:00</td>\n",
       "    </tr>\n",
       "    <tr>\n",
       "      <th>7156</th>\n",
       "      <td>94.918740</td>\n",
       "      <td>11.115401</td>\n",
       "      <td>2012-07-21 06:00:00</td>\n",
       "    </tr>\n",
       "    <tr>\n",
       "      <th>7157</th>\n",
       "      <td>95.797523</td>\n",
       "      <td>11.394916</td>\n",
       "      <td>2012-07-21 06:15:00</td>\n",
       "    </tr>\n",
       "    <tr>\n",
       "      <th>7158</th>\n",
       "      <td>95.110658</td>\n",
       "      <td>11.626732</td>\n",
       "      <td>2012-07-21 06:30:00</td>\n",
       "    </tr>\n",
       "    <tr>\n",
       "      <th>7159</th>\n",
       "      <td>94.705610</td>\n",
       "      <td>12.043620</td>\n",
       "      <td>2012-07-21 06:45:00</td>\n",
       "    </tr>\n",
       "    <tr>\n",
       "      <th>7160</th>\n",
       "      <td>94.059149</td>\n",
       "      <td>12.643671</td>\n",
       "      <td>2012-07-21 07:00:00</td>\n",
       "    </tr>\n",
       "    <tr>\n",
       "      <th>7161</th>\n",
       "      <td>92.150068</td>\n",
       "      <td>13.287605</td>\n",
       "      <td>2012-07-21 07:15:00</td>\n",
       "    </tr>\n",
       "    <tr>\n",
       "      <th>7162</th>\n",
       "      <td>89.389477</td>\n",
       "      <td>14.181480</td>\n",
       "      <td>2012-07-21 07:30:00</td>\n",
       "    </tr>\n",
       "    <tr>\n",
       "      <th>7163</th>\n",
       "      <td>86.822824</td>\n",
       "      <td>14.979958</td>\n",
       "      <td>2012-07-21 07:45:00</td>\n",
       "    </tr>\n",
       "    <tr>\n",
       "      <th>7164</th>\n",
       "      <td>82.927895</td>\n",
       "      <td>16.255424</td>\n",
       "      <td>2012-07-21 08:00:00</td>\n",
       "    </tr>\n",
       "    <tr>\n",
       "      <th>7165</th>\n",
       "      <td>80.235990</td>\n",
       "      <td>17.027191</td>\n",
       "      <td>2012-07-21 08:15:00</td>\n",
       "    </tr>\n",
       "    <tr>\n",
       "      <th>7166</th>\n",
       "      <td>78.190546</td>\n",
       "      <td>17.957317</td>\n",
       "      <td>2012-07-21 08:30:00</td>\n",
       "    </tr>\n",
       "    <tr>\n",
       "      <th>7167</th>\n",
       "      <td>73.668348</td>\n",
       "      <td>19.182223</td>\n",
       "      <td>2012-07-21 08:45:00</td>\n",
       "    </tr>\n",
       "    <tr>\n",
       "      <th>7168</th>\n",
       "      <td>71.370381</td>\n",
       "      <td>20.522559</td>\n",
       "      <td>2012-07-21 09:00:00</td>\n",
       "    </tr>\n",
       "    <tr>\n",
       "      <th>7169</th>\n",
       "      <td>65.386574</td>\n",
       "      <td>21.638711</td>\n",
       "      <td>2012-07-21 09:15:00</td>\n",
       "    </tr>\n",
       "    <tr>\n",
       "      <th>7170</th>\n",
       "      <td>63.950218</td>\n",
       "      <td>23.032470</td>\n",
       "      <td>2012-07-21 09:30:00</td>\n",
       "    </tr>\n",
       "    <tr>\n",
       "      <th>7171</th>\n",
       "      <td>56.502783</td>\n",
       "      <td>24.205861</td>\n",
       "      <td>2012-07-21 09:45:00</td>\n",
       "    </tr>\n",
       "    <tr>\n",
       "      <th>7172</th>\n",
       "      <td>54.245219</td>\n",
       "      <td>24.828807</td>\n",
       "      <td>2012-07-21 10:00:00</td>\n",
       "    </tr>\n",
       "    <tr>\n",
       "      <th>7173</th>\n",
       "      <td>50.206857</td>\n",
       "      <td>26.084239</td>\n",
       "      <td>2012-07-21 10:15:00</td>\n",
       "    </tr>\n",
       "    <tr>\n",
       "      <th>7174</th>\n",
       "      <td>51.976545</td>\n",
       "      <td>26.014599</td>\n",
       "      <td>2012-07-21 10:30:00</td>\n",
       "    </tr>\n",
       "    <tr>\n",
       "      <th>7175</th>\n",
       "      <td>52.386644</td>\n",
       "      <td>26.177729</td>\n",
       "      <td>2012-07-21 10:45:00</td>\n",
       "    </tr>\n",
       "    <tr>\n",
       "      <th>7176</th>\n",
       "      <td>50.384634</td>\n",
       "      <td>26.200624</td>\n",
       "      <td>2012-07-21 11:00:00</td>\n",
       "    </tr>\n",
       "    <tr>\n",
       "      <th>7177</th>\n",
       "      <td>49.114944</td>\n",
       "      <td>26.434349</td>\n",
       "      <td>2012-07-21 11:15:00</td>\n",
       "    </tr>\n",
       "    <tr>\n",
       "      <th>7178</th>\n",
       "      <td>47.453336</td>\n",
       "      <td>26.974299</td>\n",
       "      <td>2012-07-21 11:30:00</td>\n",
       "    </tr>\n",
       "    <tr>\n",
       "      <th>7179</th>\n",
       "      <td>46.592735</td>\n",
       "      <td>27.185128</td>\n",
       "      <td>2012-07-21 11:45:00</td>\n",
       "    </tr>\n",
       "  </tbody>\n",
       "</table>\n",
       "<p>6864 rows × 3 columns</p>\n",
       "</div>"
      ],
      "text/plain": [
       "             RH          T                  dt\n",
       "316   74.069356   9.453575 2012-05-11 00:00:00\n",
       "317   73.688550   9.382027 2012-05-11 00:15:00\n",
       "318   76.861261   9.146395 2012-05-11 00:30:00\n",
       "319   76.882473   8.862110 2012-05-11 00:45:00\n",
       "320   78.442060   8.648419 2012-05-11 01:00:00\n",
       "321   79.131956   8.410879 2012-05-11 01:15:00\n",
       "322   80.878411   8.148536 2012-05-11 01:30:00\n",
       "323   80.998612   8.076988 2012-05-11 01:45:00\n",
       "324   81.513761   7.837540 2012-05-11 02:00:00\n",
       "325   82.782441   7.598092 2012-05-11 02:15:00\n",
       "326   82.673351   7.477891 2012-05-11 02:30:00\n",
       "327   82.098606   7.332886 2012-05-11 02:45:00\n",
       "328   84.185464   7.067681 2012-05-11 03:00:00\n",
       "329   83.960213   7.019982 2012-05-11 03:15:00\n",
       "330   85.225862   6.850174 2012-05-11 03:30:00\n",
       "331   85.865253   6.753823 2012-05-11 03:45:00\n",
       "332   86.638986   6.461906 2012-05-11 04:00:00\n",
       "333   88.401603   6.169989 2012-05-11 04:15:00\n",
       "334   89.301598   6.023077 2012-05-11 04:30:00\n",
       "335   89.647051   5.754056 2012-05-11 04:45:00\n",
       "336   91.317749   5.630993 2012-05-11 05:00:00\n",
       "337   91.060175   5.630993 2012-05-11 05:15:00\n",
       "338   90.917751   5.483127 2012-05-11 05:30:00\n",
       "339   91.476334   5.458323 2012-05-11 05:45:00\n",
       "340   91.086437   5.729252 2012-05-11 06:00:00\n",
       "341   89.593516   6.047880 2012-05-11 06:15:00\n",
       "342   89.267255   6.292098 2012-05-11 06:30:00\n",
       "343   84.162232   7.188836 2012-05-11 06:45:00\n",
       "344   80.758209   8.100837 2012-05-11 07:00:00\n",
       "345   73.248148   9.712102 2012-05-11 07:15:00\n",
       "...         ...        ...                 ...\n",
       "7150  93.812685  11.440707 2012-07-21 04:30:00\n",
       "7151  93.923796  11.371067 2012-07-21 04:45:00\n",
       "7152  94.698539  11.255636 2012-07-21 05:00:00\n",
       "7153  94.185411  11.278531 2012-07-21 05:15:00\n",
       "7154  94.341975  11.185041 2012-07-21 05:30:00\n",
       "7155  95.016719  10.999016 2012-07-21 05:45:00\n",
       "7156  94.918740  11.115401 2012-07-21 06:00:00\n",
       "7157  95.797523  11.394916 2012-07-21 06:15:00\n",
       "7158  95.110658  11.626732 2012-07-21 06:30:00\n",
       "7159  94.705610  12.043620 2012-07-21 06:45:00\n",
       "7160  94.059149  12.643671 2012-07-21 07:00:00\n",
       "7161  92.150068  13.287605 2012-07-21 07:15:00\n",
       "7162  89.389477  14.181480 2012-07-21 07:30:00\n",
       "7163  86.822824  14.979958 2012-07-21 07:45:00\n",
       "7164  82.927895  16.255424 2012-07-21 08:00:00\n",
       "7165  80.235990  17.027191 2012-07-21 08:15:00\n",
       "7166  78.190546  17.957317 2012-07-21 08:30:00\n",
       "7167  73.668348  19.182223 2012-07-21 08:45:00\n",
       "7168  71.370381  20.522559 2012-07-21 09:00:00\n",
       "7169  65.386574  21.638711 2012-07-21 09:15:00\n",
       "7170  63.950218  23.032470 2012-07-21 09:30:00\n",
       "7171  56.502783  24.205861 2012-07-21 09:45:00\n",
       "7172  54.245219  24.828807 2012-07-21 10:00:00\n",
       "7173  50.206857  26.084239 2012-07-21 10:15:00\n",
       "7174  51.976545  26.014599 2012-07-21 10:30:00\n",
       "7175  52.386644  26.177729 2012-07-21 10:45:00\n",
       "7176  50.384634  26.200624 2012-07-21 11:00:00\n",
       "7177  49.114944  26.434349 2012-07-21 11:15:00\n",
       "7178  47.453336  26.974299 2012-07-21 11:30:00\n",
       "7179  46.592735  27.185128 2012-07-21 11:45:00\n",
       "\n",
       "[6864 rows x 3 columns]"
      ]
     },
     "execution_count": 215,
     "metadata": {},
     "output_type": "execute_result"
    }
   ],
   "source": [
    "df32[(df32.dt >= datetime.datetime(2012,5,11,0,0)) & (df32.dt <= datetime.datetime(2012,7,21,11,45))]"
   ]
  },
  {
   "cell_type": "code",
   "execution_count": null,
   "metadata": {
    "collapsed": true
   },
   "outputs": [],
   "source": [
    "#plot difference\n"
   ]
  },
  {
   "cell_type": "code",
   "execution_count": null,
   "metadata": {
    "collapsed": true
   },
   "outputs": [],
   "source": [
    "#However all sensors were deployed May11-Jul21, because that was the \n",
    "#minimum deployment. So first we need to go one by one and trim the sensors down to the same\n",
    "#time frame:"
   ]
  },
  {
   "cell_type": "code",
   "execution_count": null,
   "metadata": {
    "collapsed": true
   },
   "outputs": [],
   "source": [
    "#First make dictionary:\n",
    "climatologyT=dict()"
   ]
  },
  {
   "cell_type": "code",
   "execution_count": 53,
   "metadata": {},
   "outputs": [
    {
     "data": {
      "text/plain": [
       "(12,)"
      ]
     },
     "execution_count": 53,
     "metadata": {},
     "output_type": "execute_result"
    }
   ],
   "source": [
    "a=np.array([1,2,3,1,2,3,1,2,3,1,2,3])\n",
    "shape(a)"
   ]
  },
  {
   "cell_type": "code",
   "execution_count": 107,
   "metadata": {},
   "outputs": [
    {
     "data": {
      "text/plain": [
       "(12,)"
      ]
     },
     "execution_count": 107,
     "metadata": {},
     "output_type": "execute_result"
    }
   ],
   "source": [
    "d=a[0:12]\n",
    "shape(d)"
   ]
  },
  {
   "cell_type": "code",
   "execution_count": null,
   "metadata": {
    "collapsed": true
   },
   "outputs": [],
   "source": []
  },
  {
   "cell_type": "code",
   "execution_count": 85,
   "metadata": {},
   "outputs": [
    {
     "name": "stdout",
     "output_type": "stream",
     "text": [
      "[[1 2 3 1]\n",
      " [2 3 1 2]\n",
      " [3 1 2 3]]\n"
     ]
    }
   ],
   "source": [
    "b=a.reshape(3,4)\n",
    "print(b)"
   ]
  },
  {
   "cell_type": "code",
   "execution_count": 63,
   "metadata": {},
   "outputs": [
    {
     "name": "stdout",
     "output_type": "stream",
     "text": [
      "[1 1 1 1]\n"
     ]
    }
   ],
   "source": [
    "c=a[::3]\n",
    "print(c)"
   ]
  },
  {
   "cell_type": "code",
   "execution_count": 179,
   "metadata": {},
   "outputs": [
    {
     "data": {
      "text/plain": [
       "array([1, 2, 3, 1, 2, 3, 1, 2, 3, 1, 2, 3])"
      ]
     },
     "execution_count": 179,
     "metadata": {},
     "output_type": "execute_result"
    }
   ],
   "source": [
    "a"
   ]
  },
  {
   "cell_type": "code",
   "execution_count": 181,
   "metadata": {},
   "outputs": [
    {
     "ename": "AttributeError",
     "evalue": "'numpy.ndarray' object has no attribute 'ix'",
     "output_type": "error",
     "traceback": [
      "\u001b[0;31m---------------------------------------------------------------------------\u001b[0m",
      "\u001b[0;31mAttributeError\u001b[0m                            Traceback (most recent call last)",
      "\u001b[0;32m<ipython-input-181-921979cb7b88>\u001b[0m in \u001b[0;36m<module>\u001b[0;34m()\u001b[0m\n\u001b[0;32m----> 1\u001b[0;31m \u001b[0ma\u001b[0m\u001b[0;34m.\u001b[0m\u001b[0mix\u001b[0m\u001b[0;34m[\u001b[0m\u001b[0;36m2\u001b[0m\u001b[0;34m:\u001b[0m\u001b[0;36m4\u001b[0m\u001b[0;34m]\u001b[0m\u001b[0;34m\u001b[0m\u001b[0m\n\u001b[0m",
      "\u001b[0;31mAttributeError\u001b[0m: 'numpy.ndarray' object has no attribute 'ix'"
     ]
    }
   ],
   "source": []
  },
  {
   "cell_type": "code",
   "execution_count": null,
   "metadata": {
    "collapsed": true
   },
   "outputs": [],
   "source": []
  }
 ],
 "metadata": {
  "kernelspec": {
   "display_name": "Python 3",
   "language": "python",
   "name": "python3"
  },
  "language_info": {
   "codemirror_mode": {
    "name": "ipython",
    "version": 3
   },
   "file_extension": ".py",
   "mimetype": "text/x-python",
   "name": "python",
   "nbconvert_exporter": "python",
   "pygments_lexer": "ipython3",
   "version": "3.5.2"
  }
 },
 "nbformat": 4,
 "nbformat_minor": 1
}
