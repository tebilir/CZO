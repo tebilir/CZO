{
 "cells": [
  {
   "cell_type": "markdown",
   "metadata": {},
   "source": [
    "# Keck HOBO data\n",
    "\n",
    "HOBO sensors were strung down various trees in Rivendell. There are also HOBO sensors along the ground surface.\n",
    "\n",
    "HOBOSensorMap.jpg gives the locations of the sensors. HOBODeviceProperties.xlsx gives the SensorID numbers, Tree Name, Sensor height above the ground, and the date deployed\n",
    "\n",
    "Holly Maness did a calibration across all the sensors and produced a pickle file HOBOdata.p.\n",
    "\n",
    "This code combines a lot commands into \"def\"..  \n",
    "  (1) treetable = gettable(input_tree)    # gets all the data for the tree..  \n",
    "  (2) \n"
   ]
  },
  {
   "cell_type": "code",
   "execution_count": 6,
   "metadata": {},
   "outputs": [
    {
     "name": "stdout",
     "output_type": "stream",
     "text": [
      "Populating the interactive namespace from numpy and matplotlib\n"
     ]
    },
    {
     "name": "stderr",
     "output_type": "stream",
     "text": [
      "/Users/Eren/anaconda/lib/python3.5/site-packages/IPython/core/magics/pylab.py:161: UserWarning: pylab import has clobbered these variables: ['mod', 'matmul', 'invert', 'add', 'inv']\n",
      "`%matplotlib` prevents importing * from pylab and numpy\n",
      "  \"\\n`%matplotlib` prevents importing * from pylab and numpy\"\n"
     ]
    }
   ],
   "source": [
    "#python 3\n",
    "%pylab inline\n",
    "\n",
    "import numpy as np\n",
    "#from matplotlib.pyplot import plot,scatter,savefig,figure,colorbar,suptitle,close,show,subplot,rgrids, contourf, contour\n",
    "from matplotlib.mlab import csv2rec\n",
    "import matplotlib.pyplot as plt\n",
    "import datetime \n",
    "from operator import *\n",
    "from matplotlib.dates import DateFormatter\n",
    "import pickle # works for python 3.x and optimizes speed (works in Python 2.x also, but is relatively slow)\n",
    "import pandas as pd\n",
    "from pprint import pprint"
   ]
  },
  {
   "cell_type": "code",
   "execution_count": 7,
   "metadata": {},
   "outputs": [
    {
     "data": {
      "text/html": [
       "<div>\n",
       "<table border=\"1\" class=\"dataframe\">\n",
       "  <thead>\n",
       "    <tr style=\"text-align: right;\">\n",
       "      <th></th>\n",
       "      <th>32</th>\n",
       "      <th>33</th>\n",
       "      <th>34</th>\n",
       "      <th>35</th>\n",
       "      <th>36</th>\n",
       "      <th>37</th>\n",
       "      <th>38</th>\n",
       "      <th>39</th>\n",
       "      <th>40</th>\n",
       "      <th>41</th>\n",
       "      <th>...</th>\n",
       "      <th>797</th>\n",
       "      <th>798</th>\n",
       "      <th>799</th>\n",
       "      <th>800</th>\n",
       "      <th>803</th>\n",
       "      <th>804</th>\n",
       "      <th>807</th>\n",
       "      <th>808</th>\n",
       "      <th>809</th>\n",
       "      <th>810</th>\n",
       "    </tr>\n",
       "  </thead>\n",
       "  <tbody>\n",
       "    <tr>\n",
       "      <th>RH</th>\n",
       "      <td>[74.9208668514, 74.9390485727, 74.9279375208, ...</td>\n",
       "      <td>[53.6421923707, 53.9179484769, 54.1563310449, ...</td>\n",
       "      <td>[30.8544350231, 30.9190811432, 31.7281677405, ...</td>\n",
       "      <td>[54.3209766321, 53.8331004442, 54.2926939545, ...</td>\n",
       "      <td>[98.9722538285, 99.0813441562, 99.0136677492, ...</td>\n",
       "      <td>[30.8180715805, 31.017060419, 31.2433218395, 3...</td>\n",
       "      <td>[24.9877996208, 23.1433650057, 24.4797215204, ...</td>\n",
       "      <td>[43.5614380121, 42.713967781, 42.4281107185, 3...</td>\n",
       "      <td>[98.483367545, 97.7480179284, 98.5975083508, 9...</td>\n",
       "      <td>[54.6876413447, 55.4270313438, 56.0704622582, ...</td>\n",
       "      <td>...</td>\n",
       "      <td>[99.8371306286, 99.8371306286, 99.8371306286, ...</td>\n",
       "      <td>[99.8371306286, 99.8371306286, 99.8371306286, ...</td>\n",
       "      <td>[99.8371306286, 99.8371306286, 99.8371306286, ...</td>\n",
       "      <td>[99.8371306286, 99.8371306286, 99.8371306286, ...</td>\n",
       "      <td>[nan, nan, nan, nan, nan, nan, nan, nan, nan, ...</td>\n",
       "      <td>[99.8371306286, 99.8371306286, 99.8371306286, ...</td>\n",
       "      <td>[99.8371306286, 99.8371306286, 99.8371306286, ...</td>\n",
       "      <td>[99.8371306286, 99.8371306286, 99.8371306286, ...</td>\n",
       "      <td>[99.8371306286, 99.8371306286, 99.8371306286, ...</td>\n",
       "      <td>[99.8371306286, 99.8371306286, 99.8371306286, ...</td>\n",
       "    </tr>\n",
       "    <tr>\n",
       "      <th>T</th>\n",
       "      <td>[23.8824626467, 23.9749983232, 24.0675339998, ...</td>\n",
       "      <td>[20.2955127109, 20.4548267107, 20.3632450102, ...</td>\n",
       "      <td>[24.990982813, 25.3391840701, 25.5948496506, 2...</td>\n",
       "      <td>[20.4090358604, 20.52255901, 20.4319312856, 20...</td>\n",
       "      <td>[8.24393331216, 8.363180318, 7.95774049813, 8....</td>\n",
       "      <td>[24.9680873879, 25.2924392438, 25.5252093992, ...</td>\n",
       "      <td>[23.9749983232, 24.459618155, 24.644689508, 24...</td>\n",
       "      <td>[23.6525544194, 23.7221946708, 23.8137763713, ...</td>\n",
       "      <td>[8.02928870164, 8.00543930047, 8.07698750398, ...</td>\n",
       "      <td>[20.3403495851, 20.2497218606, 20.1590941362, ...</td>\n",
       "      <td>...</td>\n",
       "      <td>[5.10054108576, 5.59014848617, 6.00414084404, ...</td>\n",
       "      <td>[6.00414084404, 5.85858188716, 6.12512491209, ...</td>\n",
       "      <td>[5.00224153047, 6.39166793702, 6.60811599627, ...</td>\n",
       "      <td>[5.90678647678, 5.68750285343, 6.17332950171, ...</td>\n",
       "      <td>[5.05139130812, 6.07692032248, 6.80093435473, ...</td>\n",
       "      <td>[5.10054108576, 5.61472337499, 6.07692032248, ...</td>\n",
       "      <td>[5.83400699834, 5.63929826381, 5.9313613656, 6...</td>\n",
       "      <td>[5.05139130812, 6.75272976512, 6.92097323476, ...</td>\n",
       "      <td>[5.12511597459, 6.17332950171, 6.82456405553, ...</td>\n",
       "      <td>[5.14969086341, 5.63929826381, 6.07692032248, ...</td>\n",
       "    </tr>\n",
       "    <tr>\n",
       "      <th>dt</th>\n",
       "      <td>[2012-05-07 17:00:00, 2012-05-07 17:15:00, 201...</td>\n",
       "      <td>[2012-02-03 21:15:00, 2012-02-03 21:30:00, 201...</td>\n",
       "      <td>[2012-05-07 17:00:00, 2012-05-07 17:15:00, 201...</td>\n",
       "      <td>[2012-02-03 20:45:00, 2012-02-03 21:00:00, 201...</td>\n",
       "      <td>[2012-02-07 12:00:00, 2012-02-07 12:15:00, 201...</td>\n",
       "      <td>[2012-05-07 17:00:00, 2012-05-07 17:15:00, 201...</td>\n",
       "      <td>[2012-05-07 16:15:00, 2012-05-07 16:30:00, 201...</td>\n",
       "      <td>[2012-05-07 17:00:00, 2012-05-07 17:15:00, 201...</td>\n",
       "      <td>[2012-02-07 00:15:00, 2012-02-07 00:30:00, 201...</td>\n",
       "      <td>[2012-02-03 21:00:00, 2012-02-03 21:15:00, 201...</td>\n",
       "      <td>...</td>\n",
       "      <td>[2010-01-23 12:12:53, 2010-01-23 12:42:53, 201...</td>\n",
       "      <td>[2010-01-23 11:38:12, 2010-01-23 12:08:12, 201...</td>\n",
       "      <td>[2010-01-23 12:16:56, 2010-01-23 12:46:56, 201...</td>\n",
       "      <td>[2010-01-23 11:41:37, 2010-01-23 12:11:37, 201...</td>\n",
       "      <td>[2010-01-23 12:19:04, 2010-01-23 12:49:04, 201...</td>\n",
       "      <td>[2010-01-23 12:14:57, 2010-01-23 12:44:57, 201...</td>\n",
       "      <td>[2010-01-23 11:39:14, 2010-01-23 12:09:14, 201...</td>\n",
       "      <td>[2010-01-23 12:18:04, 2010-01-23 12:48:04, 201...</td>\n",
       "      <td>[2010-01-23 12:20:02, 2010-01-23 12:50:02, 201...</td>\n",
       "      <td>[2010-01-23 12:13:53, 2010-01-23 12:43:53, 201...</td>\n",
       "    </tr>\n",
       "  </tbody>\n",
       "</table>\n",
       "<p>3 rows × 46 columns</p>\n",
       "</div>"
      ],
      "text/plain": [
       "                                                   32  \\\n",
       "RH  [74.9208668514, 74.9390485727, 74.9279375208, ...   \n",
       "T   [23.8824626467, 23.9749983232, 24.0675339998, ...   \n",
       "dt  [2012-05-07 17:00:00, 2012-05-07 17:15:00, 201...   \n",
       "\n",
       "                                                   33  \\\n",
       "RH  [53.6421923707, 53.9179484769, 54.1563310449, ...   \n",
       "T   [20.2955127109, 20.4548267107, 20.3632450102, ...   \n",
       "dt  [2012-02-03 21:15:00, 2012-02-03 21:30:00, 201...   \n",
       "\n",
       "                                                   34  \\\n",
       "RH  [30.8544350231, 30.9190811432, 31.7281677405, ...   \n",
       "T   [24.990982813, 25.3391840701, 25.5948496506, 2...   \n",
       "dt  [2012-05-07 17:00:00, 2012-05-07 17:15:00, 201...   \n",
       "\n",
       "                                                   35  \\\n",
       "RH  [54.3209766321, 53.8331004442, 54.2926939545, ...   \n",
       "T   [20.4090358604, 20.52255901, 20.4319312856, 20...   \n",
       "dt  [2012-02-03 20:45:00, 2012-02-03 21:00:00, 201...   \n",
       "\n",
       "                                                   36  \\\n",
       "RH  [98.9722538285, 99.0813441562, 99.0136677492, ...   \n",
       "T   [8.24393331216, 8.363180318, 7.95774049813, 8....   \n",
       "dt  [2012-02-07 12:00:00, 2012-02-07 12:15:00, 201...   \n",
       "\n",
       "                                                   37  \\\n",
       "RH  [30.8180715805, 31.017060419, 31.2433218395, 3...   \n",
       "T   [24.9680873879, 25.2924392438, 25.5252093992, ...   \n",
       "dt  [2012-05-07 17:00:00, 2012-05-07 17:15:00, 201...   \n",
       "\n",
       "                                                   38  \\\n",
       "RH  [24.9877996208, 23.1433650057, 24.4797215204, ...   \n",
       "T   [23.9749983232, 24.459618155, 24.644689508, 24...   \n",
       "dt  [2012-05-07 16:15:00, 2012-05-07 16:30:00, 201...   \n",
       "\n",
       "                                                   39  \\\n",
       "RH  [43.5614380121, 42.713967781, 42.4281107185, 3...   \n",
       "T   [23.6525544194, 23.7221946708, 23.8137763713, ...   \n",
       "dt  [2012-05-07 17:00:00, 2012-05-07 17:15:00, 201...   \n",
       "\n",
       "                                                   40  \\\n",
       "RH  [98.483367545, 97.7480179284, 98.5975083508, 9...   \n",
       "T   [8.02928870164, 8.00543930047, 8.07698750398, ...   \n",
       "dt  [2012-02-07 00:15:00, 2012-02-07 00:30:00, 201...   \n",
       "\n",
       "                                                   41  \\\n",
       "RH  [54.6876413447, 55.4270313438, 56.0704622582, ...   \n",
       "T   [20.3403495851, 20.2497218606, 20.1590941362, ...   \n",
       "dt  [2012-02-03 21:00:00, 2012-02-03 21:15:00, 201...   \n",
       "\n",
       "                          ...                          \\\n",
       "RH                        ...                           \n",
       "T                         ...                           \n",
       "dt                        ...                           \n",
       "\n",
       "                                                  797  \\\n",
       "RH  [99.8371306286, 99.8371306286, 99.8371306286, ...   \n",
       "T   [5.10054108576, 5.59014848617, 6.00414084404, ...   \n",
       "dt  [2010-01-23 12:12:53, 2010-01-23 12:42:53, 201...   \n",
       "\n",
       "                                                  798  \\\n",
       "RH  [99.8371306286, 99.8371306286, 99.8371306286, ...   \n",
       "T   [6.00414084404, 5.85858188716, 6.12512491209, ...   \n",
       "dt  [2010-01-23 11:38:12, 2010-01-23 12:08:12, 201...   \n",
       "\n",
       "                                                  799  \\\n",
       "RH  [99.8371306286, 99.8371306286, 99.8371306286, ...   \n",
       "T   [5.00224153047, 6.39166793702, 6.60811599627, ...   \n",
       "dt  [2010-01-23 12:16:56, 2010-01-23 12:46:56, 201...   \n",
       "\n",
       "                                                  800  \\\n",
       "RH  [99.8371306286, 99.8371306286, 99.8371306286, ...   \n",
       "T   [5.90678647678, 5.68750285343, 6.17332950171, ...   \n",
       "dt  [2010-01-23 11:41:37, 2010-01-23 12:11:37, 201...   \n",
       "\n",
       "                                                  803  \\\n",
       "RH  [nan, nan, nan, nan, nan, nan, nan, nan, nan, ...   \n",
       "T   [5.05139130812, 6.07692032248, 6.80093435473, ...   \n",
       "dt  [2010-01-23 12:19:04, 2010-01-23 12:49:04, 201...   \n",
       "\n",
       "                                                  804  \\\n",
       "RH  [99.8371306286, 99.8371306286, 99.8371306286, ...   \n",
       "T   [5.10054108576, 5.61472337499, 6.07692032248, ...   \n",
       "dt  [2010-01-23 12:14:57, 2010-01-23 12:44:57, 201...   \n",
       "\n",
       "                                                  807  \\\n",
       "RH  [99.8371306286, 99.8371306286, 99.8371306286, ...   \n",
       "T   [5.83400699834, 5.63929826381, 5.9313613656, 6...   \n",
       "dt  [2010-01-23 11:39:14, 2010-01-23 12:09:14, 201...   \n",
       "\n",
       "                                                  808  \\\n",
       "RH  [99.8371306286, 99.8371306286, 99.8371306286, ...   \n",
       "T   [5.05139130812, 6.75272976512, 6.92097323476, ...   \n",
       "dt  [2010-01-23 12:18:04, 2010-01-23 12:48:04, 201...   \n",
       "\n",
       "                                                  809  \\\n",
       "RH  [99.8371306286, 99.8371306286, 99.8371306286, ...   \n",
       "T   [5.12511597459, 6.17332950171, 6.82456405553, ...   \n",
       "dt  [2010-01-23 12:20:02, 2010-01-23 12:50:02, 201...   \n",
       "\n",
       "                                                  810  \n",
       "RH  [99.8371306286, 99.8371306286, 99.8371306286, ...  \n",
       "T   [5.14969086341, 5.63929826381, 6.07692032248, ...  \n",
       "dt  [2010-01-23 12:13:53, 2010-01-23 12:43:53, 201...  \n",
       "\n",
       "[3 rows x 46 columns]"
      ]
     },
     "execution_count": 7,
     "metadata": {},
     "output_type": "execute_result"
    }
   ],
   "source": [
    "# patience.  this takes close to a minute\n",
    "# /davidelvins/Downloads/\n",
    "# or /inez/DATA/KECK_HOBO/HOBO_Holly/\n",
    "A=pd.read_pickle('/Users/Eren/Desktop/data/HOBO/HOBOdata.p')\n",
    "df=pd.DataFrame(A).transpose()   # use sensorID as column heads\n",
    "df.head()"
   ]
  },
  {
   "cell_type": "markdown",
   "metadata": {},
   "source": [
    "### Construct the dictionary \"IDsensor\" \n",
    "\n",
    "so that the keys are the sensor ID number, the values are a tuple of (tree name, tree specifics). \n",
    "\n",
    "For example:\n",
    "IDsensor['798']=('Kevin','1-1')"
   ]
  },
  {
   "cell_type": "code",
   "execution_count": 8,
   "metadata": {
    "collapsed": true
   },
   "outputs": [],
   "source": [
    "IDsensor={'798':('Kevin','1-1'), '807':('Kevin','1-2'), '795':('Kevin','1-3'),  '800':('Kevin','1-4'), \n",
    "           '797':('Kevin','2-1'), '810':('Kevin','2-2'), '804':('Kevin','2-3'),  '796':('Kevin','2-4'),\n",
    "           '799':('S','1'),      '808':('S','2'), '803':('S','3'), '809':('S','4'),\n",
    "           '40':('ILean','30m'),  '52':('ILean','25m'), '44':('ILean','20m'),\n",
    "           '45':('ILean','15m'),  '43':('ILean','10m'), '36':('ILean', '5m'),\n",
    "           '47':('FT','28m'),     '56':('FT','22m'),  '35':('FT','17m'),\n",
    "           '41':('FT','12m'), '33':('FT','7m'), '49':('FT','2m'),\n",
    "           '62':('Ursula','25m'), '58':('Ursula','20m'), '54':('Ursula','15m'),\n",
    "           '61':('Ursula','10m'), '42':('Ursula','5m'),\n",
    "           '59':('SMM','17.5m'),'32':('SMM', '15m'), '60':('SMM', '10m'), '48':('SMM','5m'),\n",
    "           '34':('SMM', '2.5m'), '63':('SMU', '17.5m'),'37':('SMU','15m'),'66':('SMU','10m'),\n",
    "           '65':('SMU', '7.5m'), '64':('SMU','5m'),\n",
    "           '50':('Freddie', '30m'), '51':('Freddie','24m'), '53':('Freddie','18m'),\n",
    "           '39':('Freddie','12m'), '46':('Freddie', '6m'),\n",
    "           '38':('road between well 6 and well 5','N/A'),\n",
    "           '57':('near well 15, top of ridge','N/A')}"
   ]
  },
  {
   "cell_type": "markdown",
   "metadata": {},
   "source": [
    "### Create a function that returns a DataFrame for a single tree and a variable (T or RH)"
   ]
  },
  {
   "cell_type": "code",
   "execution_count": 9,
   "metadata": {
    "collapsed": true
   },
   "outputs": [],
   "source": [
    "#  First get all the data for a single tree\n",
    "def get_treetable(tree,param):\n",
    "    import re\n",
    "    def extract_number(s):\n",
    "        return re.match(r'(-?\\d+(\\.\\d+)?)', s).group(0)\n",
    "    def get_tree_sensorIDs_by_height(input_treename):\n",
    "        tree_numbers_specs={}\n",
    "        tree_numbers=[]\n",
    "        for sensornumber,(treename,treespecs) in IDsensor.items():\n",
    "            if treename==input_treename: \n",
    "                tree_numbers.append(sensornumber)\n",
    "                tree_numbers_specs[sensornumber]=float(extract_number(treespecs))\n",
    "        sorted_by_height=sorted(tree_numbers_specs.items(), key=lambda x: x[1])\n",
    "        ID_sorted_by_height=[item[0] for item in sorted_by_height]\n",
    "        return ID_sorted_by_height\n",
    "    def get_tree_table(input_treename):\n",
    "        dfnew=df[get_tree_sensorIDs_by_height(input_treename)]\n",
    "        column_ID_names=[IDsensor[x] for x in list(dfnew.columns.values)]\n",
    "        print (column_ID_names)\n",
    "        dfnew.columns=column_ID_names\n",
    "        return dfnew\n",
    "    ###\n",
    "    #  Find common time period for all sensors of my tree\n",
    "    def tree_commontime(input_treename):\n",
    "        table=get_tree_table(input_treename)\n",
    "        timestamp=table.ix['dt']\n",
    "        startdate=max(timestamp.apply(itemgetter(0)))\n",
    "        enddate=min(timestamp.apply(itemgetter(-1)))\n",
    "        def mask_by_range(column):\n",
    "            timemask=(column.ix['dt']>=startdate) & (column.ix['dt']<=enddate)\n",
    "            return column.apply(itemgetter(timemask))\n",
    "        return table.apply(mask_by_range)   \n",
    "    ###\n",
    "    #  Extract my variable from my tree table for the common time period\n",
    "    table2=tree_commontime(tree) \n",
    "    treeVar=table2.ix[[param]]\n",
    "    #  create a flat DataFrame with param(sensorID,time)  sensorID is columns, \n",
    "    table_expanded=pd.DataFrame(list(zip(*map(lambda a: a.tolist(), treeVar.values[0].tolist()))),\\\n",
    "                                     columns=treeVar.columns)\n",
    "    #  Use Datetime as index to facilite time averaging etc later.  choose any column, since all 'dt' are same\n",
    "    #  Careful.  use iloc[2][0], or ix['dt'][0].  Here we choose the first column ([0])\n",
    "    table_expanded=table_expanded.set_index(pd.DatetimeIndex(table2.ix['dt'][0]))\n",
    "    return table_expanded\n",
    "    ###################\n",
    "def do_anomaly(row):\n",
    "        return row-np.mean(row)    "
   ]
  },
  {
   "cell_type": "code",
   "execution_count": 19,
   "metadata": {
    "collapsed": true
   },
   "outputs": [],
   "source": [
    "#plot variable(time,sensor) for each tree\n",
    "def plotz(Z,cmin,cmax):    \n",
    "    fig = plt.figure(figsize=(10,10)) \n",
    "    plt.pcolor(Z.transpose(),vmin=cmin,vmax=cmax,cmap='bwr')\n",
    "    xtickmax=Z.shape[0]\n",
    "    ytickmax=Z.shape[1]\n",
    "    xtickrange=range(0,xtickmax)\n",
    "    ytickrange=range(0,ytickmax)\n",
    "    timestamp=Z.index\n",
    "    print(timestamp)\n",
    "    dateonly=[ts.date() for ts in timestamp]     # drop the hours\n",
    "    plt.xticks(xtickrange[: : 2000], dateonly[: : 2000])\n",
    "    #plt.title('Anomalies in '+var+' for tree '+tree)\n",
    "    sensor_name=Z.columns\n",
    "    plt.yticks(ytickrange,sensor_name)\n",
    "    fig.autofmt_xdate()\n",
    "    cb=plt.colorbar()\n",
    "    #cb.set_label('Anomaly in '+var)\n",
    "    return Z.head()"
   ]
  },
  {
   "cell_type": "code",
   "execution_count": null,
   "metadata": {
    "collapsed": true
   },
   "outputs": [],
   "source": [
    "dftree=get_treetable('Ursula','T')\n",
    "dftree2=dftree    # make a new copy so as not to muck up original df\n",
    "dftree2['hour']=[ts.hour for ts in dftree.index]\n",
    "dfhourmean=dftree.groupby('hour').mean()\n",
    "anomaly=dfhourmean.apply(do_anomaly,axis=1)"
   ]
  },
  {
   "cell_type": "code",
   "execution_count": 20,
   "metadata": {},
   "outputs": [
    {
     "name": "stdout",
     "output_type": "stream",
     "text": [
      "Int64Index([ 0,  1,  2,  3,  4,  5,  6,  7,  8,  9, 10, 11, 12, 13, 14, 15, 16,\n",
      "            17, 18, 19, 20, 21, 22, 23],\n",
      "           dtype='int64', name='hour')\n"
     ]
    },
    {
     "ename": "AttributeError",
     "evalue": "'numpy.int64' object has no attribute 'datetime'",
     "output_type": "error",
     "traceback": [
      "\u001b[0;31m---------------------------------------------------------------------------\u001b[0m",
      "\u001b[0;31mAttributeError\u001b[0m                            Traceback (most recent call last)",
      "\u001b[0;32m<ipython-input-20-8a49ee1815af>\u001b[0m in \u001b[0;36m<module>\u001b[0;34m()\u001b[0m\n\u001b[0;32m----> 1\u001b[0;31m \u001b[0mplotz\u001b[0m\u001b[0;34m(\u001b[0m\u001b[0manomaly\u001b[0m\u001b[0;34m,\u001b[0m\u001b[0;34m-\u001b[0m\u001b[0;36m0.3\u001b[0m\u001b[0;34m,\u001b[0m\u001b[0;36m0.3\u001b[0m\u001b[0;34m)\u001b[0m\u001b[0;34m\u001b[0m\u001b[0m\n\u001b[0m",
      "\u001b[0;32m<ipython-input-19-6825ab812344>\u001b[0m in \u001b[0;36mplotz\u001b[0;34m(Z, cmin, cmax)\u001b[0m\n\u001b[1;32m      9\u001b[0m     \u001b[0mtimestamp\u001b[0m\u001b[0;34m=\u001b[0m\u001b[0mZ\u001b[0m\u001b[0;34m.\u001b[0m\u001b[0mindex\u001b[0m\u001b[0;34m\u001b[0m\u001b[0m\n\u001b[1;32m     10\u001b[0m     \u001b[0mprint\u001b[0m\u001b[0;34m(\u001b[0m\u001b[0mtimestamp\u001b[0m\u001b[0;34m)\u001b[0m\u001b[0;34m\u001b[0m\u001b[0m\n\u001b[0;32m---> 11\u001b[0;31m     \u001b[0mdateonly\u001b[0m\u001b[0;34m=\u001b[0m\u001b[0;34m[\u001b[0m\u001b[0mts\u001b[0m\u001b[0;34m.\u001b[0m\u001b[0mdatetime\u001b[0m\u001b[0;34m.\u001b[0m\u001b[0mdate\u001b[0m\u001b[0;34m(\u001b[0m\u001b[0;34m)\u001b[0m \u001b[0;32mfor\u001b[0m \u001b[0mts\u001b[0m \u001b[0;32min\u001b[0m \u001b[0mtimestamp\u001b[0m\u001b[0;34m]\u001b[0m     \u001b[0;31m# drop the hours\u001b[0m\u001b[0;34m\u001b[0m\u001b[0m\n\u001b[0m\u001b[1;32m     12\u001b[0m     \u001b[0mplt\u001b[0m\u001b[0;34m.\u001b[0m\u001b[0mxticks\u001b[0m\u001b[0;34m(\u001b[0m\u001b[0mxtickrange\u001b[0m\u001b[0;34m[\u001b[0m\u001b[0;34m:\u001b[0m \u001b[0;34m:\u001b[0m \u001b[0;36m2000\u001b[0m\u001b[0;34m]\u001b[0m\u001b[0;34m,\u001b[0m \u001b[0mdateonly\u001b[0m\u001b[0;34m[\u001b[0m\u001b[0;34m:\u001b[0m \u001b[0;34m:\u001b[0m \u001b[0;36m2000\u001b[0m\u001b[0;34m]\u001b[0m\u001b[0;34m)\u001b[0m\u001b[0;34m\u001b[0m\u001b[0m\n\u001b[1;32m     13\u001b[0m     \u001b[0;31m#plt.title('Anomalies in '+var+' for tree '+tree)\u001b[0m\u001b[0;34m\u001b[0m\u001b[0;34m\u001b[0m\u001b[0m\n",
      "\u001b[0;32m<ipython-input-19-6825ab812344>\u001b[0m in \u001b[0;36m<listcomp>\u001b[0;34m(.0)\u001b[0m\n\u001b[1;32m      9\u001b[0m     \u001b[0mtimestamp\u001b[0m\u001b[0;34m=\u001b[0m\u001b[0mZ\u001b[0m\u001b[0;34m.\u001b[0m\u001b[0mindex\u001b[0m\u001b[0;34m\u001b[0m\u001b[0m\n\u001b[1;32m     10\u001b[0m     \u001b[0mprint\u001b[0m\u001b[0;34m(\u001b[0m\u001b[0mtimestamp\u001b[0m\u001b[0;34m)\u001b[0m\u001b[0;34m\u001b[0m\u001b[0m\n\u001b[0;32m---> 11\u001b[0;31m     \u001b[0mdateonly\u001b[0m\u001b[0;34m=\u001b[0m\u001b[0;34m[\u001b[0m\u001b[0mts\u001b[0m\u001b[0;34m.\u001b[0m\u001b[0mdatetime\u001b[0m\u001b[0;34m.\u001b[0m\u001b[0mdate\u001b[0m\u001b[0;34m(\u001b[0m\u001b[0;34m)\u001b[0m \u001b[0;32mfor\u001b[0m \u001b[0mts\u001b[0m \u001b[0;32min\u001b[0m \u001b[0mtimestamp\u001b[0m\u001b[0;34m]\u001b[0m     \u001b[0;31m# drop the hours\u001b[0m\u001b[0;34m\u001b[0m\u001b[0m\n\u001b[0m\u001b[1;32m     12\u001b[0m     \u001b[0mplt\u001b[0m\u001b[0;34m.\u001b[0m\u001b[0mxticks\u001b[0m\u001b[0;34m(\u001b[0m\u001b[0mxtickrange\u001b[0m\u001b[0;34m[\u001b[0m\u001b[0;34m:\u001b[0m \u001b[0;34m:\u001b[0m \u001b[0;36m2000\u001b[0m\u001b[0;34m]\u001b[0m\u001b[0;34m,\u001b[0m \u001b[0mdateonly\u001b[0m\u001b[0;34m[\u001b[0m\u001b[0;34m:\u001b[0m \u001b[0;34m:\u001b[0m \u001b[0;36m2000\u001b[0m\u001b[0;34m]\u001b[0m\u001b[0;34m)\u001b[0m\u001b[0;34m\u001b[0m\u001b[0m\n\u001b[1;32m     13\u001b[0m     \u001b[0;31m#plt.title('Anomalies in '+var+' for tree '+tree)\u001b[0m\u001b[0;34m\u001b[0m\u001b[0;34m\u001b[0m\u001b[0m\n",
      "\u001b[0;31mAttributeError\u001b[0m: 'numpy.int64' object has no attribute 'datetime'"
     ]
    },
    {
     "name": "stderr",
     "output_type": "stream",
     "text": [
      "/Users/Eren/anaconda/lib/python3.5/site-packages/matplotlib/collections.py:590: FutureWarning: elementwise comparison failed; returning scalar instead, but in the future will perform elementwise comparison\n",
      "  if self._edgecolors == str('face'):\n"
     ]
    },
    {
     "data": {
      "image/png": "[encoded data removed]",
      "text/plain": [
       "<matplotlib.figure.Figure at 0x10f9c23c8>"
      ]
     },
     "metadata": {},
     "output_type": "display_data"
    }
   ],
   "source": [
    "plotz(anomaly,-0.3,0.3)"
   ]
  },
  {
   "cell_type": "markdown",
   "metadata": {},
   "source": [
    "### Get the dataframe for the tree, and the variable:  dftree    \n",
    "Do not muck around with dftree  \n",
    "Careful:  after some manipulations of dftree, dftree.shape changes.    \n",
    "Temporary remedy:  print (dftree.shape) often.  Re-run the cell that defines dftree"
   ]
  },
  {
   "cell_type": "code",
   "execution_count": 11,
   "metadata": {},
   "outputs": [
    {
     "name": "stdout",
     "output_type": "stream",
     "text": [
      "[('Ursula', '5m'), ('Ursula', '10m'), ('Ursula', '15m'), ('Ursula', '20m'), ('Ursula', '25m')]\n",
      "(7281, 5)\n"
     ]
    },
    {
     "data": {
      "text/html": [
       "<div>\n",
       "<table border=\"1\" class=\"dataframe\">\n",
       "  <thead>\n",
       "    <tr style=\"text-align: right;\">\n",
       "      <th></th>\n",
       "      <th>(Ursula, 5m)</th>\n",
       "      <th>(Ursula, 10m)</th>\n",
       "      <th>(Ursula, 15m)</th>\n",
       "      <th>(Ursula, 20m)</th>\n",
       "      <th>(Ursula, 25m)</th>\n",
       "    </tr>\n",
       "  </thead>\n",
       "  <tbody>\n",
       "    <tr>\n",
       "      <th>2012-05-07 17:00:00</th>\n",
       "      <td>23.813776</td>\n",
       "      <td>24.620840</td>\n",
       "      <td>24.228756</td>\n",
       "      <td>24.367082</td>\n",
       "      <td>24.251651</td>\n",
       "    </tr>\n",
       "    <tr>\n",
       "      <th>2012-05-07 17:15:00</th>\n",
       "      <td>23.882463</td>\n",
       "      <td>24.828807</td>\n",
       "      <td>24.321292</td>\n",
       "      <td>24.505409</td>\n",
       "      <td>24.412873</td>\n",
       "    </tr>\n",
       "    <tr>\n",
       "      <th>2012-05-07 17:30:00</th>\n",
       "      <td>23.997894</td>\n",
       "      <td>25.060623</td>\n",
       "      <td>24.482514</td>\n",
       "      <td>24.667585</td>\n",
       "      <td>24.597945</td>\n",
       "    </tr>\n",
       "    <tr>\n",
       "      <th>2012-05-07 17:45:00</th>\n",
       "      <td>24.090429</td>\n",
       "      <td>25.199904</td>\n",
       "      <td>24.597945</td>\n",
       "      <td>24.828807</td>\n",
       "      <td>24.736271</td>\n",
       "    </tr>\n",
       "    <tr>\n",
       "      <th>2012-05-07 18:00:00</th>\n",
       "      <td>24.136220</td>\n",
       "      <td>25.222799</td>\n",
       "      <td>24.690480</td>\n",
       "      <td>24.898447</td>\n",
       "      <td>24.805911</td>\n",
       "    </tr>\n",
       "  </tbody>\n",
       "</table>\n",
       "</div>"
      ],
      "text/plain": [
       "                     (Ursula, 5m)  (Ursula, 10m)  (Ursula, 15m)  \\\n",
       "2012-05-07 17:00:00     23.813776      24.620840      24.228756   \n",
       "2012-05-07 17:15:00     23.882463      24.828807      24.321292   \n",
       "2012-05-07 17:30:00     23.997894      25.060623      24.482514   \n",
       "2012-05-07 17:45:00     24.090429      25.199904      24.597945   \n",
       "2012-05-07 18:00:00     24.136220      25.222799      24.690480   \n",
       "\n",
       "                     (Ursula, 20m)  (Ursula, 25m)  \n",
       "2012-05-07 17:00:00      24.367082      24.251651  \n",
       "2012-05-07 17:15:00      24.505409      24.412873  \n",
       "2012-05-07 17:30:00      24.667585      24.597945  \n",
       "2012-05-07 17:45:00      24.828807      24.736271  \n",
       "2012-05-07 18:00:00      24.898447      24.805911  "
      ]
     },
     "execution_count": 11,
     "metadata": {},
     "output_type": "execute_result"
    }
   ],
   "source": [
    "dftree=get_treetable('Ursula','T')\n",
    "print (dftree.shape)   # note dimensions of dftree... this seems to change\n",
    "dftree.head()"
   ]
  },
  {
   "cell_type": "code",
   "execution_count": 12,
   "metadata": {},
   "outputs": [
    {
     "name": "stdout",
     "output_type": "stream",
     "text": [
      "Index([ ('Ursula', '5m'), ('Ursula', '10m'), ('Ursula', '15m'),\n",
      "       ('Ursula', '20m'), ('Ursula', '25m')],\n",
      "      dtype='object')\n"
     ]
    }
   ],
   "source": [
    "sensorname=dftree.columns\n",
    "print (sensorname)"
   ]
  },
  {
   "cell_type": "markdown",
   "metadata": {},
   "source": [
    "### Look at variations averaged over the period  \n",
    "Start with \"dftree\" and create new dataframes for each manipulation. Do not muck with \"dftree\"   \n",
    "(1) resample the data from 15 minutes to hourly   \n",
    "(2) Each sensor's average diurnal cycle over the period   \n",
    "(3) departure of each sensor's mean diurnal cycle from the ensemble mean diurnal cycle   "
   ]
  },
  {
   "cell_type": "code",
   "execution_count": 13,
   "metadata": {},
   "outputs": [
    {
     "data": {
      "text/plain": [
       "<matplotlib.text.Text at 0x10b27fc88>"
      ]
     },
     "execution_count": 13,
     "metadata": {},
     "output_type": "execute_result"
    },
    {
     "data": {
      "text/plain": [
       "<matplotlib.figure.Figure at 0x1150e3c18>"
      ]
     },
     "metadata": {},
     "output_type": "display_data"
    },
    {
     "data": {
      "image/png": "[encoded data removed]",
      "text/plain": [
       "<matplotlib.figure.Figure at 0x10b42a9e8>"
      ]
     },
     "metadata": {},
     "output_type": "display_data"
    }
   ],
   "source": [
    "#  Average diurnal cycles for all sensors\n",
    "dftree2=dftree    # make a new copy so as not to muck up original df\n",
    "dftree2['hour']=[ts.hour for ts in dftree.index]\n",
    "dfhourmean=dftree.groupby('hour').mean()\n",
    "plt.figure(); dfhourmean.plot(); plt.legend(loc='best')\n",
    "plt.title('Mean diurnal variations in Temperature')"
   ]
  },
  {
   "cell_type": "code",
   "execution_count": 14,
   "metadata": {},
   "outputs": [
    {
     "name": "stdout",
     "output_type": "stream",
     "text": [
      "(6,)\n"
     ]
    }
   ],
   "source": [
    "# resample 15 minute data to hourly\n",
    "dfhour=dftree.resample('H').mean()\n",
    "print (dfhour.shape)"
   ]
  },
  {
   "cell_type": "code",
   "execution_count": 15,
   "metadata": {},
   "outputs": [
    {
     "data": {
      "text/plain": [
       "<matplotlib.text.Text at 0x10a9ed2e8>"
      ]
     },
     "execution_count": 15,
     "metadata": {},
     "output_type": "execute_result"
    },
    {
     "data": {
      "text/plain": [
       "<matplotlib.figure.Figure at 0x10f7f7780>"
      ]
     },
     "metadata": {},
     "output_type": "display_data"
    },
    {
     "data": {
      "image/png": "[encoded data removed]",
      "text/plain": [
       "<matplotlib.figure.Figure at 0x10a50e390>"
      ]
     },
     "metadata": {},
     "output_type": "display_data"
    }
   ],
   "source": [
    "# Each sensor's departure from the all sensor mean\n",
    "anomaly=dfhourmean.apply(do_anomaly,axis=1)\n",
    "plt.figure(); anomaly.plot(); plt.legend(loc='best')\n",
    "plt.title('Variations of mean diurnal cycle in temperature with height')"
   ]
  },
  {
   "cell_type": "code",
   "execution_count": 22,
   "metadata": {},
   "outputs": [
    {
     "name": "stdout",
     "output_type": "stream",
     "text": [
      "Index([ ('Ursula', '5m'), ('Ursula', '10m'), ('Ursula', '15m'),\n",
      "       ('Ursula', '20m'), ('Ursula', '25m'),            'hour'],\n",
      "      dtype='object')\n"
     ]
    },
    {
     "data": {
      "text/plain": [
       "<matplotlib.collections.PolyCollection at 0x114344898>"
      ]
     },
     "execution_count": 22,
     "metadata": {},
     "output_type": "execute_result"
    },
    {
     "name": "stderr",
     "output_type": "stream",
     "text": [
      "/Users/Eren/anaconda/lib/python3.5/site-packages/matplotlib/collections.py:590: FutureWarning: elementwise comparison failed; returning scalar instead, but in the future will perform elementwise comparison\n",
      "  if self._edgecolors == str('face'):\n"
     ]
    },
    {
     "data": {
      "image/png": "[encoded data removed]",
      "text/plain": [
       "<matplotlib.figure.Figure at 0x113b74208>"
      ]
     },
     "metadata": {},
     "output_type": "display_data"
    }
   ],
   "source": [
    "xxx=anomaly.index\n",
    "print(dfhour.index)\n",
    "\n",
    "fig = plt.figure(figsize=(10,10)) \n",
    "plt.pcolor(anomaly.transpose(),vmin=-0.3,vmax=0.3,cmap='bwr')"
   ]
  },
  {
   "cell_type": "code",
   "execution_count": 17,
   "metadata": {
    "scrolled": true
   },
   "outputs": [
    {
     "ename": "AttributeError",
     "evalue": "'numpy.int64' object has no attribute 'datetime'",
     "output_type": "error",
     "traceback": [
      "\u001b[0;31m---------------------------------------------------------------------------\u001b[0m",
      "\u001b[0;31mAttributeError\u001b[0m                            Traceback (most recent call last)",
      "\u001b[0;32m<ipython-input-17-e9b7d7888745>\u001b[0m in \u001b[0;36m<module>\u001b[0;34m()\u001b[0m\n\u001b[1;32m      1\u001b[0m \u001b[0;31m# plot shows up below error messages... need to fix something\u001b[0m\u001b[0;34m\u001b[0m\u001b[0;34m\u001b[0m\u001b[0m\n\u001b[0;32m----> 2\u001b[0;31m \u001b[0mplotz\u001b[0m\u001b[0;34m(\u001b[0m\u001b[0manomaly\u001b[0m\u001b[0;34m,\u001b[0m\u001b[0;34m-\u001b[0m\u001b[0;36m0.3\u001b[0m\u001b[0;34m,\u001b[0m\u001b[0;36m0.3\u001b[0m\u001b[0;34m)\u001b[0m\u001b[0;34m\u001b[0m\u001b[0m\n\u001b[0m\u001b[1;32m      3\u001b[0m \u001b[0mplt\u001b[0m\u001b[0;34m.\u001b[0m\u001b[0mtitle\u001b[0m\u001b[0;34m(\u001b[0m\u001b[0;34m'Variations of mean diurnal cycle in temperature with height'\u001b[0m\u001b[0;34m)\u001b[0m\u001b[0;34m\u001b[0m\u001b[0m\n",
      "\u001b[0;32m<ipython-input-10-fed4046c0010>\u001b[0m in \u001b[0;36mplotz\u001b[0;34m(Z, cmin, cmax)\u001b[0m\n\u001b[1;32m      8\u001b[0m     \u001b[0mytickrange\u001b[0m\u001b[0;34m=\u001b[0m\u001b[0mrange\u001b[0m\u001b[0;34m(\u001b[0m\u001b[0;36m0\u001b[0m\u001b[0;34m,\u001b[0m\u001b[0mytickmax\u001b[0m\u001b[0;34m)\u001b[0m\u001b[0;34m\u001b[0m\u001b[0m\n\u001b[1;32m      9\u001b[0m     \u001b[0mtimestamp\u001b[0m\u001b[0;34m=\u001b[0m\u001b[0mZ\u001b[0m\u001b[0;34m.\u001b[0m\u001b[0mindex\u001b[0m\u001b[0;34m\u001b[0m\u001b[0m\n\u001b[0;32m---> 10\u001b[0;31m     \u001b[0mdateonly\u001b[0m\u001b[0;34m=\u001b[0m\u001b[0;34m[\u001b[0m\u001b[0mts\u001b[0m\u001b[0;34m.\u001b[0m\u001b[0mdatetime\u001b[0m\u001b[0;34m.\u001b[0m\u001b[0mdate\u001b[0m\u001b[0;34m(\u001b[0m\u001b[0;34m)\u001b[0m \u001b[0;32mfor\u001b[0m \u001b[0mts\u001b[0m \u001b[0;32min\u001b[0m \u001b[0mtimestamp\u001b[0m\u001b[0;34m]\u001b[0m     \u001b[0;31m# drop the hours\u001b[0m\u001b[0;34m\u001b[0m\u001b[0m\n\u001b[0m\u001b[1;32m     11\u001b[0m     \u001b[0mplt\u001b[0m\u001b[0;34m.\u001b[0m\u001b[0mxticks\u001b[0m\u001b[0;34m(\u001b[0m\u001b[0mxtickrange\u001b[0m\u001b[0;34m[\u001b[0m\u001b[0;34m:\u001b[0m \u001b[0;34m:\u001b[0m \u001b[0;36m2000\u001b[0m\u001b[0;34m]\u001b[0m\u001b[0;34m,\u001b[0m \u001b[0mdateonly\u001b[0m\u001b[0;34m[\u001b[0m\u001b[0;34m:\u001b[0m \u001b[0;34m:\u001b[0m \u001b[0;36m2000\u001b[0m\u001b[0;34m]\u001b[0m\u001b[0;34m)\u001b[0m\u001b[0;34m\u001b[0m\u001b[0m\n\u001b[1;32m     12\u001b[0m     \u001b[0;31m#plt.title('Anomalies in '+var+' for tree '+tree)\u001b[0m\u001b[0;34m\u001b[0m\u001b[0;34m\u001b[0m\u001b[0m\n",
      "\u001b[0;32m<ipython-input-10-fed4046c0010>\u001b[0m in \u001b[0;36m<listcomp>\u001b[0;34m(.0)\u001b[0m\n\u001b[1;32m      8\u001b[0m     \u001b[0mytickrange\u001b[0m\u001b[0;34m=\u001b[0m\u001b[0mrange\u001b[0m\u001b[0;34m(\u001b[0m\u001b[0;36m0\u001b[0m\u001b[0;34m,\u001b[0m\u001b[0mytickmax\u001b[0m\u001b[0;34m)\u001b[0m\u001b[0;34m\u001b[0m\u001b[0m\n\u001b[1;32m      9\u001b[0m     \u001b[0mtimestamp\u001b[0m\u001b[0;34m=\u001b[0m\u001b[0mZ\u001b[0m\u001b[0;34m.\u001b[0m\u001b[0mindex\u001b[0m\u001b[0;34m\u001b[0m\u001b[0m\n\u001b[0;32m---> 10\u001b[0;31m     \u001b[0mdateonly\u001b[0m\u001b[0;34m=\u001b[0m\u001b[0;34m[\u001b[0m\u001b[0mts\u001b[0m\u001b[0;34m.\u001b[0m\u001b[0mdatetime\u001b[0m\u001b[0;34m.\u001b[0m\u001b[0mdate\u001b[0m\u001b[0;34m(\u001b[0m\u001b[0;34m)\u001b[0m \u001b[0;32mfor\u001b[0m \u001b[0mts\u001b[0m \u001b[0;32min\u001b[0m \u001b[0mtimestamp\u001b[0m\u001b[0;34m]\u001b[0m     \u001b[0;31m# drop the hours\u001b[0m\u001b[0;34m\u001b[0m\u001b[0m\n\u001b[0m\u001b[1;32m     11\u001b[0m     \u001b[0mplt\u001b[0m\u001b[0;34m.\u001b[0m\u001b[0mxticks\u001b[0m\u001b[0;34m(\u001b[0m\u001b[0mxtickrange\u001b[0m\u001b[0;34m[\u001b[0m\u001b[0;34m:\u001b[0m \u001b[0;34m:\u001b[0m \u001b[0;36m2000\u001b[0m\u001b[0;34m]\u001b[0m\u001b[0;34m,\u001b[0m \u001b[0mdateonly\u001b[0m\u001b[0;34m[\u001b[0m\u001b[0;34m:\u001b[0m \u001b[0;34m:\u001b[0m \u001b[0;36m2000\u001b[0m\u001b[0;34m]\u001b[0m\u001b[0;34m)\u001b[0m\u001b[0;34m\u001b[0m\u001b[0m\n\u001b[1;32m     12\u001b[0m     \u001b[0;31m#plt.title('Anomalies in '+var+' for tree '+tree)\u001b[0m\u001b[0;34m\u001b[0m\u001b[0;34m\u001b[0m\u001b[0m\n",
      "\u001b[0;31mAttributeError\u001b[0m: 'numpy.int64' object has no attribute 'datetime'"
     ]
    },
    {
     "name": "stderr",
     "output_type": "stream",
     "text": [
      "/Users/Eren/anaconda/lib/python3.5/site-packages/matplotlib/collections.py:590: FutureWarning: elementwise comparison failed; returning scalar instead, but in the future will perform elementwise comparison\n",
      "  if self._edgecolors == str('face'):\n"
     ]
    },
    {
     "data": {
      "image/png": "[encoded data removed]",
      "text/plain": [
       "<matplotlib.figure.Figure at 0x1139094a8>"
      ]
     },
     "metadata": {},
     "output_type": "display_data"
    }
   ],
   "source": [
    "# plot shows up below error messages... need to fix something\n",
    "plotz(anomaly,-0.3,0.3)\n",
    "plt.title('Variations of mean diurnal cycle in temperature with height')"
   ]
  },
  {
   "cell_type": "markdown",
   "metadata": {},
   "source": [
    "###  Variations over the entire period   "
   ]
  },
  {
   "cell_type": "code",
   "execution_count": null,
   "metadata": {},
   "outputs": [],
   "source": [
    "daily=dftree.resample('D').mean()\n",
    "print (dftree.index[0], dftree.index[-1])\n",
    "print (dftree.shape)\n",
    "print (daily.shape)"
   ]
  },
  {
   "cell_type": "code",
   "execution_count": null,
   "metadata": {},
   "outputs": [],
   "source": [
    "plt.figure(); daily.plot(); plt.legend(loc='best')\n",
    "plt.title('Variations of Daily Temperature')\n",
    "\n",
    "###  Variations over the entire period   "
   ]
  },
  {
   "cell_type": "code",
   "execution_count": null,
   "metadata": {
    "scrolled": true
   },
   "outputs": [],
   "source": [
    "tree_anomaly=dftree.apply(do_anomaly,axis=1)\n",
    "print (tree_anomaly.shape)\n",
    "plotz(tree_anomaly[tree_anomaly.index.hour==7],-1, 1)"
   ]
  },
  {
   "cell_type": "code",
   "execution_count": null,
   "metadata": {},
   "outputs": [],
   "source": [
    "tree_anomaly_day=tree_anomaly.loc[(tree_anomaly.index.hour>7) & (tree_anomaly.index.hour<19)]\n",
    "plotz(tree_anomaly_day,-1,1)\n",
    "plt.title('Daytime variations in temperature')"
   ]
  },
  {
   "cell_type": "code",
   "execution_count": null,
   "metadata": {
    "collapsed": true
   },
   "outputs": [],
   "source": []
  }
 ],
 "metadata": {
  "anaconda-cloud": {},
  "kernelspec": {
   "display_name": "Python 3",
   "language": "python",
   "name": "python3"
  },
  "language_info": {
   "codemirror_mode": {
    "name": "ipython",
    "version": 3
   },
   "file_extension": ".py",
   "mimetype": "text/x-python",
   "name": "python",
   "nbconvert_exporter": "python",
   "pygments_lexer": "ipython3",
   "version": "3.5.2"
  }
 },
 "nbformat": 4,
 "nbformat_minor": 1
}
