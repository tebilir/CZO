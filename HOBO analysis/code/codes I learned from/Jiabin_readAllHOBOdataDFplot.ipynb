{
 "cells": [
  {
   "cell_type": "code",
   "execution_count": 1,
   "metadata": {},
   "outputs": [
    {
     "name": "stdout",
     "output_type": "stream",
     "text": [
      "Populating the interactive namespace from numpy and matplotlib\n"
     ]
    }
   ],
   "source": [
    "#python 3\n",
    "%pylab inline\n",
    "\n",
    "import numpy as np\n",
    "#from matplotlib.pyplot import plot,scatter,savefig,figure,colorbar,suptitle,close,show,subplot,rgrids, contourf, contour\n",
    "from matplotlib.mlab import csv2rec\n",
    "import matplotlib.pyplot as plt\n",
    "import datetime\n",
    "from matplotlib.dates import DateFormatter\n",
    "import pickle # works for python 3.x and optimizes speed (works in Python 2.x also, but is relatively slow)\n",
    "import pandas as pd\n",
    "from pprint import pprint"
   ]
  },
  {
   "cell_type": "code",
   "execution_count": 3,
   "metadata": {},
   "outputs": [],
   "source": [
    "# patience.  this takes close to a minute\n",
    "# /davidelvins/Downloads/\n",
    "# or /inez/DATA/KECK_HOBO/HOBO_Holly/\n",
    "A=pd.read_pickle('/Users/Eren/Desktop/data/HOBO/HOBOdata.p')"
   ]
  },
  {
   "cell_type": "code",
   "execution_count": 4,
   "metadata": {},
   "outputs": [
    {
     "name": "stdout",
     "output_type": "stream",
     "text": [
      "dict_keys(['T', 'RH', 'dt'])\n"
     ]
    }
   ],
   "source": [
    "keys=A.keys()\n",
    "print (keys)\n",
    "df=pd.DataFrame(A).transpose()   # use sensorID as column heads"
   ]
  },
  {
   "cell_type": "code",
   "execution_count": 5,
   "metadata": {
    "scrolled": true
   },
   "outputs": [
    {
     "data": {
      "text/html": [
       "<div>\n",
       "<table border=\"1\" class=\"dataframe\">\n",
       "  <thead>\n",
       "    <tr style=\"text-align: right;\">\n",
       "      <th></th>\n",
       "      <th>32</th>\n",
       "      <th>33</th>\n",
       "      <th>34</th>\n",
       "      <th>35</th>\n",
       "      <th>36</th>\n",
       "      <th>37</th>\n",
       "      <th>38</th>\n",
       "      <th>39</th>\n",
       "      <th>40</th>\n",
       "      <th>41</th>\n",
       "      <th>...</th>\n",
       "      <th>797</th>\n",
       "      <th>798</th>\n",
       "      <th>799</th>\n",
       "      <th>800</th>\n",
       "      <th>803</th>\n",
       "      <th>804</th>\n",
       "      <th>807</th>\n",
       "      <th>808</th>\n",
       "      <th>809</th>\n",
       "      <th>810</th>\n",
       "    </tr>\n",
       "  </thead>\n",
       "  <tbody>\n",
       "    <tr>\n",
       "      <th>RH</th>\n",
       "      <td>[74.9208668514, 74.9390485727, 74.9279375208, ...</td>\n",
       "      <td>[53.6421923707, 53.9179484769, 54.1563310449, ...</td>\n",
       "      <td>[30.8544350231, 30.9190811432, 31.7281677405, ...</td>\n",
       "      <td>[54.3209766321, 53.8331004442, 54.2926939545, ...</td>\n",
       "      <td>[98.9722538285, 99.0813441562, 99.0136677492, ...</td>\n",
       "      <td>[30.8180715805, 31.017060419, 31.2433218395, 3...</td>\n",
       "      <td>[24.9877996208, 23.1433650057, 24.4797215204, ...</td>\n",
       "      <td>[43.5614380121, 42.713967781, 42.4281107185, 3...</td>\n",
       "      <td>[98.483367545, 97.7480179284, 98.5975083508, 9...</td>\n",
       "      <td>[54.6876413447, 55.4270313438, 56.0704622582, ...</td>\n",
       "      <td>...</td>\n",
       "      <td>[99.8371306286, 99.8371306286, 99.8371306286, ...</td>\n",
       "      <td>[99.8371306286, 99.8371306286, 99.8371306286, ...</td>\n",
       "      <td>[99.8371306286, 99.8371306286, 99.8371306286, ...</td>\n",
       "      <td>[99.8371306286, 99.8371306286, 99.8371306286, ...</td>\n",
       "      <td>[nan, nan, nan, nan, nan, nan, nan, nan, nan, ...</td>\n",
       "      <td>[99.8371306286, 99.8371306286, 99.8371306286, ...</td>\n",
       "      <td>[99.8371306286, 99.8371306286, 99.8371306286, ...</td>\n",
       "      <td>[99.8371306286, 99.8371306286, 99.8371306286, ...</td>\n",
       "      <td>[99.8371306286, 99.8371306286, 99.8371306286, ...</td>\n",
       "      <td>[99.8371306286, 99.8371306286, 99.8371306286, ...</td>\n",
       "    </tr>\n",
       "    <tr>\n",
       "      <th>T</th>\n",
       "      <td>[23.8824626467, 23.9749983232, 24.0675339998, ...</td>\n",
       "      <td>[20.2955127109, 20.4548267107, 20.3632450102, ...</td>\n",
       "      <td>[24.990982813, 25.3391840701, 25.5948496506, 2...</td>\n",
       "      <td>[20.4090358604, 20.52255901, 20.4319312856, 20...</td>\n",
       "      <td>[8.24393331216, 8.363180318, 7.95774049813, 8....</td>\n",
       "      <td>[24.9680873879, 25.2924392438, 25.5252093992, ...</td>\n",
       "      <td>[23.9749983232, 24.459618155, 24.644689508, 24...</td>\n",
       "      <td>[23.6525544194, 23.7221946708, 23.8137763713, ...</td>\n",
       "      <td>[8.02928870164, 8.00543930047, 8.07698750398, ...</td>\n",
       "      <td>[20.3403495851, 20.2497218606, 20.1590941362, ...</td>\n",
       "      <td>...</td>\n",
       "      <td>[5.10054108576, 5.59014848617, 6.00414084404, ...</td>\n",
       "      <td>[6.00414084404, 5.85858188716, 6.12512491209, ...</td>\n",
       "      <td>[5.00224153047, 6.39166793702, 6.60811599627, ...</td>\n",
       "      <td>[5.90678647678, 5.68750285343, 6.17332950171, ...</td>\n",
       "      <td>[5.05139130812, 6.07692032248, 6.80093435473, ...</td>\n",
       "      <td>[5.10054108576, 5.61472337499, 6.07692032248, ...</td>\n",
       "      <td>[5.83400699834, 5.63929826381, 5.9313613656, 6...</td>\n",
       "      <td>[5.05139130812, 6.75272976512, 6.92097323476, ...</td>\n",
       "      <td>[5.12511597459, 6.17332950171, 6.82456405553, ...</td>\n",
       "      <td>[5.14969086341, 5.63929826381, 6.07692032248, ...</td>\n",
       "    </tr>\n",
       "    <tr>\n",
       "      <th>dt</th>\n",
       "      <td>[2012-05-07 17:00:00, 2012-05-07 17:15:00, 201...</td>\n",
       "      <td>[2012-02-03 21:15:00, 2012-02-03 21:30:00, 201...</td>\n",
       "      <td>[2012-05-07 17:00:00, 2012-05-07 17:15:00, 201...</td>\n",
       "      <td>[2012-02-03 20:45:00, 2012-02-03 21:00:00, 201...</td>\n",
       "      <td>[2012-02-07 12:00:00, 2012-02-07 12:15:00, 201...</td>\n",
       "      <td>[2012-05-07 17:00:00, 2012-05-07 17:15:00, 201...</td>\n",
       "      <td>[2012-05-07 16:15:00, 2012-05-07 16:30:00, 201...</td>\n",
       "      <td>[2012-05-07 17:00:00, 2012-05-07 17:15:00, 201...</td>\n",
       "      <td>[2012-02-07 00:15:00, 2012-02-07 00:30:00, 201...</td>\n",
       "      <td>[2012-02-03 21:00:00, 2012-02-03 21:15:00, 201...</td>\n",
       "      <td>...</td>\n",
       "      <td>[2010-01-23 12:12:53, 2010-01-23 12:42:53, 201...</td>\n",
       "      <td>[2010-01-23 11:38:12, 2010-01-23 12:08:12, 201...</td>\n",
       "      <td>[2010-01-23 12:16:56, 2010-01-23 12:46:56, 201...</td>\n",
       "      <td>[2010-01-23 11:41:37, 2010-01-23 12:11:37, 201...</td>\n",
       "      <td>[2010-01-23 12:19:04, 2010-01-23 12:49:04, 201...</td>\n",
       "      <td>[2010-01-23 12:14:57, 2010-01-23 12:44:57, 201...</td>\n",
       "      <td>[2010-01-23 11:39:14, 2010-01-23 12:09:14, 201...</td>\n",
       "      <td>[2010-01-23 12:18:04, 2010-01-23 12:48:04, 201...</td>\n",
       "      <td>[2010-01-23 12:20:02, 2010-01-23 12:50:02, 201...</td>\n",
       "      <td>[2010-01-23 12:13:53, 2010-01-23 12:43:53, 201...</td>\n",
       "    </tr>\n",
       "  </tbody>\n",
       "</table>\n",
       "<p>3 rows × 46 columns</p>\n",
       "</div>"
      ],
      "text/plain": [
       "                                                   32  \\\n",
       "RH  [74.9208668514, 74.9390485727, 74.9279375208, ...   \n",
       "T   [23.8824626467, 23.9749983232, 24.0675339998, ...   \n",
       "dt  [2012-05-07 17:00:00, 2012-05-07 17:15:00, 201...   \n",
       "\n",
       "                                                   33  \\\n",
       "RH  [53.6421923707, 53.9179484769, 54.1563310449, ...   \n",
       "T   [20.2955127109, 20.4548267107, 20.3632450102, ...   \n",
       "dt  [2012-02-03 21:15:00, 2012-02-03 21:30:00, 201...   \n",
       "\n",
       "                                                   34  \\\n",
       "RH  [30.8544350231, 30.9190811432, 31.7281677405, ...   \n",
       "T   [24.990982813, 25.3391840701, 25.5948496506, 2...   \n",
       "dt  [2012-05-07 17:00:00, 2012-05-07 17:15:00, 201...   \n",
       "\n",
       "                                                   35  \\\n",
       "RH  [54.3209766321, 53.8331004442, 54.2926939545, ...   \n",
       "T   [20.4090358604, 20.52255901, 20.4319312856, 20...   \n",
       "dt  [2012-02-03 20:45:00, 2012-02-03 21:00:00, 201...   \n",
       "\n",
       "                                                   36  \\\n",
       "RH  [98.9722538285, 99.0813441562, 99.0136677492, ...   \n",
       "T   [8.24393331216, 8.363180318, 7.95774049813, 8....   \n",
       "dt  [2012-02-07 12:00:00, 2012-02-07 12:15:00, 201...   \n",
       "\n",
       "                                                   37  \\\n",
       "RH  [30.8180715805, 31.017060419, 31.2433218395, 3...   \n",
       "T   [24.9680873879, 25.2924392438, 25.5252093992, ...   \n",
       "dt  [2012-05-07 17:00:00, 2012-05-07 17:15:00, 201...   \n",
       "\n",
       "                                                   38  \\\n",
       "RH  [24.9877996208, 23.1433650057, 24.4797215204, ...   \n",
       "T   [23.9749983232, 24.459618155, 24.644689508, 24...   \n",
       "dt  [2012-05-07 16:15:00, 2012-05-07 16:30:00, 201...   \n",
       "\n",
       "                                                   39  \\\n",
       "RH  [43.5614380121, 42.713967781, 42.4281107185, 3...   \n",
       "T   [23.6525544194, 23.7221946708, 23.8137763713, ...   \n",
       "dt  [2012-05-07 17:00:00, 2012-05-07 17:15:00, 201...   \n",
       "\n",
       "                                                   40  \\\n",
       "RH  [98.483367545, 97.7480179284, 98.5975083508, 9...   \n",
       "T   [8.02928870164, 8.00543930047, 8.07698750398, ...   \n",
       "dt  [2012-02-07 00:15:00, 2012-02-07 00:30:00, 201...   \n",
       "\n",
       "                                                   41  \\\n",
       "RH  [54.6876413447, 55.4270313438, 56.0704622582, ...   \n",
       "T   [20.3403495851, 20.2497218606, 20.1590941362, ...   \n",
       "dt  [2012-02-03 21:00:00, 2012-02-03 21:15:00, 201...   \n",
       "\n",
       "                          ...                          \\\n",
       "RH                        ...                           \n",
       "T                         ...                           \n",
       "dt                        ...                           \n",
       "\n",
       "                                                  797  \\\n",
       "RH  [99.8371306286, 99.8371306286, 99.8371306286, ...   \n",
       "T   [5.10054108576, 5.59014848617, 6.00414084404, ...   \n",
       "dt  [2010-01-23 12:12:53, 2010-01-23 12:42:53, 201...   \n",
       "\n",
       "                                                  798  \\\n",
       "RH  [99.8371306286, 99.8371306286, 99.8371306286, ...   \n",
       "T   [6.00414084404, 5.85858188716, 6.12512491209, ...   \n",
       "dt  [2010-01-23 11:38:12, 2010-01-23 12:08:12, 201...   \n",
       "\n",
       "                                                  799  \\\n",
       "RH  [99.8371306286, 99.8371306286, 99.8371306286, ...   \n",
       "T   [5.00224153047, 6.39166793702, 6.60811599627, ...   \n",
       "dt  [2010-01-23 12:16:56, 2010-01-23 12:46:56, 201...   \n",
       "\n",
       "                                                  800  \\\n",
       "RH  [99.8371306286, 99.8371306286, 99.8371306286, ...   \n",
       "T   [5.90678647678, 5.68750285343, 6.17332950171, ...   \n",
       "dt  [2010-01-23 11:41:37, 2010-01-23 12:11:37, 201...   \n",
       "\n",
       "                                                  803  \\\n",
       "RH  [nan, nan, nan, nan, nan, nan, nan, nan, nan, ...   \n",
       "T   [5.05139130812, 6.07692032248, 6.80093435473, ...   \n",
       "dt  [2010-01-23 12:19:04, 2010-01-23 12:49:04, 201...   \n",
       "\n",
       "                                                  804  \\\n",
       "RH  [99.8371306286, 99.8371306286, 99.8371306286, ...   \n",
       "T   [5.10054108576, 5.61472337499, 6.07692032248, ...   \n",
       "dt  [2010-01-23 12:14:57, 2010-01-23 12:44:57, 201...   \n",
       "\n",
       "                                                  807  \\\n",
       "RH  [99.8371306286, 99.8371306286, 99.8371306286, ...   \n",
       "T   [5.83400699834, 5.63929826381, 5.9313613656, 6...   \n",
       "dt  [2010-01-23 11:39:14, 2010-01-23 12:09:14, 201...   \n",
       "\n",
       "                                                  808  \\\n",
       "RH  [99.8371306286, 99.8371306286, 99.8371306286, ...   \n",
       "T   [5.05139130812, 6.75272976512, 6.92097323476, ...   \n",
       "dt  [2010-01-23 12:18:04, 2010-01-23 12:48:04, 201...   \n",
       "\n",
       "                                                  809  \\\n",
       "RH  [99.8371306286, 99.8371306286, 99.8371306286, ...   \n",
       "T   [5.12511597459, 6.17332950171, 6.82456405553, ...   \n",
       "dt  [2010-01-23 12:20:02, 2010-01-23 12:50:02, 201...   \n",
       "\n",
       "                                                  810  \n",
       "RH  [99.8371306286, 99.8371306286, 99.8371306286, ...  \n",
       "T   [5.14969086341, 5.63929826381, 6.07692032248, ...  \n",
       "dt  [2010-01-23 12:13:53, 2010-01-23 12:43:53, 201...  \n",
       "\n",
       "[3 rows x 46 columns]"
      ]
     },
     "execution_count": 5,
     "metadata": {},
     "output_type": "execute_result"
    }
   ],
   "source": [
    "df.head()"
   ]
  },
  {
   "cell_type": "markdown",
   "metadata": {},
   "source": [
    "Construct the dictionary \"IDsensor\" \n",
    "\n",
    "so that the keys are the sensor ID number, the values are a tuple of (tree name, tree specifics). \n",
    "\n",
    "For example:\n",
    "IDsensor['798']=('Kevin','1-1')"
   ]
  },
  {
   "cell_type": "code",
   "execution_count": 6,
   "metadata": {},
   "outputs": [],
   "source": [
    "#this dictionary has sensor IDs as keys, and (treename,tree specifications) as values\n",
    "#for example, IDsensor['798']=('Kevin,'1-1')\n",
    "IDsensor={'798':('Kevin','1-1'), '807':('Kevin','1-2'), '795':('Kevin','1-3'),  '800':('Kevin','1-4'), \n",
    "           '797':('Kevin','2-1'), '810':('Kevin','2-2'), '810':('Kevin','2-3'),  '796':('Kevin','2-4'),\n",
    "           '799':('S','-1'),      '808':('S','-2'), '803':('S','-3'), '809':('S','-4'),\n",
    "           '40':('ILean','30m'),  '52':('ILean','25m'), '44':('ILean','20m'),\n",
    "           '45':('ILean','15m'),  '43':('ILean','10m'), '36':('ILean', '5m'),\n",
    "           '47':('FT','28m'),     '56':('FT','22m'),  '35':('FT','17m'),\n",
    "           '41':('FT','12m'), '33':('FT','7m'), '49':('FT','2m'),\n",
    "           '62':('Ursula','25m'), '58':('Ursula','20m'), '54':('Ursula','15m'),\n",
    "           '61':('Ursula','10m'), '42':('Ursula','5m'),\n",
    "           '59':('SMM','17.5m'),'32':('SMM', '15m'), '60':('SMM', '10m'), '48':('SMM','5m'),\n",
    "           '34':('SMM', '2.5m'), '63':('SMU', '17.5m'),'37':('SMU','15m'),'66':('SMU','10m'),\n",
    "           '65':('SMU', '7.5m'), '64':('SMU','5m'),\n",
    "           '39':('Freddie','12m'), '46':('Freddie', '6m'),\n",
    "           '38':('road between well 6 and well 5','N/A'),\n",
    "           '57':('near well 15, top of ridge','N/A')}"
   ]
  },
  {
   "cell_type": "code",
   "execution_count": 7,
   "metadata": {},
   "outputs": [
    {
     "data": {
      "text/plain": [
       "'7.5'"
      ]
     },
     "execution_count": 7,
     "metadata": {},
     "output_type": "execute_result"
    }
   ],
   "source": [
    "#write a function to extract the number from a string, so that we can sort the sensors for a tree by its height\n",
    "import re\n",
    "def extract_number(s):\n",
    "    return re.match(r'(-?\\d+(\\.\\d+)?)', s).group(0)\n",
    "#example:\n",
    "extract_number('7.5m')"
   ]
  },
  {
   "cell_type": "code",
   "execution_count": 8,
   "metadata": {},
   "outputs": [
    {
     "data": {
      "text/plain": [
       "['62', '54', '58', '61', '42']"
      ]
     },
     "execution_count": 8,
     "metadata": {},
     "output_type": "execute_result"
    }
   ],
   "source": [
    "#this function takes the name of a tree, e.g. 'Kevin', and return a list of sensor IDs that measure Kevin. \n",
    "def get_tree_sensorIDs(input_treename):\n",
    "    tree_numbers=[]\n",
    "    for sensornumber,(treename,treespecs) in IDsensor.items():\n",
    "        if treename==input_treename:\n",
    "            tree_numbers.append(sensornumber)\n",
    "    return tree_numbers\n",
    "    #tree_numbers_sorted=sorted(tree_numbers) #sort the ID numbers in order. not sure whether useful. \n",
    "    #return tree_numbers_sorted\n",
    "#try this example\n",
    "get_tree_sensorIDs('Ursula')"
   ]
  },
  {
   "cell_type": "code",
   "execution_count": 9,
   "metadata": {},
   "outputs": [
    {
     "data": {
      "text/plain": [
       "['62', '54', '58', '61', '42']"
      ]
     },
     "execution_count": 9,
     "metadata": {},
     "output_type": "execute_result"
    }
   ],
   "source": [
    "#this function takes the name of a tree, e.g. 'Kevin', and return a list of sensor IDs that measure Kevin.\n",
    "#the sensor numbers are ordered by height. should use this function if the order of height matters. \n",
    "def get_tree_sensorIDs_by_height(input_treename):\n",
    "    tree_numbers_specs={}\n",
    "    tree_numbers=[]\n",
    "    for sensornumber,(treename,treespecs) in IDsensor.items():\n",
    "        if treename==input_treename: \n",
    "            tree_numbers_specs[sensornumber]=float(extract_number(treespecs))\n",
    "    sorted_by_height=sorted(tree_numbers_specs.items(), key=lambda x: x[1])\n",
    "    ID_sorted_by_height=[item[0] for item in sorted_by_height]\n",
    "    return ID_sorted_by_height\n",
    "#try this example\n",
    "get_tree_sensorIDs('Ursula')\n",
    "#note the different in results from the last cell"
   ]
  },
  {
   "cell_type": "code",
   "execution_count": 10,
   "metadata": {},
   "outputs": [],
   "source": [
    "#this function grabs the whole dataset corresponding to one specific tree\n",
    "def get_tree_table(input_treename):\n",
    "    dfnew=df[get_tree_sensorIDs_by_height(input_treename)]\n",
    "    #dfnew.columns=[IDsensor[x] for x in list(dfnew.columns.values)]\n",
    "    return dfnew"
   ]
  },
  {
   "cell_type": "code",
   "execution_count": 11,
   "metadata": {},
   "outputs": [
    {
     "data": {
      "text/html": [
       "<div>\n",
       "<table border=\"1\" class=\"dataframe\">\n",
       "  <thead>\n",
       "    <tr style=\"text-align: right;\">\n",
       "      <th></th>\n",
       "      <th>42</th>\n",
       "      <th>61</th>\n",
       "      <th>54</th>\n",
       "      <th>58</th>\n",
       "      <th>62</th>\n",
       "    </tr>\n",
       "  </thead>\n",
       "  <tbody>\n",
       "    <tr>\n",
       "      <th>RH</th>\n",
       "      <td>[74.8168270018, 74.8016755674, 74.7067265784, ...</td>\n",
       "      <td>[32.3907904719, 32.8524041735, 33.3837144734, ...</td>\n",
       "      <td>[37.3523801923, 37.4958137713, 38.1493456421, ...</td>\n",
       "      <td>[34.7412829962, 34.5180518626, 34.9725948948, ...</td>\n",
       "      <td>[33.2402808943, 34.0008829015, 34.4251230649, ...</td>\n",
       "    </tr>\n",
       "    <tr>\n",
       "      <th>T</th>\n",
       "      <td>[23.8137763713, 23.8824626467, 23.9978937483, ...</td>\n",
       "      <td>[24.6208401069, 24.8288068851, 25.0606230644, ...</td>\n",
       "      <td>[24.2287559517, 24.3212916282, 24.4825135801, ...</td>\n",
       "      <td>[24.3670824784, 24.5054090052, 24.6675849332, ...</td>\n",
       "      <td>[24.2516513768, 24.4128733287, 24.5979446817, ...</td>\n",
       "    </tr>\n",
       "    <tr>\n",
       "      <th>dt</th>\n",
       "      <td>[2012-05-07 17:00:00, 2012-05-07 17:15:00, 201...</td>\n",
       "      <td>[2012-05-07 17:00:00, 2012-05-07 17:15:00, 201...</td>\n",
       "      <td>[2012-05-07 17:00:00, 2012-05-07 17:15:00, 201...</td>\n",
       "      <td>[2012-05-07 17:00:00, 2012-05-07 17:15:00, 201...</td>\n",
       "      <td>[2012-05-07 17:00:00, 2012-05-07 17:15:00, 201...</td>\n",
       "    </tr>\n",
       "  </tbody>\n",
       "</table>\n",
       "</div>"
      ],
      "text/plain": [
       "                                                   42  \\\n",
       "RH  [74.8168270018, 74.8016755674, 74.7067265784, ...   \n",
       "T   [23.8137763713, 23.8824626467, 23.9978937483, ...   \n",
       "dt  [2012-05-07 17:00:00, 2012-05-07 17:15:00, 201...   \n",
       "\n",
       "                                                   61  \\\n",
       "RH  [32.3907904719, 32.8524041735, 33.3837144734, ...   \n",
       "T   [24.6208401069, 24.8288068851, 25.0606230644, ...   \n",
       "dt  [2012-05-07 17:00:00, 2012-05-07 17:15:00, 201...   \n",
       "\n",
       "                                                   54  \\\n",
       "RH  [37.3523801923, 37.4958137713, 38.1493456421, ...   \n",
       "T   [24.2287559517, 24.3212916282, 24.4825135801, ...   \n",
       "dt  [2012-05-07 17:00:00, 2012-05-07 17:15:00, 201...   \n",
       "\n",
       "                                                   58  \\\n",
       "RH  [34.7412829962, 34.5180518626, 34.9725948948, ...   \n",
       "T   [24.3670824784, 24.5054090052, 24.6675849332, ...   \n",
       "dt  [2012-05-07 17:00:00, 2012-05-07 17:15:00, 201...   \n",
       "\n",
       "                                                   62  \n",
       "RH  [33.2402808943, 34.0008829015, 34.4251230649, ...  \n",
       "T   [24.2516513768, 24.4128733287, 24.5979446817, ...  \n",
       "dt  [2012-05-07 17:00:00, 2012-05-07 17:15:00, 201...  "
      ]
     },
     "execution_count": 11,
     "metadata": {},
     "output_type": "execute_result"
    }
   ],
   "source": [
    "#example\n",
    "dfUrsula=get_tree_table('Ursula')\n",
    "dfUrsula.head()"
   ]
  },
  {
   "cell_type": "code",
   "execution_count": 13,
   "metadata": {},
   "outputs": [
    {
     "name": "stdout",
     "output_type": "stream",
     "text": [
      "[('Ursula', '5m'), ('Ursula', '10m'), ('Ursula', '15m'), ('Ursula', '20m'), ('Ursula', '25m')]\n"
     ]
    }
   ],
   "source": [
    "#if you want to know what sensors the column names correspond to:\n",
    "#note the columns are not sorted based on its height; they are sorted by their sensor ID numbers\n",
    "column_ID_names=[IDsensor[x] for x in list(dfUrsula.columns.values)]\n",
    "print (column_ID_names)\n",
    "#note the columns are ordered from low to high in sensor height"
   ]
  },
  {
   "cell_type": "code",
   "execution_count": 18,
   "metadata": {
    "collapsed": true
   },
   "outputs": [],
   "source": [
    "#not all time series have the same length, and we solve this problem here\n",
    "#this function takes in a tree name, and gives all data about this tree, that span the same time range. \n",
    "#if one sensor has a shorter time period of records, then all data from other sensors will also be within this period. \n",
    "#this is to deal with the time truncation\n",
    "from operator import *\n",
    "def truncated_tree(tree):\n",
    "    table=get_tree_table(tree)\n",
    "    timestamp=table.ix['dt']\n",
    "    startdate=max(timestamp.apply(itemgetter(0)))\n",
    "    enddate=min(timestamp.apply(itemgetter(-1)))\n",
    "    print(startdate)\n",
    "    print(enddate)\n",
    "    #column_no=len(table.columns)\n",
    "    def mask_by_range(column):\n",
    "        #print column\n",
    "        #print column.ix['dt']\n",
    "        timemask=(column.ix['dt']>=startdate) & (column.ix['dt']<=enddate)\n",
    "        return column.apply(itemgetter(timemask))\n",
    "    return table.apply(mask_by_range)"
   ]
  },
  {
   "cell_type": "code",
   "execution_count": 19,
   "metadata": {},
   "outputs": [
    {
     "name": "stdout",
     "output_type": "stream",
     "text": [
      "2012-05-07 17:00:00\n",
      "2012-07-22 13:00:00\n",
      "         42       61       54       58       62\n",
      "RH  (7281,)  (7281,)  (7281,)  (7281,)  (7281,)\n",
      "T   (7281,)  (7281,)  (7281,)  (7281,)  (7281,)\n",
      "dt  (7281,)  (7281,)  (7281,)  (7281,)  (7281,)\n",
      "         42        61        54        58        62\n",
      "RH  (7281,)  (12551,)  (12552,)  (12552,)  (12551,)\n",
      "T   (7281,)  (12551,)  (12552,)  (12552,)  (12551,)\n",
      "dt  (7281,)  (12551,)  (12552,)  (12552,)  (12551,)\n"
     ]
    }
   ],
   "source": [
    "#example: see how the time-truncated tree data A differs from the original tree data B\n",
    "A=truncated_tree('Ursula')\n",
    "B=get_tree_table('Ursula')\n",
    "print (A.applymap(np.shape))#this shows the size of arrays in each cell in the dataframe\n",
    "print (B.applymap(np.shape))"
   ]
  },
  {
   "cell_type": "code",
   "execution_count": 367,
   "metadata": {},
   "outputs": [
    {
     "data": {
      "text/html": [
       "<div>\n",
       "<table border=\"1\" class=\"dataframe\">\n",
       "  <thead>\n",
       "    <tr style=\"text-align: right;\">\n",
       "      <th></th>\n",
       "      <th>42</th>\n",
       "      <th>61</th>\n",
       "      <th>54</th>\n",
       "      <th>58</th>\n",
       "      <th>62</th>\n",
       "    </tr>\n",
       "  </thead>\n",
       "  <tbody>\n",
       "    <tr>\n",
       "      <th>T</th>\n",
       "      <td>[23.8137763713, 23.8824626467, 23.9978937483, ...</td>\n",
       "      <td>[24.6208401069, 24.8288068851, 25.0606230644, ...</td>\n",
       "      <td>[24.2287559517, 24.3212916282, 24.4825135801, ...</td>\n",
       "      <td>[24.3670824784, 24.5054090052, 24.6675849332, ...</td>\n",
       "      <td>[24.2516513768, 24.4128733287, 24.5979446817, ...</td>\n",
       "    </tr>\n",
       "  </tbody>\n",
       "</table>\n",
       "</div>"
      ],
      "text/plain": [
       "                                                  42  \\\n",
       "T  [23.8137763713, 23.8824626467, 23.9978937483, ...   \n",
       "\n",
       "                                                  61  \\\n",
       "T  [24.6208401069, 24.8288068851, 25.0606230644, ...   \n",
       "\n",
       "                                                  54  \\\n",
       "T  [24.2287559517, 24.3212916282, 24.4825135801, ...   \n",
       "\n",
       "                                                  58  \\\n",
       "T  [24.3670824784, 24.5054090052, 24.6675849332, ...   \n",
       "\n",
       "                                                  62  \n",
       "T  [24.2516513768, 24.4128733287, 24.5979446817, ...  "
      ]
     },
     "execution_count": 367,
     "metadata": {},
     "output_type": "execute_result"
    }
   ],
   "source": [
    "#now we work on the temperature row for tree Ursula\n",
    "truncated_Ursula=truncated_tree('Ursula')\n",
    "truncated_Ursula.head()\n",
    "Ursula_T=truncated_Ursula.iloc[[1]]\n",
    "Ursula_T.head()"
   ]
  },
  {
   "cell_type": "code",
   "execution_count": 368,
   "metadata": {},
   "outputs": [
    {
     "data": {
      "text/html": [
       "<div>\n",
       "<table border=\"1\" class=\"dataframe\">\n",
       "  <thead>\n",
       "    <tr style=\"text-align: right;\">\n",
       "      <th></th>\n",
       "      <th>42</th>\n",
       "      <th>61</th>\n",
       "      <th>54</th>\n",
       "      <th>58</th>\n",
       "      <th>62</th>\n",
       "    </tr>\n",
       "  </thead>\n",
       "  <tbody>\n",
       "    <tr>\n",
       "      <th>0</th>\n",
       "      <td>23.813776</td>\n",
       "      <td>24.620840</td>\n",
       "      <td>24.228756</td>\n",
       "      <td>24.367082</td>\n",
       "      <td>24.251651</td>\n",
       "    </tr>\n",
       "    <tr>\n",
       "      <th>1</th>\n",
       "      <td>23.882463</td>\n",
       "      <td>24.828807</td>\n",
       "      <td>24.321292</td>\n",
       "      <td>24.505409</td>\n",
       "      <td>24.412873</td>\n",
       "    </tr>\n",
       "    <tr>\n",
       "      <th>2</th>\n",
       "      <td>23.997894</td>\n",
       "      <td>25.060623</td>\n",
       "      <td>24.482514</td>\n",
       "      <td>24.667585</td>\n",
       "      <td>24.597945</td>\n",
       "    </tr>\n",
       "    <tr>\n",
       "      <th>3</th>\n",
       "      <td>24.090429</td>\n",
       "      <td>25.199904</td>\n",
       "      <td>24.597945</td>\n",
       "      <td>24.828807</td>\n",
       "      <td>24.736271</td>\n",
       "    </tr>\n",
       "    <tr>\n",
       "      <th>4</th>\n",
       "      <td>24.136220</td>\n",
       "      <td>25.222799</td>\n",
       "      <td>24.690480</td>\n",
       "      <td>24.898447</td>\n",
       "      <td>24.805911</td>\n",
       "    </tr>\n",
       "  </tbody>\n",
       "</table>\n",
       "</div>"
      ],
      "text/plain": [
       "          42         61         54         58         62\n",
       "0  23.813776  24.620840  24.228756  24.367082  24.251651\n",
       "1  23.882463  24.828807  24.321292  24.505409  24.412873\n",
       "2  23.997894  25.060623  24.482514  24.667585  24.597945\n",
       "3  24.090429  25.199904  24.597945  24.828807  24.736271\n",
       "4  24.136220  25.222799  24.690480  24.898447  24.805911"
      ]
     },
     "execution_count": 368,
     "metadata": {},
     "output_type": "execute_result"
    }
   ],
   "source": [
    "#expand this dataframe, so that computation is easier\n",
    "UrsulaT=pd.DataFrame(zip(*map(lambda a: a.tolist(), Ursula_T.values[0].tolist())), columns=Ursula_T.columns)\n",
    "UrsulaT.head()"
   ]
  },
  {
   "cell_type": "code",
   "execution_count": 369,
   "metadata": {
    "collapsed": true
   },
   "outputs": [],
   "source": [
    "#define a function to calculate anomaly\n",
    "#can define a standard deviation the same way, so that the next step can call this function\n",
    "def do_anomaly(row):\n",
    "    return row-np.mean(row)\n"
   ]
  },
  {
   "cell_type": "code",
   "execution_count": 370,
   "metadata": {},
   "outputs": [
    {
     "data": {
      "text/html": [
       "<div>\n",
       "<table border=\"1\" class=\"dataframe\">\n",
       "  <thead>\n",
       "    <tr style=\"text-align: right;\">\n",
       "      <th></th>\n",
       "      <th>42</th>\n",
       "      <th>61</th>\n",
       "      <th>54</th>\n",
       "      <th>58</th>\n",
       "      <th>62</th>\n",
       "    </tr>\n",
       "  </thead>\n",
       "  <tbody>\n",
       "    <tr>\n",
       "      <th>0</th>\n",
       "      <td>-0.442645</td>\n",
       "      <td>0.364419</td>\n",
       "      <td>-0.027665</td>\n",
       "      <td>0.110661</td>\n",
       "      <td>-0.004770</td>\n",
       "    </tr>\n",
       "    <tr>\n",
       "      <th>1</th>\n",
       "      <td>-0.507706</td>\n",
       "      <td>0.438638</td>\n",
       "      <td>-0.068877</td>\n",
       "      <td>0.115240</td>\n",
       "      <td>0.022705</td>\n",
       "    </tr>\n",
       "    <tr>\n",
       "      <th>2</th>\n",
       "      <td>-0.563418</td>\n",
       "      <td>0.499311</td>\n",
       "      <td>-0.078798</td>\n",
       "      <td>0.106273</td>\n",
       "      <td>0.036633</td>\n",
       "    </tr>\n",
       "    <tr>\n",
       "      <th>3</th>\n",
       "      <td>-0.600242</td>\n",
       "      <td>0.509232</td>\n",
       "      <td>-0.092726</td>\n",
       "      <td>0.138136</td>\n",
       "      <td>0.045600</td>\n",
       "    </tr>\n",
       "    <tr>\n",
       "      <th>4</th>\n",
       "      <td>-0.614551</td>\n",
       "      <td>0.472027</td>\n",
       "      <td>-0.060291</td>\n",
       "      <td>0.147675</td>\n",
       "      <td>0.055140</td>\n",
       "    </tr>\n",
       "  </tbody>\n",
       "</table>\n",
       "</div>"
      ],
      "text/plain": [
       "         42        61        54        58        62\n",
       "0 -0.442645  0.364419 -0.027665  0.110661 -0.004770\n",
       "1 -0.507706  0.438638 -0.068877  0.115240  0.022705\n",
       "2 -0.563418  0.499311 -0.078798  0.106273  0.036633\n",
       "3 -0.600242  0.509232 -0.092726  0.138136  0.045600\n",
       "4 -0.614551  0.472027 -0.060291  0.147675  0.055140"
      ]
     },
     "execution_count": 370,
     "metadata": {},
     "output_type": "execute_result"
    }
   ],
   "source": [
    "#Calculate the anomaly. the mean is calculated at each time step, as in the original iPythonNotebook\n",
    "#why isn't the mean a personal mean? what information does a time-step anomaly tell us?\n",
    "Ursula_anomaly=UrsulaT.apply(do_anomaly,axis=1)\n",
    "Ursula_anomaly.head()\n"
   ]
  },
  {
   "cell_type": "code",
   "execution_count": 379,
   "metadata": {},
   "outputs": [
    {
     "data": {
      "text/plain": [
       "<matplotlib.colorbar.Colorbar at 0x141078950>"
      ]
     },
     "execution_count": 379,
     "metadata": {},
     "output_type": "execute_result"
    },
    {
     "data": {
      "image/png": "[encoded data removed]",
      "text/plain": [
       "<matplotlib.figure.Figure at 0x13d85bb50>"
      ]
     },
     "metadata": {},
     "output_type": "display_data"
    }
   ],
   "source": [
    "#plotting the time-step anomaly, aka at each time, how much colder/warmer is a specific height compared to the whole tree\n",
    "plt.pcolor(Ursula_anomaly,vmin=-0.8,vmax=0.8,cmap='bwr')\n",
    "plt.xlabel(column_ID_names)\n",
    "plt.ylabel('time')\n",
    "plt.colorbar()"
   ]
  },
  {
   "cell_type": "markdown",
   "metadata": {},
   "source": [
    "this plot basically says: \n",
    "    \n",
    "lower in a tree is cooler\n",
    "\n",
    "in summer(July), this difference is more obvious than in fall (September)"
   ]
  },
  {
   "cell_type": "code",
   "execution_count": 386,
   "metadata": {},
   "outputs": [
    {
     "data": {
      "text/plain": [
       "<matplotlib.colorbar.Colorbar at 0x1533e8e10>"
      ]
     },
     "execution_count": 386,
     "metadata": {},
     "output_type": "execute_result"
    },
    {
     "data": {
      "image/png": "[encoded data removed]",
      "text/plain": [
       "<matplotlib.figure.Figure at 0x142b5f610>"
      ]
     },
     "metadata": {},
     "output_type": "display_data"
    }
   ],
   "source": [
    "#showing personal anomaly at each sensor height\n",
    "Ursula_anomaly_personal=UrsulaT.apply(do_anomaly,axis=0)\n",
    "plt.pcolor(Ursula_anomaly_personal,vmin=3,vmax=3,cmap='bwr')\n",
    "plt.xlabel(column_ID_names)\n",
    "plt.ylabel('time')\n",
    "plt.colorbar()"
   ]
  },
  {
   "cell_type": "markdown",
   "metadata": {},
   "source": [
    "this plot says:\n",
    "    \n",
    "some days are really cold\n",
    "\n",
    "lower level is less influenced by temperature change; you see more white lines to the left. "
   ]
  },
  {
   "cell_type": "code",
   "execution_count": null,
   "metadata": {
    "collapsed": true
   },
   "outputs": [],
   "source": []
  }
 ],
 "metadata": {
  "anaconda-cloud": {},
  "kernelspec": {
   "display_name": "Python 3",
   "language": "python",
   "name": "python3"
  },
  "language_info": {
   "codemirror_mode": {
    "name": "ipython",
    "version": 3
   },
   "file_extension": ".py",
   "mimetype": "text/x-python",
   "name": "python",
   "nbconvert_exporter": "python",
   "pygments_lexer": "ipython3",
   "version": "3.5.2"
  }
 },
 "nbformat": 4,
 "nbformat_minor": 1
}
